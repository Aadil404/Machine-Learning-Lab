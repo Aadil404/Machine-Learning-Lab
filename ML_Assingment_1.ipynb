{
  "nbformat": 4,
  "nbformat_minor": 0,
  "metadata": {
    "colab": {
      "provenance": [],
      "toc_visible": true,
      "authorship_tag": "ABX9TyO8arYm+yye4Mh2lb77RWNG",
      "include_colab_link": true
    },
    "kernelspec": {
      "name": "python3",
      "display_name": "Python 3"
    },
    "language_info": {
      "name": "python"
    }
  },
  "cells": [
    {
      "cell_type": "markdown",
      "metadata": {
        "id": "view-in-github",
        "colab_type": "text"
      },
      "source": [
        "<a href=\"https://colab.research.google.com/github/Aadil404/Machine-Learning-Lab/blob/main/ML_Assingment_1.ipynb\" target=\"_parent\"><img src=\"https://colab.research.google.com/assets/colab-badge.svg\" alt=\"Open In Colab\"/></a>"
      ]
    },
    {
      "cell_type": "code",
      "source": [
        "import pandas as pd\n",
        "import numpy as np\n",
        "import matplotlib.pyplot as plt"
      ],
      "metadata": {
        "id": "-p8pnwxVDxoq"
      },
      "execution_count": 141,
      "outputs": []
    },
    {
      "cell_type": "code",
      "execution_count": 142,
      "metadata": {
        "colab": {
          "base_uri": "https://localhost:8080/"
        },
        "id": "hHJyEcW0oMPG",
        "outputId": "c00b3848-f22c-4202-870e-d43b93e1a9c8"
      },
      "outputs": [
        {
          "output_type": "stream",
          "name": "stdout",
          "text": [
            "Requirement already satisfied: ucimlrepo in /usr/local/lib/python3.11/dist-packages (0.0.7)\n",
            "Requirement already satisfied: pandas>=1.0.0 in /usr/local/lib/python3.11/dist-packages (from ucimlrepo) (2.2.2)\n",
            "Requirement already satisfied: certifi>=2020.12.5 in /usr/local/lib/python3.11/dist-packages (from ucimlrepo) (2025.8.3)\n",
            "Requirement already satisfied: numpy>=1.23.2 in /usr/local/lib/python3.11/dist-packages (from pandas>=1.0.0->ucimlrepo) (2.0.2)\n",
            "Requirement already satisfied: python-dateutil>=2.8.2 in /usr/local/lib/python3.11/dist-packages (from pandas>=1.0.0->ucimlrepo) (2.9.0.post0)\n",
            "Requirement already satisfied: pytz>=2020.1 in /usr/local/lib/python3.11/dist-packages (from pandas>=1.0.0->ucimlrepo) (2025.2)\n",
            "Requirement already satisfied: tzdata>=2022.7 in /usr/local/lib/python3.11/dist-packages (from pandas>=1.0.0->ucimlrepo) (2025.2)\n",
            "Requirement already satisfied: six>=1.5 in /usr/local/lib/python3.11/dist-packages (from python-dateutil>=2.8.2->pandas>=1.0.0->ucimlrepo) (1.17.0)\n"
          ]
        }
      ],
      "source": [
        "!pip install ucimlrepo"
      ]
    },
    {
      "cell_type": "markdown",
      "source": [
        "# **Iris Plant Dataset Preparation**"
      ],
      "metadata": {
        "id": "s2O85W195PaL"
      }
    },
    {
      "cell_type": "code",
      "source": [
        "from ucimlrepo import fetch_ucirepo\n",
        "\n",
        "# fetch dataset\n",
        "iris = fetch_ucirepo(id=53)\n",
        "\n",
        "# data (as pandas dataframes)\n",
        "X = iris.data.features\n",
        "y = iris.data.targets\n",
        "\n",
        "# metadata\n",
        "print(iris.metadata)\n",
        "\n",
        "# variable information\n",
        "print(iris.variables)\n"
      ],
      "metadata": {
        "colab": {
          "base_uri": "https://localhost:8080/"
        },
        "id": "ksm0-NxspM86",
        "outputId": "9d6df41f-9a1f-44c1-f537-59ba2a007b40"
      },
      "execution_count": 143,
      "outputs": [
        {
          "output_type": "stream",
          "name": "stdout",
          "text": [
            "{'uci_id': 53, 'name': 'Iris', 'repository_url': 'https://archive.ics.uci.edu/dataset/53/iris', 'data_url': 'https://archive.ics.uci.edu/static/public/53/data.csv', 'abstract': 'A small classic dataset from Fisher, 1936. One of the earliest known datasets used for evaluating classification methods.\\n', 'area': 'Biology', 'tasks': ['Classification'], 'characteristics': ['Tabular'], 'num_instances': 150, 'num_features': 4, 'feature_types': ['Real'], 'demographics': [], 'target_col': ['class'], 'index_col': None, 'has_missing_values': 'no', 'missing_values_symbol': None, 'year_of_dataset_creation': 1936, 'last_updated': 'Tue Sep 12 2023', 'dataset_doi': '10.24432/C56C76', 'creators': ['R. A. Fisher'], 'intro_paper': {'ID': 191, 'type': 'NATIVE', 'title': 'The Iris data set: In search of the source of virginica', 'authors': 'A. Unwin, K. Kleinman', 'venue': 'Significance, 2021', 'year': 2021, 'journal': 'Significance, 2021', 'DOI': '1740-9713.01589', 'URL': 'https://www.semanticscholar.org/paper/4599862ea877863669a6a8e63a3c707a787d5d7e', 'sha': None, 'corpus': None, 'arxiv': None, 'mag': None, 'acl': None, 'pmid': None, 'pmcid': None}, 'additional_info': {'summary': 'This is one of the earliest datasets used in the literature on classification methods and widely used in statistics and machine learning.  The data set contains 3 classes of 50 instances each, where each class refers to a type of iris plant.  One class is linearly separable from the other 2; the latter are not linearly separable from each other.\\n\\nPredicted attribute: class of iris plant.\\n\\nThis is an exceedingly simple domain.\\n\\nThis data differs from the data presented in Fishers article (identified by Steve Chadwick,  spchadwick@espeedaz.net ).  The 35th sample should be: 4.9,3.1,1.5,0.2,\"Iris-setosa\" where the error is in the fourth feature. The 38th sample: 4.9,3.6,1.4,0.1,\"Iris-setosa\" where the errors are in the second and third features.  ', 'purpose': 'N/A', 'funded_by': None, 'instances_represent': 'Each instance is a plant', 'recommended_data_splits': None, 'sensitive_data': None, 'preprocessing_description': None, 'variable_info': None, 'citation': None}}\n",
            "           name     role         type demographic  \\\n",
            "0  sepal length  Feature   Continuous        None   \n",
            "1   sepal width  Feature   Continuous        None   \n",
            "2  petal length  Feature   Continuous        None   \n",
            "3   petal width  Feature   Continuous        None   \n",
            "4         class   Target  Categorical        None   \n",
            "\n",
            "                                         description units missing_values  \n",
            "0                                               None    cm             no  \n",
            "1                                               None    cm             no  \n",
            "2                                               None    cm             no  \n",
            "3                                               None    cm             no  \n",
            "4  class of iris plant: Iris Setosa, Iris Versico...  None             no  \n"
          ]
        }
      ]
    },
    {
      "cell_type": "code",
      "source": [
        "X"
      ],
      "metadata": {
        "colab": {
          "base_uri": "https://localhost:8080/",
          "height": 423
        },
        "id": "6gdTQQ2ErPUK",
        "outputId": "c5320c47-4a1a-4b22-d425-5d199d8f4627"
      },
      "execution_count": 144,
      "outputs": [
        {
          "output_type": "execute_result",
          "data": {
            "text/plain": [
              "     sepal length  sepal width  petal length  petal width\n",
              "0             5.1          3.5           1.4          0.2\n",
              "1             4.9          3.0           1.4          0.2\n",
              "2             4.7          3.2           1.3          0.2\n",
              "3             4.6          3.1           1.5          0.2\n",
              "4             5.0          3.6           1.4          0.2\n",
              "..            ...          ...           ...          ...\n",
              "145           6.7          3.0           5.2          2.3\n",
              "146           6.3          2.5           5.0          1.9\n",
              "147           6.5          3.0           5.2          2.0\n",
              "148           6.2          3.4           5.4          2.3\n",
              "149           5.9          3.0           5.1          1.8\n",
              "\n",
              "[150 rows x 4 columns]"
            ],
            "text/html": [
              "\n",
              "  <div id=\"df-06c18706-e126-4e54-b035-ba0505aa1ebc\" class=\"colab-df-container\">\n",
              "    <div>\n",
              "<style scoped>\n",
              "    .dataframe tbody tr th:only-of-type {\n",
              "        vertical-align: middle;\n",
              "    }\n",
              "\n",
              "    .dataframe tbody tr th {\n",
              "        vertical-align: top;\n",
              "    }\n",
              "\n",
              "    .dataframe thead th {\n",
              "        text-align: right;\n",
              "    }\n",
              "</style>\n",
              "<table border=\"1\" class=\"dataframe\">\n",
              "  <thead>\n",
              "    <tr style=\"text-align: right;\">\n",
              "      <th></th>\n",
              "      <th>sepal length</th>\n",
              "      <th>sepal width</th>\n",
              "      <th>petal length</th>\n",
              "      <th>petal width</th>\n",
              "    </tr>\n",
              "  </thead>\n",
              "  <tbody>\n",
              "    <tr>\n",
              "      <th>0</th>\n",
              "      <td>5.1</td>\n",
              "      <td>3.5</td>\n",
              "      <td>1.4</td>\n",
              "      <td>0.2</td>\n",
              "    </tr>\n",
              "    <tr>\n",
              "      <th>1</th>\n",
              "      <td>4.9</td>\n",
              "      <td>3.0</td>\n",
              "      <td>1.4</td>\n",
              "      <td>0.2</td>\n",
              "    </tr>\n",
              "    <tr>\n",
              "      <th>2</th>\n",
              "      <td>4.7</td>\n",
              "      <td>3.2</td>\n",
              "      <td>1.3</td>\n",
              "      <td>0.2</td>\n",
              "    </tr>\n",
              "    <tr>\n",
              "      <th>3</th>\n",
              "      <td>4.6</td>\n",
              "      <td>3.1</td>\n",
              "      <td>1.5</td>\n",
              "      <td>0.2</td>\n",
              "    </tr>\n",
              "    <tr>\n",
              "      <th>4</th>\n",
              "      <td>5.0</td>\n",
              "      <td>3.6</td>\n",
              "      <td>1.4</td>\n",
              "      <td>0.2</td>\n",
              "    </tr>\n",
              "    <tr>\n",
              "      <th>...</th>\n",
              "      <td>...</td>\n",
              "      <td>...</td>\n",
              "      <td>...</td>\n",
              "      <td>...</td>\n",
              "    </tr>\n",
              "    <tr>\n",
              "      <th>145</th>\n",
              "      <td>6.7</td>\n",
              "      <td>3.0</td>\n",
              "      <td>5.2</td>\n",
              "      <td>2.3</td>\n",
              "    </tr>\n",
              "    <tr>\n",
              "      <th>146</th>\n",
              "      <td>6.3</td>\n",
              "      <td>2.5</td>\n",
              "      <td>5.0</td>\n",
              "      <td>1.9</td>\n",
              "    </tr>\n",
              "    <tr>\n",
              "      <th>147</th>\n",
              "      <td>6.5</td>\n",
              "      <td>3.0</td>\n",
              "      <td>5.2</td>\n",
              "      <td>2.0</td>\n",
              "    </tr>\n",
              "    <tr>\n",
              "      <th>148</th>\n",
              "      <td>6.2</td>\n",
              "      <td>3.4</td>\n",
              "      <td>5.4</td>\n",
              "      <td>2.3</td>\n",
              "    </tr>\n",
              "    <tr>\n",
              "      <th>149</th>\n",
              "      <td>5.9</td>\n",
              "      <td>3.0</td>\n",
              "      <td>5.1</td>\n",
              "      <td>1.8</td>\n",
              "    </tr>\n",
              "  </tbody>\n",
              "</table>\n",
              "<p>150 rows × 4 columns</p>\n",
              "</div>\n",
              "    <div class=\"colab-df-buttons\">\n",
              "\n",
              "  <div class=\"colab-df-container\">\n",
              "    <button class=\"colab-df-convert\" onclick=\"convertToInteractive('df-06c18706-e126-4e54-b035-ba0505aa1ebc')\"\n",
              "            title=\"Convert this dataframe to an interactive table.\"\n",
              "            style=\"display:none;\">\n",
              "\n",
              "  <svg xmlns=\"http://www.w3.org/2000/svg\" height=\"24px\" viewBox=\"0 -960 960 960\">\n",
              "    <path d=\"M120-120v-720h720v720H120Zm60-500h600v-160H180v160Zm220 220h160v-160H400v160Zm0 220h160v-160H400v160ZM180-400h160v-160H180v160Zm440 0h160v-160H620v160ZM180-180h160v-160H180v160Zm440 0h160v-160H620v160Z\"/>\n",
              "  </svg>\n",
              "    </button>\n",
              "\n",
              "  <style>\n",
              "    .colab-df-container {\n",
              "      display:flex;\n",
              "      gap: 12px;\n",
              "    }\n",
              "\n",
              "    .colab-df-convert {\n",
              "      background-color: #E8F0FE;\n",
              "      border: none;\n",
              "      border-radius: 50%;\n",
              "      cursor: pointer;\n",
              "      display: none;\n",
              "      fill: #1967D2;\n",
              "      height: 32px;\n",
              "      padding: 0 0 0 0;\n",
              "      width: 32px;\n",
              "    }\n",
              "\n",
              "    .colab-df-convert:hover {\n",
              "      background-color: #E2EBFA;\n",
              "      box-shadow: 0px 1px 2px rgba(60, 64, 67, 0.3), 0px 1px 3px 1px rgba(60, 64, 67, 0.15);\n",
              "      fill: #174EA6;\n",
              "    }\n",
              "\n",
              "    .colab-df-buttons div {\n",
              "      margin-bottom: 4px;\n",
              "    }\n",
              "\n",
              "    [theme=dark] .colab-df-convert {\n",
              "      background-color: #3B4455;\n",
              "      fill: #D2E3FC;\n",
              "    }\n",
              "\n",
              "    [theme=dark] .colab-df-convert:hover {\n",
              "      background-color: #434B5C;\n",
              "      box-shadow: 0px 1px 3px 1px rgba(0, 0, 0, 0.15);\n",
              "      filter: drop-shadow(0px 1px 2px rgba(0, 0, 0, 0.3));\n",
              "      fill: #FFFFFF;\n",
              "    }\n",
              "  </style>\n",
              "\n",
              "    <script>\n",
              "      const buttonEl =\n",
              "        document.querySelector('#df-06c18706-e126-4e54-b035-ba0505aa1ebc button.colab-df-convert');\n",
              "      buttonEl.style.display =\n",
              "        google.colab.kernel.accessAllowed ? 'block' : 'none';\n",
              "\n",
              "      async function convertToInteractive(key) {\n",
              "        const element = document.querySelector('#df-06c18706-e126-4e54-b035-ba0505aa1ebc');\n",
              "        const dataTable =\n",
              "          await google.colab.kernel.invokeFunction('convertToInteractive',\n",
              "                                                    [key], {});\n",
              "        if (!dataTable) return;\n",
              "\n",
              "        const docLinkHtml = 'Like what you see? Visit the ' +\n",
              "          '<a target=\"_blank\" href=https://colab.research.google.com/notebooks/data_table.ipynb>data table notebook</a>'\n",
              "          + ' to learn more about interactive tables.';\n",
              "        element.innerHTML = '';\n",
              "        dataTable['output_type'] = 'display_data';\n",
              "        await google.colab.output.renderOutput(dataTable, element);\n",
              "        const docLink = document.createElement('div');\n",
              "        docLink.innerHTML = docLinkHtml;\n",
              "        element.appendChild(docLink);\n",
              "      }\n",
              "    </script>\n",
              "  </div>\n",
              "\n",
              "\n",
              "    <div id=\"df-497ee420-ec64-49ca-9309-b1cdf822b7f4\">\n",
              "      <button class=\"colab-df-quickchart\" onclick=\"quickchart('df-497ee420-ec64-49ca-9309-b1cdf822b7f4')\"\n",
              "                title=\"Suggest charts\"\n",
              "                style=\"display:none;\">\n",
              "\n",
              "<svg xmlns=\"http://www.w3.org/2000/svg\" height=\"24px\"viewBox=\"0 0 24 24\"\n",
              "     width=\"24px\">\n",
              "    <g>\n",
              "        <path d=\"M19 3H5c-1.1 0-2 .9-2 2v14c0 1.1.9 2 2 2h14c1.1 0 2-.9 2-2V5c0-1.1-.9-2-2-2zM9 17H7v-7h2v7zm4 0h-2V7h2v10zm4 0h-2v-4h2v4z\"/>\n",
              "    </g>\n",
              "</svg>\n",
              "      </button>\n",
              "\n",
              "<style>\n",
              "  .colab-df-quickchart {\n",
              "      --bg-color: #E8F0FE;\n",
              "      --fill-color: #1967D2;\n",
              "      --hover-bg-color: #E2EBFA;\n",
              "      --hover-fill-color: #174EA6;\n",
              "      --disabled-fill-color: #AAA;\n",
              "      --disabled-bg-color: #DDD;\n",
              "  }\n",
              "\n",
              "  [theme=dark] .colab-df-quickchart {\n",
              "      --bg-color: #3B4455;\n",
              "      --fill-color: #D2E3FC;\n",
              "      --hover-bg-color: #434B5C;\n",
              "      --hover-fill-color: #FFFFFF;\n",
              "      --disabled-bg-color: #3B4455;\n",
              "      --disabled-fill-color: #666;\n",
              "  }\n",
              "\n",
              "  .colab-df-quickchart {\n",
              "    background-color: var(--bg-color);\n",
              "    border: none;\n",
              "    border-radius: 50%;\n",
              "    cursor: pointer;\n",
              "    display: none;\n",
              "    fill: var(--fill-color);\n",
              "    height: 32px;\n",
              "    padding: 0;\n",
              "    width: 32px;\n",
              "  }\n",
              "\n",
              "  .colab-df-quickchart:hover {\n",
              "    background-color: var(--hover-bg-color);\n",
              "    box-shadow: 0 1px 2px rgba(60, 64, 67, 0.3), 0 1px 3px 1px rgba(60, 64, 67, 0.15);\n",
              "    fill: var(--button-hover-fill-color);\n",
              "  }\n",
              "\n",
              "  .colab-df-quickchart-complete:disabled,\n",
              "  .colab-df-quickchart-complete:disabled:hover {\n",
              "    background-color: var(--disabled-bg-color);\n",
              "    fill: var(--disabled-fill-color);\n",
              "    box-shadow: none;\n",
              "  }\n",
              "\n",
              "  .colab-df-spinner {\n",
              "    border: 2px solid var(--fill-color);\n",
              "    border-color: transparent;\n",
              "    border-bottom-color: var(--fill-color);\n",
              "    animation:\n",
              "      spin 1s steps(1) infinite;\n",
              "  }\n",
              "\n",
              "  @keyframes spin {\n",
              "    0% {\n",
              "      border-color: transparent;\n",
              "      border-bottom-color: var(--fill-color);\n",
              "      border-left-color: var(--fill-color);\n",
              "    }\n",
              "    20% {\n",
              "      border-color: transparent;\n",
              "      border-left-color: var(--fill-color);\n",
              "      border-top-color: var(--fill-color);\n",
              "    }\n",
              "    30% {\n",
              "      border-color: transparent;\n",
              "      border-left-color: var(--fill-color);\n",
              "      border-top-color: var(--fill-color);\n",
              "      border-right-color: var(--fill-color);\n",
              "    }\n",
              "    40% {\n",
              "      border-color: transparent;\n",
              "      border-right-color: var(--fill-color);\n",
              "      border-top-color: var(--fill-color);\n",
              "    }\n",
              "    60% {\n",
              "      border-color: transparent;\n",
              "      border-right-color: var(--fill-color);\n",
              "    }\n",
              "    80% {\n",
              "      border-color: transparent;\n",
              "      border-right-color: var(--fill-color);\n",
              "      border-bottom-color: var(--fill-color);\n",
              "    }\n",
              "    90% {\n",
              "      border-color: transparent;\n",
              "      border-bottom-color: var(--fill-color);\n",
              "    }\n",
              "  }\n",
              "</style>\n",
              "\n",
              "      <script>\n",
              "        async function quickchart(key) {\n",
              "          const quickchartButtonEl =\n",
              "            document.querySelector('#' + key + ' button');\n",
              "          quickchartButtonEl.disabled = true;  // To prevent multiple clicks.\n",
              "          quickchartButtonEl.classList.add('colab-df-spinner');\n",
              "          try {\n",
              "            const charts = await google.colab.kernel.invokeFunction(\n",
              "                'suggestCharts', [key], {});\n",
              "          } catch (error) {\n",
              "            console.error('Error during call to suggestCharts:', error);\n",
              "          }\n",
              "          quickchartButtonEl.classList.remove('colab-df-spinner');\n",
              "          quickchartButtonEl.classList.add('colab-df-quickchart-complete');\n",
              "        }\n",
              "        (() => {\n",
              "          let quickchartButtonEl =\n",
              "            document.querySelector('#df-497ee420-ec64-49ca-9309-b1cdf822b7f4 button');\n",
              "          quickchartButtonEl.style.display =\n",
              "            google.colab.kernel.accessAllowed ? 'block' : 'none';\n",
              "        })();\n",
              "      </script>\n",
              "    </div>\n",
              "\n",
              "  <div id=\"id_ad574199-9a70-45d7-bfed-a3a7ef47bb7e\">\n",
              "    <style>\n",
              "      .colab-df-generate {\n",
              "        background-color: #E8F0FE;\n",
              "        border: none;\n",
              "        border-radius: 50%;\n",
              "        cursor: pointer;\n",
              "        display: none;\n",
              "        fill: #1967D2;\n",
              "        height: 32px;\n",
              "        padding: 0 0 0 0;\n",
              "        width: 32px;\n",
              "      }\n",
              "\n",
              "      .colab-df-generate:hover {\n",
              "        background-color: #E2EBFA;\n",
              "        box-shadow: 0px 1px 2px rgba(60, 64, 67, 0.3), 0px 1px 3px 1px rgba(60, 64, 67, 0.15);\n",
              "        fill: #174EA6;\n",
              "      }\n",
              "\n",
              "      [theme=dark] .colab-df-generate {\n",
              "        background-color: #3B4455;\n",
              "        fill: #D2E3FC;\n",
              "      }\n",
              "\n",
              "      [theme=dark] .colab-df-generate:hover {\n",
              "        background-color: #434B5C;\n",
              "        box-shadow: 0px 1px 3px 1px rgba(0, 0, 0, 0.15);\n",
              "        filter: drop-shadow(0px 1px 2px rgba(0, 0, 0, 0.3));\n",
              "        fill: #FFFFFF;\n",
              "      }\n",
              "    </style>\n",
              "    <button class=\"colab-df-generate\" onclick=\"generateWithVariable('X')\"\n",
              "            title=\"Generate code using this dataframe.\"\n",
              "            style=\"display:none;\">\n",
              "\n",
              "  <svg xmlns=\"http://www.w3.org/2000/svg\" height=\"24px\"viewBox=\"0 0 24 24\"\n",
              "       width=\"24px\">\n",
              "    <path d=\"M7,19H8.4L18.45,9,17,7.55,7,17.6ZM5,21V16.75L18.45,3.32a2,2,0,0,1,2.83,0l1.4,1.43a1.91,1.91,0,0,1,.58,1.4,1.91,1.91,0,0,1-.58,1.4L9.25,21ZM18.45,9,17,7.55Zm-12,3A5.31,5.31,0,0,0,4.9,8.1,5.31,5.31,0,0,0,1,6.5,5.31,5.31,0,0,0,4.9,4.9,5.31,5.31,0,0,0,6.5,1,5.31,5.31,0,0,0,8.1,4.9,5.31,5.31,0,0,0,12,6.5,5.46,5.46,0,0,0,6.5,12Z\"/>\n",
              "  </svg>\n",
              "    </button>\n",
              "    <script>\n",
              "      (() => {\n",
              "      const buttonEl =\n",
              "        document.querySelector('#id_ad574199-9a70-45d7-bfed-a3a7ef47bb7e button.colab-df-generate');\n",
              "      buttonEl.style.display =\n",
              "        google.colab.kernel.accessAllowed ? 'block' : 'none';\n",
              "\n",
              "      buttonEl.onclick = () => {\n",
              "        google.colab.notebook.generateWithVariable('X');\n",
              "      }\n",
              "      })();\n",
              "    </script>\n",
              "  </div>\n",
              "\n",
              "    </div>\n",
              "  </div>\n"
            ],
            "application/vnd.google.colaboratory.intrinsic+json": {
              "type": "dataframe",
              "variable_name": "X",
              "summary": "{\n  \"name\": \"X\",\n  \"rows\": 150,\n  \"fields\": [\n    {\n      \"column\": \"sepal length\",\n      \"properties\": {\n        \"dtype\": \"number\",\n        \"std\": 0.8280661279778629,\n        \"min\": 4.3,\n        \"max\": 7.9,\n        \"num_unique_values\": 35,\n        \"samples\": [\n          6.2,\n          4.5,\n          5.6\n        ],\n        \"semantic_type\": \"\",\n        \"description\": \"\"\n      }\n    },\n    {\n      \"column\": \"sepal width\",\n      \"properties\": {\n        \"dtype\": \"number\",\n        \"std\": 0.4335943113621737,\n        \"min\": 2.0,\n        \"max\": 4.4,\n        \"num_unique_values\": 23,\n        \"samples\": [\n          2.3,\n          4.0,\n          3.5\n        ],\n        \"semantic_type\": \"\",\n        \"description\": \"\"\n      }\n    },\n    {\n      \"column\": \"petal length\",\n      \"properties\": {\n        \"dtype\": \"number\",\n        \"std\": 1.7644204199522617,\n        \"min\": 1.0,\n        \"max\": 6.9,\n        \"num_unique_values\": 43,\n        \"samples\": [\n          6.7,\n          3.8,\n          3.7\n        ],\n        \"semantic_type\": \"\",\n        \"description\": \"\"\n      }\n    },\n    {\n      \"column\": \"petal width\",\n      \"properties\": {\n        \"dtype\": \"number\",\n        \"std\": 0.7631607417008414,\n        \"min\": 0.1,\n        \"max\": 2.5,\n        \"num_unique_values\": 22,\n        \"samples\": [\n          0.2,\n          1.2,\n          1.3\n        ],\n        \"semantic_type\": \"\",\n        \"description\": \"\"\n      }\n    }\n  ]\n}"
            }
          },
          "metadata": {},
          "execution_count": 144
        }
      ]
    },
    {
      "cell_type": "code",
      "source": [
        "from sklearn.preprocessing import LabelEncoder\n",
        "le = LabelEncoder()\n",
        "y_encoded = le.fit_transform(y.values.ravel())"
      ],
      "metadata": {
        "id": "1ZSVupdkrXYy"
      },
      "execution_count": 145,
      "outputs": []
    },
    {
      "cell_type": "code",
      "source": [
        "from sklearn.model_selection import train_test_split\n",
        "X_train, X_test, y_train, y_test = train_test_split(X, y_encoded, test_size=0.20, random_state=44)"
      ],
      "metadata": {
        "id": "DjPxWptaD-xK"
      },
      "execution_count": 146,
      "outputs": []
    },
    {
      "cell_type": "markdown",
      "source": [
        "# **Naive Bayes Gaussian**"
      ],
      "metadata": {
        "id": "l8ruO3vd34V8"
      }
    },
    {
      "cell_type": "code",
      "source": [
        "# Classification\n",
        "from sklearn.naive_bayes import GaussianNB\n",
        "classifier = GaussianNB()\n",
        "classifier.fit(X_train, y_train)\n",
        "y_pred = classifier.predict(X_test)\n",
        "\n",
        "# Evaluation of Classifier Performance\n",
        "from sklearn.metrics import classification_report, confusion_matrix, ConfusionMatrixDisplay\n",
        "\n",
        "# plot_confusion_matrix(classifier, X_test, y_test)\n",
        "# Use ConfusionMatrixDisplay instead\n",
        "ConfusionMatrixDisplay.from_estimator(classifier, X_test, y_test)\n",
        "plt.show()\n",
        "# print(\"Confusion Matrix:\")\n",
        "# print(confusion_matrix(y_test, y_pred))\n",
        "\n",
        "print(\"----------------------------------------------------\")\n",
        "print(\"----------------------------------------------------\")\n",
        "\n",
        "print(\"Performance Evaluation:\")\n",
        "print(classification_report(y_test, y_pred))"
      ],
      "metadata": {
        "colab": {
          "base_uri": "https://localhost:8080/",
          "height": 675
        },
        "id": "Lx8oU-AOw6YU",
        "outputId": "a0e56ee6-e514-4510-ddc9-b0f35c062c17"
      },
      "execution_count": 147,
      "outputs": [
        {
          "output_type": "display_data",
          "data": {
            "text/plain": [
              "<Figure size 640x480 with 2 Axes>"
            ],
            "image/png": "[encoded data removed]"
          },
          "metadata": {}
        },
        {
          "output_type": "stream",
          "name": "stdout",
          "text": [
            "----------------------------------------------------\n",
            "----------------------------------------------------\n",
            "Performance Evaluation:\n",
            "              precision    recall  f1-score   support\n",
            "\n",
            "           0       1.00      1.00      1.00         9\n",
            "           1       0.89      0.89      0.89         9\n",
            "           2       0.92      0.92      0.92        12\n",
            "\n",
            "    accuracy                           0.93        30\n",
            "   macro avg       0.94      0.94      0.94        30\n",
            "weighted avg       0.93      0.93      0.93        30\n",
            "\n"
          ]
        }
      ]
    },
    {
      "cell_type": "markdown",
      "source": [
        "# **Naive Bayes Multimonial**"
      ],
      "metadata": {
        "id": "ev-wnZOJ4Xx8"
      }
    },
    {
      "cell_type": "code",
      "source": [
        "# Classification\n",
        "from sklearn.naive_bayes import MultinomialNB\n",
        "classifier = MultinomialNB()\n",
        "classifier.fit(X_train, y_train)\n",
        "\n",
        "y_pred = classifier.predict(X_test)\n",
        "\n",
        "# Evaluation of Classifier Performance\n",
        "from sklearn.metrics import classification_report, confusion_matrix, ConfusionMatrixDisplay\n",
        "# print(\"Confusion Matrix:\")\n",
        "# print(confusion_matrix(y_test, y_pred))\n",
        "ConfusionMatrixDisplay.from_estimator(classifier, X_test, y_test)\n",
        "plt.show()\n",
        "\n",
        "print(\"----------------------------------------------------\")\n",
        "print(\"----------------------------------------------------\")\n",
        "\n",
        "print(\"Performance Evaluation:\")\n",
        "print(classification_report(y_test, y_pred))"
      ],
      "metadata": {
        "colab": {
          "base_uri": "https://localhost:8080/",
          "height": 681
        },
        "id": "aOZv2d-M4bpz",
        "outputId": "ff762dd0-6345-47ae-895a-16567df56f39"
      },
      "execution_count": 148,
      "outputs": [
        {
          "output_type": "display_data",
          "data": {
            "text/plain": [
              "<Figure size 640x480 with 2 Axes>"
            ],
            "image/png": "[encoded data removed]"
          },
          "metadata": {}
        },
        {
          "output_type": "stream",
          "name": "stdout",
          "text": [
            "----------------------------------------------------\n",
            "----------------------------------------------------\n",
            "Performance Evaluation:\n",
            "              precision    recall  f1-score   support\n",
            "\n",
            "           0       1.00      1.00      1.00         9\n",
            "           1       0.69      1.00      0.82         9\n",
            "           2       1.00      0.67      0.80        12\n",
            "\n",
            "    accuracy                           0.87        30\n",
            "   macro avg       0.90      0.89      0.87        30\n",
            "weighted avg       0.91      0.87      0.87        30\n",
            "\n"
          ]
        }
      ]
    },
    {
      "cell_type": "markdown",
      "source": [
        "# **Naive Bayes Bernoulli**"
      ],
      "metadata": {
        "id": "vfFCLXZx52uU"
      }
    },
    {
      "cell_type": "code",
      "source": [
        "# Classification\n",
        "\n",
        "from sklearn.naive_bayes import BernoulliNB\n",
        "classifier = BernoulliNB()\n",
        "classifier.fit(X_train, y_train)\n",
        "\n",
        "y_pred = classifier.predict(X_test)\n",
        "\n",
        "# Evaluation of Classifier Performance\n",
        "from sklearn.metrics import classification_report, confusion_matrix, ConfusionMatrixDisplay\n",
        "# print(\"Confusion Matrix:\")\n",
        "# print(confusion_matrix(y_test, y_pred))\n",
        "ConfusionMatrixDisplay.from_estimator(classifier, X_test, y_test)\n",
        "plt.show()\n",
        "\n",
        "print(\"----------------------------------------------------\")\n",
        "print(\"----------------------------------------------------\")\n",
        "\n",
        "print(\"Performance Evaluation:\")\n",
        "print(classification_report(y_test, y_pred, zero_division=1.0))"
      ],
      "metadata": {
        "colab": {
          "base_uri": "https://localhost:8080/",
          "height": 681
        },
        "id": "P2ppGgvi53ej",
        "outputId": "96177c1a-5dfc-46fe-93bb-d76f8cbe7422"
      },
      "execution_count": 149,
      "outputs": [
        {
          "output_type": "display_data",
          "data": {
            "text/plain": [
              "<Figure size 640x480 with 2 Axes>"
            ],
            "image/png": "[encoded data removed]"
          },
          "metadata": {}
        },
        {
          "output_type": "stream",
          "name": "stdout",
          "text": [
            "----------------------------------------------------\n",
            "----------------------------------------------------\n",
            "Performance Evaluation:\n",
            "              precision    recall  f1-score   support\n",
            "\n",
            "           0       0.30      1.00      0.46         9\n",
            "           1       1.00      0.00      0.00         9\n",
            "           2       1.00      0.00      0.00        12\n",
            "\n",
            "    accuracy                           0.30        30\n",
            "   macro avg       0.77      0.33      0.15        30\n",
            "weighted avg       0.79      0.30      0.14        30\n",
            "\n"
          ]
        }
      ]
    },
    {
      "cell_type": "markdown",
      "source": [
        "# **Breast Cancer Dataset Preparation**"
      ],
      "metadata": {
        "id": "bz41dMCm7WK0"
      }
    },
    {
      "cell_type": "code",
      "source": [
        "from ucimlrepo import fetch_ucirepo\n",
        "\n",
        "# fetch dataset\n",
        "breast_cancer_wisconsin_diagnostic = fetch_ucirepo(id=17)\n",
        "\n",
        "# data (as pandas dataframes)\n",
        "X = breast_cancer_wisconsin_diagnostic.data.features\n",
        "y = breast_cancer_wisconsin_diagnostic.data.targets\n",
        "\n",
        "# metadata\n",
        "print(breast_cancer_wisconsin_diagnostic.metadata)\n",
        "\n",
        "# variable information\n",
        "print(breast_cancer_wisconsin_diagnostic.variables)\n"
      ],
      "metadata": {
        "colab": {
          "base_uri": "https://localhost:8080/"
        },
        "id": "gwUPOcRo7Yrz",
        "outputId": "a5d7be43-1127-47d3-91c8-76202ae800d9"
      },
      "execution_count": 150,
      "outputs": [
        {
          "output_type": "stream",
          "name": "stdout",
          "text": [
            "{'uci_id': 17, 'name': 'Breast Cancer Wisconsin (Diagnostic)', 'repository_url': 'https://archive.ics.uci.edu/dataset/17/breast+cancer+wisconsin+diagnostic', 'data_url': 'https://archive.ics.uci.edu/static/public/17/data.csv', 'abstract': 'Diagnostic Wisconsin Breast Cancer Database.', 'area': 'Health and Medicine', 'tasks': ['Classification'], 'characteristics': ['Multivariate'], 'num_instances': 569, 'num_features': 30, 'feature_types': ['Real'], 'demographics': [], 'target_col': ['Diagnosis'], 'index_col': ['ID'], 'has_missing_values': 'no', 'missing_values_symbol': None, 'year_of_dataset_creation': 1993, 'last_updated': 'Fri Nov 03 2023', 'dataset_doi': '10.24432/C5DW2B', 'creators': ['William Wolberg', 'Olvi Mangasarian', 'Nick Street', 'W. Street'], 'intro_paper': {'ID': 230, 'type': 'NATIVE', 'title': 'Nuclear feature extraction for breast tumor diagnosis', 'authors': 'W. Street, W. Wolberg, O. Mangasarian', 'venue': 'Electronic imaging', 'year': 1993, 'journal': None, 'DOI': '10.1117/12.148698', 'URL': 'https://www.semanticscholar.org/paper/53f0fbb425bc14468eb3bf96b2e1d41ba8087f36', 'sha': None, 'corpus': None, 'arxiv': None, 'mag': None, 'acl': None, 'pmid': None, 'pmcid': None}, 'additional_info': {'summary': 'Features are computed from a digitized image of a fine needle aspirate (FNA) of a breast mass.  They describe characteristics of the cell nuclei present in the image. A few of the images can be found at http://www.cs.wisc.edu/~street/images/\\r\\n\\r\\nSeparating plane described above was obtained using Multisurface Method-Tree (MSM-T) [K. P. Bennett, \"Decision Tree Construction Via Linear Programming.\" Proceedings of the 4th Midwest Artificial Intelligence and Cognitive Science Society, pp. 97-101, 1992], a classification method which uses linear programming to construct a decision tree.  Relevant features were selected using an exhaustive search in the space of 1-4 features and 1-3 separating planes.\\r\\n\\r\\nThe actual linear program used to obtain the separating plane in the 3-dimensional space is that described in: [K. P. Bennett and O. L. Mangasarian: \"Robust Linear Programming Discrimination of Two Linearly Inseparable Sets\", Optimization Methods and Software 1, 1992, 23-34].\\r\\n\\r\\nThis database is also available through the UW CS ftp server:\\r\\nftp ftp.cs.wisc.edu\\r\\ncd math-prog/cpo-dataset/machine-learn/WDBC/', 'purpose': None, 'funded_by': None, 'instances_represent': None, 'recommended_data_splits': None, 'sensitive_data': None, 'preprocessing_description': None, 'variable_info': '1) ID number\\r\\n2) Diagnosis (M = malignant, B = benign)\\r\\n3-32)\\r\\n\\r\\nTen real-valued features are computed for each cell nucleus:\\r\\n\\r\\n\\ta) radius (mean of distances from center to points on the perimeter)\\r\\n\\tb) texture (standard deviation of gray-scale values)\\r\\n\\tc) perimeter\\r\\n\\td) area\\r\\n\\te) smoothness (local variation in radius lengths)\\r\\n\\tf) compactness (perimeter^2 / area - 1.0)\\r\\n\\tg) concavity (severity of concave portions of the contour)\\r\\n\\th) concave points (number of concave portions of the contour)\\r\\n\\ti) symmetry \\r\\n\\tj) fractal dimension (\"coastline approximation\" - 1)', 'citation': None}}\n",
            "                  name     role         type demographic description units  \\\n",
            "0                   ID       ID  Categorical        None        None  None   \n",
            "1            Diagnosis   Target  Categorical        None        None  None   \n",
            "2              radius1  Feature   Continuous        None        None  None   \n",
            "3             texture1  Feature   Continuous        None        None  None   \n",
            "4           perimeter1  Feature   Continuous        None        None  None   \n",
            "5                area1  Feature   Continuous        None        None  None   \n",
            "6          smoothness1  Feature   Continuous        None        None  None   \n",
            "7         compactness1  Feature   Continuous        None        None  None   \n",
            "8           concavity1  Feature   Continuous        None        None  None   \n",
            "9      concave_points1  Feature   Continuous        None        None  None   \n",
            "10           symmetry1  Feature   Continuous        None        None  None   \n",
            "11  fractal_dimension1  Feature   Continuous        None        None  None   \n",
            "12             radius2  Feature   Continuous        None        None  None   \n",
            "13            texture2  Feature   Continuous        None        None  None   \n",
            "14          perimeter2  Feature   Continuous        None        None  None   \n",
            "15               area2  Feature   Continuous        None        None  None   \n",
            "16         smoothness2  Feature   Continuous        None        None  None   \n",
            "17        compactness2  Feature   Continuous        None        None  None   \n",
            "18          concavity2  Feature   Continuous        None        None  None   \n",
            "19     concave_points2  Feature   Continuous        None        None  None   \n",
            "20           symmetry2  Feature   Continuous        None        None  None   \n",
            "21  fractal_dimension2  Feature   Continuous        None        None  None   \n",
            "22             radius3  Feature   Continuous        None        None  None   \n",
            "23            texture3  Feature   Continuous        None        None  None   \n",
            "24          perimeter3  Feature   Continuous        None        None  None   \n",
            "25               area3  Feature   Continuous        None        None  None   \n",
            "26         smoothness3  Feature   Continuous        None        None  None   \n",
            "27        compactness3  Feature   Continuous        None        None  None   \n",
            "28          concavity3  Feature   Continuous        None        None  None   \n",
            "29     concave_points3  Feature   Continuous        None        None  None   \n",
            "30           symmetry3  Feature   Continuous        None        None  None   \n",
            "31  fractal_dimension3  Feature   Continuous        None        None  None   \n",
            "\n",
            "   missing_values  \n",
            "0              no  \n",
            "1              no  \n",
            "2              no  \n",
            "3              no  \n",
            "4              no  \n",
            "5              no  \n",
            "6              no  \n",
            "7              no  \n",
            "8              no  \n",
            "9              no  \n",
            "10             no  \n",
            "11             no  \n",
            "12             no  \n",
            "13             no  \n",
            "14             no  \n",
            "15             no  \n",
            "16             no  \n",
            "17             no  \n",
            "18             no  \n",
            "19             no  \n",
            "20             no  \n",
            "21             no  \n",
            "22             no  \n",
            "23             no  \n",
            "24             no  \n",
            "25             no  \n",
            "26             no  \n",
            "27             no  \n",
            "28             no  \n",
            "29             no  \n",
            "30             no  \n",
            "31             no  \n"
          ]
        }
      ]
    },
    {
      "cell_type": "code",
      "source": [
        "X"
      ],
      "metadata": {
        "colab": {
          "base_uri": "https://localhost:8080/",
          "height": 443
        },
        "id": "aY9_DNUH8fj8",
        "outputId": "b03c96a5-2b74-4360-d75f-a4d03c4f9055"
      },
      "execution_count": 151,
      "outputs": [
        {
          "output_type": "execute_result",
          "data": {
            "text/plain": [
              "     radius1  texture1  perimeter1   area1  smoothness1  compactness1  \\\n",
              "0      17.99     10.38      122.80  1001.0      0.11840       0.27760   \n",
              "1      20.57     17.77      132.90  1326.0      0.08474       0.07864   \n",
              "2      19.69     21.25      130.00  1203.0      0.10960       0.15990   \n",
              "3      11.42     20.38       77.58   386.1      0.14250       0.28390   \n",
              "4      20.29     14.34      135.10  1297.0      0.10030       0.13280   \n",
              "..       ...       ...         ...     ...          ...           ...   \n",
              "564    21.56     22.39      142.00  1479.0      0.11100       0.11590   \n",
              "565    20.13     28.25      131.20  1261.0      0.09780       0.10340   \n",
              "566    16.60     28.08      108.30   858.1      0.08455       0.10230   \n",
              "567    20.60     29.33      140.10  1265.0      0.11780       0.27700   \n",
              "568     7.76     24.54       47.92   181.0      0.05263       0.04362   \n",
              "\n",
              "     concavity1  concave_points1  symmetry1  fractal_dimension1  ...  radius3  \\\n",
              "0       0.30010          0.14710     0.2419             0.07871  ...   25.380   \n",
              "1       0.08690          0.07017     0.1812             0.05667  ...   24.990   \n",
              "2       0.19740          0.12790     0.2069             0.05999  ...   23.570   \n",
              "3       0.24140          0.10520     0.2597             0.09744  ...   14.910   \n",
              "4       0.19800          0.10430     0.1809             0.05883  ...   22.540   \n",
              "..          ...              ...        ...                 ...  ...      ...   \n",
              "564     0.24390          0.13890     0.1726             0.05623  ...   25.450   \n",
              "565     0.14400          0.09791     0.1752             0.05533  ...   23.690   \n",
              "566     0.09251          0.05302     0.1590             0.05648  ...   18.980   \n",
              "567     0.35140          0.15200     0.2397             0.07016  ...   25.740   \n",
              "568     0.00000          0.00000     0.1587             0.05884  ...    9.456   \n",
              "\n",
              "     texture3  perimeter3   area3  smoothness3  compactness3  concavity3  \\\n",
              "0       17.33      184.60  2019.0      0.16220       0.66560      0.7119   \n",
              "1       23.41      158.80  1956.0      0.12380       0.18660      0.2416   \n",
              "2       25.53      152.50  1709.0      0.14440       0.42450      0.4504   \n",
              "3       26.50       98.87   567.7      0.20980       0.86630      0.6869   \n",
              "4       16.67      152.20  1575.0      0.13740       0.20500      0.4000   \n",
              "..        ...         ...     ...          ...           ...         ...   \n",
              "564     26.40      166.10  2027.0      0.14100       0.21130      0.4107   \n",
              "565     38.25      155.00  1731.0      0.11660       0.19220      0.3215   \n",
              "566     34.12      126.70  1124.0      0.11390       0.30940      0.3403   \n",
              "567     39.42      184.60  1821.0      0.16500       0.86810      0.9387   \n",
              "568     30.37       59.16   268.6      0.08996       0.06444      0.0000   \n",
              "\n",
              "     concave_points3  symmetry3  fractal_dimension3  \n",
              "0             0.2654     0.4601             0.11890  \n",
              "1             0.1860     0.2750             0.08902  \n",
              "2             0.2430     0.3613             0.08758  \n",
              "3             0.2575     0.6638             0.17300  \n",
              "4             0.1625     0.2364             0.07678  \n",
              "..               ...        ...                 ...  \n",
              "564           0.2216     0.2060             0.07115  \n",
              "565           0.1628     0.2572             0.06637  \n",
              "566           0.1418     0.2218             0.07820  \n",
              "567           0.2650     0.4087             0.12400  \n",
              "568           0.0000     0.2871             0.07039  \n",
              "\n",
              "[569 rows x 30 columns]"
            ],
            "text/html": [
              "\n",
              "  <div id=\"df-3a025c6d-d0b8-45bc-a92c-917c34406d61\" class=\"colab-df-container\">\n",
              "    <div>\n",
              "<style scoped>\n",
              "    .dataframe tbody tr th:only-of-type {\n",
              "        vertical-align: middle;\n",
              "    }\n",
              "\n",
              "    .dataframe tbody tr th {\n",
              "        vertical-align: top;\n",
              "    }\n",
              "\n",
              "    .dataframe thead th {\n",
              "        text-align: right;\n",
              "    }\n",
              "</style>\n",
              "<table border=\"1\" class=\"dataframe\">\n",
              "  <thead>\n",
              "    <tr style=\"text-align: right;\">\n",
              "      <th></th>\n",
              "      <th>radius1</th>\n",
              "      <th>texture1</th>\n",
              "      <th>perimeter1</th>\n",
              "      <th>area1</th>\n",
              "      <th>smoothness1</th>\n",
              "      <th>compactness1</th>\n",
              "      <th>concavity1</th>\n",
              "      <th>concave_points1</th>\n",
              "      <th>symmetry1</th>\n",
              "      <th>fractal_dimension1</th>\n",
              "      <th>...</th>\n",
              "      <th>radius3</th>\n",
              "      <th>texture3</th>\n",
              "      <th>perimeter3</th>\n",
              "      <th>area3</th>\n",
              "      <th>smoothness3</th>\n",
              "      <th>compactness3</th>\n",
              "      <th>concavity3</th>\n",
              "      <th>concave_points3</th>\n",
              "      <th>symmetry3</th>\n",
              "      <th>fractal_dimension3</th>\n",
              "    </tr>\n",
              "  </thead>\n",
              "  <tbody>\n",
              "    <tr>\n",
              "      <th>0</th>\n",
              "      <td>17.99</td>\n",
              "      <td>10.38</td>\n",
              "      <td>122.80</td>\n",
              "      <td>1001.0</td>\n",
              "      <td>0.11840</td>\n",
              "      <td>0.27760</td>\n",
              "      <td>0.30010</td>\n",
              "      <td>0.14710</td>\n",
              "      <td>0.2419</td>\n",
              "      <td>0.07871</td>\n",
              "      <td>...</td>\n",
              "      <td>25.380</td>\n",
              "      <td>17.33</td>\n",
              "      <td>184.60</td>\n",
              "      <td>2019.0</td>\n",
              "      <td>0.16220</td>\n",
              "      <td>0.66560</td>\n",
              "      <td>0.7119</td>\n",
              "      <td>0.2654</td>\n",
              "      <td>0.4601</td>\n",
              "      <td>0.11890</td>\n",
              "    </tr>\n",
              "    <tr>\n",
              "      <th>1</th>\n",
              "      <td>20.57</td>\n",
              "      <td>17.77</td>\n",
              "      <td>132.90</td>\n",
              "      <td>1326.0</td>\n",
              "      <td>0.08474</td>\n",
              "      <td>0.07864</td>\n",
              "      <td>0.08690</td>\n",
              "      <td>0.07017</td>\n",
              "      <td>0.1812</td>\n",
              "      <td>0.05667</td>\n",
              "      <td>...</td>\n",
              "      <td>24.990</td>\n",
              "      <td>23.41</td>\n",
              "      <td>158.80</td>\n",
              "      <td>1956.0</td>\n",
              "      <td>0.12380</td>\n",
              "      <td>0.18660</td>\n",
              "      <td>0.2416</td>\n",
              "      <td>0.1860</td>\n",
              "      <td>0.2750</td>\n",
              "      <td>0.08902</td>\n",
              "    </tr>\n",
              "    <tr>\n",
              "      <th>2</th>\n",
              "      <td>19.69</td>\n",
              "      <td>21.25</td>\n",
              "      <td>130.00</td>\n",
              "      <td>1203.0</td>\n",
              "      <td>0.10960</td>\n",
              "      <td>0.15990</td>\n",
              "      <td>0.19740</td>\n",
              "      <td>0.12790</td>\n",
              "      <td>0.2069</td>\n",
              "      <td>0.05999</td>\n",
              "      <td>...</td>\n",
              "      <td>23.570</td>\n",
              "      <td>25.53</td>\n",
              "      <td>152.50</td>\n",
              "      <td>1709.0</td>\n",
              "      <td>0.14440</td>\n",
              "      <td>0.42450</td>\n",
              "      <td>0.4504</td>\n",
              "      <td>0.2430</td>\n",
              "      <td>0.3613</td>\n",
              "      <td>0.08758</td>\n",
              "    </tr>\n",
              "    <tr>\n",
              "      <th>3</th>\n",
              "      <td>11.42</td>\n",
              "      <td>20.38</td>\n",
              "      <td>77.58</td>\n",
              "      <td>386.1</td>\n",
              "      <td>0.14250</td>\n",
              "      <td>0.28390</td>\n",
              "      <td>0.24140</td>\n",
              "      <td>0.10520</td>\n",
              "      <td>0.2597</td>\n",
              "      <td>0.09744</td>\n",
              "      <td>...</td>\n",
              "      <td>14.910</td>\n",
              "      <td>26.50</td>\n",
              "      <td>98.87</td>\n",
              "      <td>567.7</td>\n",
              "      <td>0.20980</td>\n",
              "      <td>0.86630</td>\n",
              "      <td>0.6869</td>\n",
              "      <td>0.2575</td>\n",
              "      <td>0.6638</td>\n",
              "      <td>0.17300</td>\n",
              "    </tr>\n",
              "    <tr>\n",
              "      <th>4</th>\n",
              "      <td>20.29</td>\n",
              "      <td>14.34</td>\n",
              "      <td>135.10</td>\n",
              "      <td>1297.0</td>\n",
              "      <td>0.10030</td>\n",
              "      <td>0.13280</td>\n",
              "      <td>0.19800</td>\n",
              "      <td>0.10430</td>\n",
              "      <td>0.1809</td>\n",
              "      <td>0.05883</td>\n",
              "      <td>...</td>\n",
              "      <td>22.540</td>\n",
              "      <td>16.67</td>\n",
              "      <td>152.20</td>\n",
              "      <td>1575.0</td>\n",
              "      <td>0.13740</td>\n",
              "      <td>0.20500</td>\n",
              "      <td>0.4000</td>\n",
              "      <td>0.1625</td>\n",
              "      <td>0.2364</td>\n",
              "      <td>0.07678</td>\n",
              "    </tr>\n",
              "    <tr>\n",
              "      <th>...</th>\n",
              "      <td>...</td>\n",
              "      <td>...</td>\n",
              "      <td>...</td>\n",
              "      <td>...</td>\n",
              "      <td>...</td>\n",
              "      <td>...</td>\n",
              "      <td>...</td>\n",
              "      <td>...</td>\n",
              "      <td>...</td>\n",
              "      <td>...</td>\n",
              "      <td>...</td>\n",
              "      <td>...</td>\n",
              "      <td>...</td>\n",
              "      <td>...</td>\n",
              "      <td>...</td>\n",
              "      <td>...</td>\n",
              "      <td>...</td>\n",
              "      <td>...</td>\n",
              "      <td>...</td>\n",
              "      <td>...</td>\n",
              "      <td>...</td>\n",
              "    </tr>\n",
              "    <tr>\n",
              "      <th>564</th>\n",
              "      <td>21.56</td>\n",
              "      <td>22.39</td>\n",
              "      <td>142.00</td>\n",
              "      <td>1479.0</td>\n",
              "      <td>0.11100</td>\n",
              "      <td>0.11590</td>\n",
              "      <td>0.24390</td>\n",
              "      <td>0.13890</td>\n",
              "      <td>0.1726</td>\n",
              "      <td>0.05623</td>\n",
              "      <td>...</td>\n",
              "      <td>25.450</td>\n",
              "      <td>26.40</td>\n",
              "      <td>166.10</td>\n",
              "      <td>2027.0</td>\n",
              "      <td>0.14100</td>\n",
              "      <td>0.21130</td>\n",
              "      <td>0.4107</td>\n",
              "      <td>0.2216</td>\n",
              "      <td>0.2060</td>\n",
              "      <td>0.07115</td>\n",
              "    </tr>\n",
              "    <tr>\n",
              "      <th>565</th>\n",
              "      <td>20.13</td>\n",
              "      <td>28.25</td>\n",
              "      <td>131.20</td>\n",
              "      <td>1261.0</td>\n",
              "      <td>0.09780</td>\n",
              "      <td>0.10340</td>\n",
              "      <td>0.14400</td>\n",
              "      <td>0.09791</td>\n",
              "      <td>0.1752</td>\n",
              "      <td>0.05533</td>\n",
              "      <td>...</td>\n",
              "      <td>23.690</td>\n",
              "      <td>38.25</td>\n",
              "      <td>155.00</td>\n",
              "      <td>1731.0</td>\n",
              "      <td>0.11660</td>\n",
              "      <td>0.19220</td>\n",
              "      <td>0.3215</td>\n",
              "      <td>0.1628</td>\n",
              "      <td>0.2572</td>\n",
              "      <td>0.06637</td>\n",
              "    </tr>\n",
              "    <tr>\n",
              "      <th>566</th>\n",
              "      <td>16.60</td>\n",
              "      <td>28.08</td>\n",
              "      <td>108.30</td>\n",
              "      <td>858.1</td>\n",
              "      <td>0.08455</td>\n",
              "      <td>0.10230</td>\n",
              "      <td>0.09251</td>\n",
              "      <td>0.05302</td>\n",
              "      <td>0.1590</td>\n",
              "      <td>0.05648</td>\n",
              "      <td>...</td>\n",
              "      <td>18.980</td>\n",
              "      <td>34.12</td>\n",
              "      <td>126.70</td>\n",
              "      <td>1124.0</td>\n",
              "      <td>0.11390</td>\n",
              "      <td>0.30940</td>\n",
              "      <td>0.3403</td>\n",
              "      <td>0.1418</td>\n",
              "      <td>0.2218</td>\n",
              "      <td>0.07820</td>\n",
              "    </tr>\n",
              "    <tr>\n",
              "      <th>567</th>\n",
              "      <td>20.60</td>\n",
              "      <td>29.33</td>\n",
              "      <td>140.10</td>\n",
              "      <td>1265.0</td>\n",
              "      <td>0.11780</td>\n",
              "      <td>0.27700</td>\n",
              "      <td>0.35140</td>\n",
              "      <td>0.15200</td>\n",
              "      <td>0.2397</td>\n",
              "      <td>0.07016</td>\n",
              "      <td>...</td>\n",
              "      <td>25.740</td>\n",
              "      <td>39.42</td>\n",
              "      <td>184.60</td>\n",
              "      <td>1821.0</td>\n",
              "      <td>0.16500</td>\n",
              "      <td>0.86810</td>\n",
              "      <td>0.9387</td>\n",
              "      <td>0.2650</td>\n",
              "      <td>0.4087</td>\n",
              "      <td>0.12400</td>\n",
              "    </tr>\n",
              "    <tr>\n",
              "      <th>568</th>\n",
              "      <td>7.76</td>\n",
              "      <td>24.54</td>\n",
              "      <td>47.92</td>\n",
              "      <td>181.0</td>\n",
              "      <td>0.05263</td>\n",
              "      <td>0.04362</td>\n",
              "      <td>0.00000</td>\n",
              "      <td>0.00000</td>\n",
              "      <td>0.1587</td>\n",
              "      <td>0.05884</td>\n",
              "      <td>...</td>\n",
              "      <td>9.456</td>\n",
              "      <td>30.37</td>\n",
              "      <td>59.16</td>\n",
              "      <td>268.6</td>\n",
              "      <td>0.08996</td>\n",
              "      <td>0.06444</td>\n",
              "      <td>0.0000</td>\n",
              "      <td>0.0000</td>\n",
              "      <td>0.2871</td>\n",
              "      <td>0.07039</td>\n",
              "    </tr>\n",
              "  </tbody>\n",
              "</table>\n",
              "<p>569 rows × 30 columns</p>\n",
              "</div>\n",
              "    <div class=\"colab-df-buttons\">\n",
              "\n",
              "  <div class=\"colab-df-container\">\n",
              "    <button class=\"colab-df-convert\" onclick=\"convertToInteractive('df-3a025c6d-d0b8-45bc-a92c-917c34406d61')\"\n",
              "            title=\"Convert this dataframe to an interactive table.\"\n",
              "            style=\"display:none;\">\n",
              "\n",
              "  <svg xmlns=\"http://www.w3.org/2000/svg\" height=\"24px\" viewBox=\"0 -960 960 960\">\n",
              "    <path d=\"M120-120v-720h720v720H120Zm60-500h600v-160H180v160Zm220 220h160v-160H400v160Zm0 220h160v-160H400v160ZM180-400h160v-160H180v160Zm440 0h160v-160H620v160ZM180-180h160v-160H180v160Zm440 0h160v-160H620v160Z\"/>\n",
              "  </svg>\n",
              "    </button>\n",
              "\n",
              "  <style>\n",
              "    .colab-df-container {\n",
              "      display:flex;\n",
              "      gap: 12px;\n",
              "    }\n",
              "\n",
              "    .colab-df-convert {\n",
              "      background-color: #E8F0FE;\n",
              "      border: none;\n",
              "      border-radius: 50%;\n",
              "      cursor: pointer;\n",
              "      display: none;\n",
              "      fill: #1967D2;\n",
              "      height: 32px;\n",
              "      padding: 0 0 0 0;\n",
              "      width: 32px;\n",
              "    }\n",
              "\n",
              "    .colab-df-convert:hover {\n",
              "      background-color: #E2EBFA;\n",
              "      box-shadow: 0px 1px 2px rgba(60, 64, 67, 0.3), 0px 1px 3px 1px rgba(60, 64, 67, 0.15);\n",
              "      fill: #174EA6;\n",
              "    }\n",
              "\n",
              "    .colab-df-buttons div {\n",
              "      margin-bottom: 4px;\n",
              "    }\n",
              "\n",
              "    [theme=dark] .colab-df-convert {\n",
              "      background-color: #3B4455;\n",
              "      fill: #D2E3FC;\n",
              "    }\n",
              "\n",
              "    [theme=dark] .colab-df-convert:hover {\n",
              "      background-color: #434B5C;\n",
              "      box-shadow: 0px 1px 3px 1px rgba(0, 0, 0, 0.15);\n",
              "      filter: drop-shadow(0px 1px 2px rgba(0, 0, 0, 0.3));\n",
              "      fill: #FFFFFF;\n",
              "    }\n",
              "  </style>\n",
              "\n",
              "    <script>\n",
              "      const buttonEl =\n",
              "        document.querySelector('#df-3a025c6d-d0b8-45bc-a92c-917c34406d61 button.colab-df-convert');\n",
              "      buttonEl.style.display =\n",
              "        google.colab.kernel.accessAllowed ? 'block' : 'none';\n",
              "\n",
              "      async function convertToInteractive(key) {\n",
              "        const element = document.querySelector('#df-3a025c6d-d0b8-45bc-a92c-917c34406d61');\n",
              "        const dataTable =\n",
              "          await google.colab.kernel.invokeFunction('convertToInteractive',\n",
              "                                                    [key], {});\n",
              "        if (!dataTable) return;\n",
              "\n",
              "        const docLinkHtml = 'Like what you see? Visit the ' +\n",
              "          '<a target=\"_blank\" href=https://colab.research.google.com/notebooks/data_table.ipynb>data table notebook</a>'\n",
              "          + ' to learn more about interactive tables.';\n",
              "        element.innerHTML = '';\n",
              "        dataTable['output_type'] = 'display_data';\n",
              "        await google.colab.output.renderOutput(dataTable, element);\n",
              "        const docLink = document.createElement('div');\n",
              "        docLink.innerHTML = docLinkHtml;\n",
              "        element.appendChild(docLink);\n",
              "      }\n",
              "    </script>\n",
              "  </div>\n",
              "\n",
              "\n",
              "    <div id=\"df-66482361-b320-4fae-8358-321028d3a493\">\n",
              "      <button class=\"colab-df-quickchart\" onclick=\"quickchart('df-66482361-b320-4fae-8358-321028d3a493')\"\n",
              "                title=\"Suggest charts\"\n",
              "                style=\"display:none;\">\n",
              "\n",
              "<svg xmlns=\"http://www.w3.org/2000/svg\" height=\"24px\"viewBox=\"0 0 24 24\"\n",
              "     width=\"24px\">\n",
              "    <g>\n",
              "        <path d=\"M19 3H5c-1.1 0-2 .9-2 2v14c0 1.1.9 2 2 2h14c1.1 0 2-.9 2-2V5c0-1.1-.9-2-2-2zM9 17H7v-7h2v7zm4 0h-2V7h2v10zm4 0h-2v-4h2v4z\"/>\n",
              "    </g>\n",
              "</svg>\n",
              "      </button>\n",
              "\n",
              "<style>\n",
              "  .colab-df-quickchart {\n",
              "      --bg-color: #E8F0FE;\n",
              "      --fill-color: #1967D2;\n",
              "      --hover-bg-color: #E2EBFA;\n",
              "      --hover-fill-color: #174EA6;\n",
              "      --disabled-fill-color: #AAA;\n",
              "      --disabled-bg-color: #DDD;\n",
              "  }\n",
              "\n",
              "  [theme=dark] .colab-df-quickchart {\n",
              "      --bg-color: #3B4455;\n",
              "      --fill-color: #D2E3FC;\n",
              "      --hover-bg-color: #434B5C;\n",
              "      --hover-fill-color: #FFFFFF;\n",
              "      --disabled-bg-color: #3B4455;\n",
              "      --disabled-fill-color: #666;\n",
              "  }\n",
              "\n",
              "  .colab-df-quickchart {\n",
              "    background-color: var(--bg-color);\n",
              "    border: none;\n",
              "    border-radius: 50%;\n",
              "    cursor: pointer;\n",
              "    display: none;\n",
              "    fill: var(--fill-color);\n",
              "    height: 32px;\n",
              "    padding: 0;\n",
              "    width: 32px;\n",
              "  }\n",
              "\n",
              "  .colab-df-quickchart:hover {\n",
              "    background-color: var(--hover-bg-color);\n",
              "    box-shadow: 0 1px 2px rgba(60, 64, 67, 0.3), 0 1px 3px 1px rgba(60, 64, 67, 0.15);\n",
              "    fill: var(--button-hover-fill-color);\n",
              "  }\n",
              "\n",
              "  .colab-df-quickchart-complete:disabled,\n",
              "  .colab-df-quickchart-complete:disabled:hover {\n",
              "    background-color: var(--disabled-bg-color);\n",
              "    fill: var(--disabled-fill-color);\n",
              "    box-shadow: none;\n",
              "  }\n",
              "\n",
              "  .colab-df-spinner {\n",
              "    border: 2px solid var(--fill-color);\n",
              "    border-color: transparent;\n",
              "    border-bottom-color: var(--fill-color);\n",
              "    animation:\n",
              "      spin 1s steps(1) infinite;\n",
              "  }\n",
              "\n",
              "  @keyframes spin {\n",
              "    0% {\n",
              "      border-color: transparent;\n",
              "      border-bottom-color: var(--fill-color);\n",
              "      border-left-color: var(--fill-color);\n",
              "    }\n",
              "    20% {\n",
              "      border-color: transparent;\n",
              "      border-left-color: var(--fill-color);\n",
              "      border-top-color: var(--fill-color);\n",
              "    }\n",
              "    30% {\n",
              "      border-color: transparent;\n",
              "      border-left-color: var(--fill-color);\n",
              "      border-top-color: var(--fill-color);\n",
              "      border-right-color: var(--fill-color);\n",
              "    }\n",
              "    40% {\n",
              "      border-color: transparent;\n",
              "      border-right-color: var(--fill-color);\n",
              "      border-top-color: var(--fill-color);\n",
              "    }\n",
              "    60% {\n",
              "      border-color: transparent;\n",
              "      border-right-color: var(--fill-color);\n",
              "    }\n",
              "    80% {\n",
              "      border-color: transparent;\n",
              "      border-right-color: var(--fill-color);\n",
              "      border-bottom-color: var(--fill-color);\n",
              "    }\n",
              "    90% {\n",
              "      border-color: transparent;\n",
              "      border-bottom-color: var(--fill-color);\n",
              "    }\n",
              "  }\n",
              "</style>\n",
              "\n",
              "      <script>\n",
              "        async function quickchart(key) {\n",
              "          const quickchartButtonEl =\n",
              "            document.querySelector('#' + key + ' button');\n",
              "          quickchartButtonEl.disabled = true;  // To prevent multiple clicks.\n",
              "          quickchartButtonEl.classList.add('colab-df-spinner');\n",
              "          try {\n",
              "            const charts = await google.colab.kernel.invokeFunction(\n",
              "                'suggestCharts', [key], {});\n",
              "          } catch (error) {\n",
              "            console.error('Error during call to suggestCharts:', error);\n",
              "          }\n",
              "          quickchartButtonEl.classList.remove('colab-df-spinner');\n",
              "          quickchartButtonEl.classList.add('colab-df-quickchart-complete');\n",
              "        }\n",
              "        (() => {\n",
              "          let quickchartButtonEl =\n",
              "            document.querySelector('#df-66482361-b320-4fae-8358-321028d3a493 button');\n",
              "          quickchartButtonEl.style.display =\n",
              "            google.colab.kernel.accessAllowed ? 'block' : 'none';\n",
              "        })();\n",
              "      </script>\n",
              "    </div>\n",
              "\n",
              "  <div id=\"id_d4bf422f-cb91-425c-8d91-9ede77326420\">\n",
              "    <style>\n",
              "      .colab-df-generate {\n",
              "        background-color: #E8F0FE;\n",
              "        border: none;\n",
              "        border-radius: 50%;\n",
              "        cursor: pointer;\n",
              "        display: none;\n",
              "        fill: #1967D2;\n",
              "        height: 32px;\n",
              "        padding: 0 0 0 0;\n",
              "        width: 32px;\n",
              "      }\n",
              "\n",
              "      .colab-df-generate:hover {\n",
              "        background-color: #E2EBFA;\n",
              "        box-shadow: 0px 1px 2px rgba(60, 64, 67, 0.3), 0px 1px 3px 1px rgba(60, 64, 67, 0.15);\n",
              "        fill: #174EA6;\n",
              "      }\n",
              "\n",
              "      [theme=dark] .colab-df-generate {\n",
              "        background-color: #3B4455;\n",
              "        fill: #D2E3FC;\n",
              "      }\n",
              "\n",
              "      [theme=dark] .colab-df-generate:hover {\n",
              "        background-color: #434B5C;\n",
              "        box-shadow: 0px 1px 3px 1px rgba(0, 0, 0, 0.15);\n",
              "        filter: drop-shadow(0px 1px 2px rgba(0, 0, 0, 0.3));\n",
              "        fill: #FFFFFF;\n",
              "      }\n",
              "    </style>\n",
              "    <button class=\"colab-df-generate\" onclick=\"generateWithVariable('X')\"\n",
              "            title=\"Generate code using this dataframe.\"\n",
              "            style=\"display:none;\">\n",
              "\n",
              "  <svg xmlns=\"http://www.w3.org/2000/svg\" height=\"24px\"viewBox=\"0 0 24 24\"\n",
              "       width=\"24px\">\n",
              "    <path d=\"M7,19H8.4L18.45,9,17,7.55,7,17.6ZM5,21V16.75L18.45,3.32a2,2,0,0,1,2.83,0l1.4,1.43a1.91,1.91,0,0,1,.58,1.4,1.91,1.91,0,0,1-.58,1.4L9.25,21ZM18.45,9,17,7.55Zm-12,3A5.31,5.31,0,0,0,4.9,8.1,5.31,5.31,0,0,0,1,6.5,5.31,5.31,0,0,0,4.9,4.9,5.31,5.31,0,0,0,6.5,1,5.31,5.31,0,0,0,8.1,4.9,5.31,5.31,0,0,0,12,6.5,5.46,5.46,0,0,0,6.5,12Z\"/>\n",
              "  </svg>\n",
              "    </button>\n",
              "    <script>\n",
              "      (() => {\n",
              "      const buttonEl =\n",
              "        document.querySelector('#id_d4bf422f-cb91-425c-8d91-9ede77326420 button.colab-df-generate');\n",
              "      buttonEl.style.display =\n",
              "        google.colab.kernel.accessAllowed ? 'block' : 'none';\n",
              "\n",
              "      buttonEl.onclick = () => {\n",
              "        google.colab.notebook.generateWithVariable('X');\n",
              "      }\n",
              "      })();\n",
              "    </script>\n",
              "  </div>\n",
              "\n",
              "    </div>\n",
              "  </div>\n"
            ],
            "application/vnd.google.colaboratory.intrinsic+json": {
              "type": "dataframe",
              "variable_name": "X"
            }
          },
          "metadata": {},
          "execution_count": 151
        }
      ]
    },
    {
      "cell_type": "code",
      "source": [
        "from sklearn.preprocessing import LabelEncoder\n",
        "le = LabelEncoder()\n",
        "y_encoded = le.fit_transform(y.values.ravel())"
      ],
      "metadata": {
        "id": "BDA3BH1Y8Rrl"
      },
      "execution_count": 152,
      "outputs": []
    },
    {
      "cell_type": "code",
      "source": [
        "from sklearn.model_selection import train_test_split\n",
        "X_train, X_test, y_train, y_test = train_test_split(X, y_encoded, test_size=0.20, random_state=42)"
      ],
      "metadata": {
        "id": "Lv67I6YAEQfe"
      },
      "execution_count": 153,
      "outputs": []
    },
    {
      "cell_type": "markdown",
      "source": [
        "# **Naive Bayes Gaussian**"
      ],
      "metadata": {
        "id": "8DthzRPm70lz"
      }
    },
    {
      "cell_type": "code",
      "source": [
        "# Classification\n",
        "from sklearn.naive_bayes import GaussianNB\n",
        "classifier = GaussianNB()\n",
        "classifier.fit(X_train, y_train)\n",
        "y_pred = classifier.predict(X_test)\n",
        "\n",
        "# Evaluation of Classifier Performance\n",
        "from sklearn.metrics import classification_report, confusion_matrix, ConfusionMatrixDisplay\n",
        "# print(\"Confusion Matrix:\")\n",
        "# print(confusion_matrix(y_test, y_pred))\n",
        "ConfusionMatrixDisplay.from_estimator(classifier, X_test, y_test)\n",
        "plt.show()\n",
        "\n",
        "print(\"----------------------------------------------------\")\n",
        "print(\"----------------------------------------------------\")\n",
        "\n",
        "print(\"Performance Evaluation:\")\n",
        "print(classification_report(y_test, y_pred))"
      ],
      "metadata": {
        "colab": {
          "base_uri": "https://localhost:8080/",
          "height": 658
        },
        "id": "9gIgytUK71Pz",
        "outputId": "f13335cf-9b5c-4c07-9aab-fea9e67bf60a"
      },
      "execution_count": 154,
      "outputs": [
        {
          "output_type": "display_data",
          "data": {
            "text/plain": [
              "<Figure size 640x480 with 2 Axes>"
            ],
            "image/png": "[encoded data removed]"
          },
          "metadata": {}
        },
        {
          "output_type": "stream",
          "name": "stdout",
          "text": [
            "----------------------------------------------------\n",
            "----------------------------------------------------\n",
            "Performance Evaluation:\n",
            "              precision    recall  f1-score   support\n",
            "\n",
            "           0       0.96      1.00      0.98        71\n",
            "           1       1.00      0.93      0.96        43\n",
            "\n",
            "    accuracy                           0.97       114\n",
            "   macro avg       0.98      0.97      0.97       114\n",
            "weighted avg       0.97      0.97      0.97       114\n",
            "\n"
          ]
        }
      ]
    },
    {
      "cell_type": "markdown",
      "source": [
        "# **Naive Bayes Multimonial**"
      ],
      "metadata": {
        "id": "H2fiEgf976xE"
      }
    },
    {
      "cell_type": "code",
      "source": [
        "# Classification\n",
        "from sklearn.naive_bayes import MultinomialNB\n",
        "classifier = MultinomialNB()\n",
        "classifier.fit(X_train, y_train)\n",
        "\n",
        "y_pred = classifier.predict(X_test)\n",
        "\n",
        "# Evaluation of Classifier Performance\n",
        "from sklearn.metrics import classification_report, confusion_matrix, ConfusionMatrixDisplay\n",
        "# print(\"Confusion Matrix:\")\n",
        "# print(confusion_matrix(y_test, y_pred))\n",
        "ConfusionMatrixDisplay.from_estimator(classifier, X_test, y_test)\n",
        "plt.show()\n",
        "\n",
        "print(\"----------------------------------------------------\")\n",
        "print(\"----------------------------------------------------\")\n",
        "\n",
        "print(\"Performance Evaluation:\")\n",
        "print(classification_report(y_test, y_pred))"
      ],
      "metadata": {
        "colab": {
          "base_uri": "https://localhost:8080/",
          "height": 658
        },
        "id": "zDUWHrsN77ab",
        "outputId": "7c7e7f28-aec5-4421-b2cb-d3b2c1400bee"
      },
      "execution_count": 155,
      "outputs": [
        {
          "output_type": "display_data",
          "data": {
            "text/plain": [
              "<Figure size 640x480 with 2 Axes>"
            ],
            "image/png": "[encoded data removed]"
          },
          "metadata": {}
        },
        {
          "output_type": "stream",
          "name": "stdout",
          "text": [
            "----------------------------------------------------\n",
            "----------------------------------------------------\n",
            "Performance Evaluation:\n",
            "              precision    recall  f1-score   support\n",
            "\n",
            "           0       0.91      1.00      0.95        71\n",
            "           1       1.00      0.84      0.91        43\n",
            "\n",
            "    accuracy                           0.94       114\n",
            "   macro avg       0.96      0.92      0.93       114\n",
            "weighted avg       0.94      0.94      0.94       114\n",
            "\n"
          ]
        }
      ]
    },
    {
      "cell_type": "markdown",
      "source": [
        "# **Naive Bayes Bernoulli**"
      ],
      "metadata": {
        "id": "xsLekxPD7_8D"
      }
    },
    {
      "cell_type": "code",
      "source": [
        "# Classification\n",
        "\n",
        "from sklearn.naive_bayes import BernoulliNB\n",
        "classifier = BernoulliNB()\n",
        "classifier.fit(X_train, y_train)\n",
        "\n",
        "y_pred = classifier.predict(X_test)\n",
        "\n",
        "# Evaluation of Classifier Performance\n",
        "from sklearn.metrics import classification_report, confusion_matrix, ConfusionMatrixDisplay\n",
        "# print(\"Confusion Matrix:\")\n",
        "# print(confusion_matrix(y_test, y_pred))\n",
        "ConfusionMatrixDisplay.from_estimator(classifier, X_test, y_test)\n",
        "plt.show()\n",
        "\n",
        "print(\"----------------------------------------------------\")\n",
        "print(\"----------------------------------------------------\")\n",
        "\n",
        "print(\"Performance Evaluation:\")\n",
        "print(classification_report(y_test, y_pred, zero_division=1.0))"
      ],
      "metadata": {
        "colab": {
          "base_uri": "https://localhost:8080/",
          "height": 658
        },
        "id": "Wn76vpG38ClL",
        "outputId": "a20b45a2-8860-45ea-98ea-7b2bc0eeac32"
      },
      "execution_count": 156,
      "outputs": [
        {
          "output_type": "display_data",
          "data": {
            "text/plain": [
              "<Figure size 640x480 with 2 Axes>"
            ],
            "image/png": "[encoded data removed]"
          },
          "metadata": {}
        },
        {
          "output_type": "stream",
          "name": "stdout",
          "text": [
            "----------------------------------------------------\n",
            "----------------------------------------------------\n",
            "Performance Evaluation:\n",
            "              precision    recall  f1-score   support\n",
            "\n",
            "           0       0.62      1.00      0.77        71\n",
            "           1       1.00      0.00      0.00        43\n",
            "\n",
            "    accuracy                           0.62       114\n",
            "   macro avg       0.81      0.50      0.38       114\n",
            "weighted avg       0.77      0.62      0.48       114\n",
            "\n"
          ]
        }
      ]
    },
    {
      "cell_type": "markdown",
      "source": [
        "# **Iris Dataset Decesion Tree Classifier**"
      ],
      "metadata": {
        "id": "f6-JvoU0LzJN"
      }
    },
    {
      "cell_type": "code",
      "metadata": {
        "colab": {
          "base_uri": "https://localhost:8080/"
        },
        "id": "0005ec66",
        "outputId": "7aacccc7-2563-4f46-daaf-69db76e602d9"
      },
      "source": [
        "# Decision Tree for Iris Dataset\n",
        "\n",
        "from sklearn.tree import DecisionTreeClassifier\n",
        "from sklearn.model_selection import train_test_split\n",
        "from sklearn.metrics import classification_report, confusion_matrix\n",
        "from ucimlrepo import fetch_ucirepo\n",
        "from sklearn.preprocessing import LabelEncoder\n",
        "\n",
        "# Load the Iris dataset\n",
        "iris = fetch_ucirepo(id=53)\n",
        "X_iris = iris.data.features\n",
        "y_iris = iris.data.targets\n",
        "\n",
        "# Encode the target variable for Iris\n",
        "le_iris = LabelEncoder()\n",
        "y_encoded_iris = le_iris.fit_transform(y_iris.values.ravel())\n",
        "\n",
        "# Split the dataset into training and testing sets\n",
        "X_train_iris, X_test_iris, y_train_iris, y_test_iris = train_test_split(X_iris, y_encoded_iris, test_size=0.40)\n",
        "\n",
        "# Create a Decision Tree Classifier instance\n",
        "# You can experiment with 'gini' or 'entropy' for the criterion\n",
        "classifier_iris = DecisionTreeClassifier(criterion='gini', random_state=42)\n",
        "\n",
        "# Train the classifier\n",
        "classifier_iris.fit(X_train_iris, y_train_iris)\n",
        "\n",
        "# Make predictions on the test data\n",
        "y_pred_iris = classifier_iris.predict(X_test_iris)\n",
        "\n",
        "# Evaluate the classifier's performance\n",
        "print(\"Confusion Matrix for Iris Dataset:\")\n",
        "print(confusion_matrix(y_test_iris, y_pred_iris))\n",
        "\n",
        "print(\"\\n----------------------------------------------------\")\n",
        "print(\"----------------------------------------------------\\n\")\n",
        "\n",
        "print(\"Classification Report for Iris Dataset:\")\n",
        "print(classification_report(y_test_iris, y_pred_iris))"
      ],
      "execution_count": 157,
      "outputs": [
        {
          "output_type": "stream",
          "name": "stdout",
          "text": [
            "Confusion Matrix for Iris Dataset:\n",
            "[[19  0  0]\n",
            " [ 0 16  3]\n",
            " [ 0  2 20]]\n",
            "\n",
            "----------------------------------------------------\n",
            "----------------------------------------------------\n",
            "\n",
            "Classification Report for Iris Dataset:\n",
            "              precision    recall  f1-score   support\n",
            "\n",
            "           0       1.00      1.00      1.00        19\n",
            "           1       0.89      0.84      0.86        19\n",
            "           2       0.87      0.91      0.89        22\n",
            "\n",
            "    accuracy                           0.92        60\n",
            "   macro avg       0.92      0.92      0.92        60\n",
            "weighted avg       0.92      0.92      0.92        60\n",
            "\n"
          ]
        }
      ]
    },
    {
      "cell_type": "code",
      "metadata": {
        "colab": {
          "base_uri": "https://localhost:8080/",
          "height": 758
        },
        "id": "4fe06918",
        "outputId": "b5de34e5-378d-45eb-87a1-43cdb4475866"
      },
      "source": [
        "# Generate and display the decision tree image for Iris dataset\n",
        "\n",
        "from sklearn.tree import export_graphviz\n",
        "import graphviz\n",
        "\n",
        "# Export the decision tree to a DOT file\n",
        "dot_data_iris = export_graphviz(classifier_iris,\n",
        "                                feature_names=X_iris.columns,\n",
        "                                class_names=['Iris-setosa', 'Iris-versicolor', 'Iris-virginica'],\n",
        "                                filled=True, rounded=True,\n",
        "                                special_characters=True,\n",
        "                                impurity=True) # Set impurity=True to show Gini/Entropy\n",
        "\n",
        "# Visualize the graph\n",
        "graph_iris = graphviz.Source(dot_data_iris)\n",
        "graph_iris.render(\"iris_decision_tree\", view=True, format=\"png\") # Saves and opens the tree as a PNG\n",
        "\n",
        "# To display directly in the notebook\n",
        "display(graph_iris)"
      ],
      "execution_count": 158,
      "outputs": [
        {
          "output_type": "display_data",
          "data": {
            "image/svg+xml": "<?xml version=\"1.0\" encoding=\"UTF-8\" standalone=\"no\"?>\n<!DOCTYPE svg PUBLIC \"-//W3C//DTD SVG 1.1//EN\"\n \"http://www.w3.org/Graphics/SVG/1.1/DTD/svg11.dtd\">\n<!-- Generated by graphviz version 2.43.0 (0)\n -->\n<!-- Title: Tree Pages: 1 -->\n<svg width=\"455pt\" height=\"552pt\"\n viewBox=\"0.00 0.00 455.00 552.00\" xmlns=\"http://www.w3.org/2000/svg\" xmlns:xlink=\"http://www.w3.org/1999/xlink\">\n<g id=\"graph0\" class=\"graph\" transform=\"scale(1 1) rotate(0) translate(4 548)\">\n<title>Tree</title>\n<polygon fill=\"white\" stroke=\"transparent\" points=\"-4,4 -4,-548 451,-548 451,4 -4,4\"/>\n<!-- 0 -->\n<g id=\"node1\" class=\"node\">\n<title>0</title>\n<path fill=\"#ffffff\" stroke=\"black\" d=\"M196.5,-544C196.5,-544 88.5,-544 88.5,-544 82.5,-544 76.5,-538 76.5,-532 76.5,-532 76.5,-473 76.5,-473 76.5,-467 82.5,-461 88.5,-461 88.5,-461 196.5,-461 196.5,-461 202.5,-461 208.5,-467 208.5,-473 208.5,-473 208.5,-532 208.5,-532 208.5,-538 202.5,-544 196.5,-544\"/>\n<text text-anchor=\"start\" x=\"86.5\" y=\"-528.8\" font-family=\"Helvetica,sans-Serif\" font-size=\"14.00\">petal length ≤ 2.45</text>\n<text text-anchor=\"start\" x=\"107\" y=\"-513.8\" font-family=\"Helvetica,sans-Serif\" font-size=\"14.00\">gini = 0.666</text>\n<text text-anchor=\"start\" x=\"101.5\" y=\"-498.8\" font-family=\"Helvetica,sans-Serif\" font-size=\"14.00\">samples = 90</text>\n<text text-anchor=\"start\" x=\"84.5\" y=\"-483.8\" font-family=\"Helvetica,sans-Serif\" font-size=\"14.00\">value = [31, 31, 28]</text>\n<text text-anchor=\"start\" x=\"88\" y=\"-468.8\" font-family=\"Helvetica,sans-Serif\" font-size=\"14.00\">class = Iris&#45;setosa</text>\n</g>\n<!-- 1 -->\n<g id=\"node2\" class=\"node\">\n<title>1</title>\n<path fill=\"#e58139\" stroke=\"black\" d=\"M113,-417.5C113,-417.5 12,-417.5 12,-417.5 6,-417.5 0,-411.5 0,-405.5 0,-405.5 0,-361.5 0,-361.5 0,-355.5 6,-349.5 12,-349.5 12,-349.5 113,-349.5 113,-349.5 119,-349.5 125,-355.5 125,-361.5 125,-361.5 125,-405.5 125,-405.5 125,-411.5 119,-417.5 113,-417.5\"/>\n<text text-anchor=\"start\" x=\"34.5\" y=\"-402.3\" font-family=\"Helvetica,sans-Serif\" font-size=\"14.00\">gini = 0.0</text>\n<text text-anchor=\"start\" x=\"21.5\" y=\"-387.3\" font-family=\"Helvetica,sans-Serif\" font-size=\"14.00\">samples = 31</text>\n<text text-anchor=\"start\" x=\"12\" y=\"-372.3\" font-family=\"Helvetica,sans-Serif\" font-size=\"14.00\">value = [31, 0, 0]</text>\n<text text-anchor=\"start\" x=\"8\" y=\"-357.3\" font-family=\"Helvetica,sans-Serif\" font-size=\"14.00\">class = Iris&#45;setosa</text>\n</g>\n<!-- 0&#45;&gt;1 -->\n<g id=\"edge1\" class=\"edge\">\n<title>0&#45;&gt;1</title>\n<path fill=\"none\" stroke=\"black\" d=\"M114.74,-460.91C107.05,-449.65 98.68,-437.42 90.95,-426.11\"/>\n<polygon fill=\"black\" stroke=\"black\" points=\"93.71,-423.95 85.18,-417.67 87.93,-427.9 93.71,-423.95\"/>\n<text text-anchor=\"middle\" x=\"80.56\" y=\"-438.54\" font-family=\"Helvetica,sans-Serif\" font-size=\"14.00\">True</text>\n</g>\n<!-- 2 -->\n<g id=\"node3\" class=\"node\">\n<title>2</title>\n<path fill=\"#ecfcf3\" stroke=\"black\" d=\"M289.5,-425C289.5,-425 155.5,-425 155.5,-425 149.5,-425 143.5,-419 143.5,-413 143.5,-413 143.5,-354 143.5,-354 143.5,-348 149.5,-342 155.5,-342 155.5,-342 289.5,-342 289.5,-342 295.5,-342 301.5,-348 301.5,-354 301.5,-354 301.5,-413 301.5,-413 301.5,-419 295.5,-425 289.5,-425\"/>\n<text text-anchor=\"start\" x=\"166.5\" y=\"-409.8\" font-family=\"Helvetica,sans-Serif\" font-size=\"14.00\">petal length ≤ 4.75</text>\n<text text-anchor=\"start\" x=\"187\" y=\"-394.8\" font-family=\"Helvetica,sans-Serif\" font-size=\"14.00\">gini = 0.499</text>\n<text text-anchor=\"start\" x=\"181.5\" y=\"-379.8\" font-family=\"Helvetica,sans-Serif\" font-size=\"14.00\">samples = 59</text>\n<text text-anchor=\"start\" x=\"151.5\" y=\"-364.8\" font-family=\"Helvetica,sans-Serif\" font-size=\"14.00\">value = [0.0, 31.0, 28.0]</text>\n<text text-anchor=\"start\" x=\"159\" y=\"-349.8\" font-family=\"Helvetica,sans-Serif\" font-size=\"14.00\">class = Iris&#45;versicolor</text>\n</g>\n<!-- 0&#45;&gt;2 -->\n<g id=\"edge2\" class=\"edge\">\n<title>0&#45;&gt;2</title>\n<path fill=\"none\" stroke=\"black\" d=\"M170.26,-460.91C176.34,-452.01 182.84,-442.51 189.11,-433.33\"/>\n<polygon fill=\"black\" stroke=\"black\" points=\"192.04,-435.25 194.79,-425.02 186.26,-431.3 192.04,-435.25\"/>\n<text text-anchor=\"middle\" x=\"199.41\" y=\"-445.89\" font-family=\"Helvetica,sans-Serif\" font-size=\"14.00\">False</text>\n</g>\n<!-- 3 -->\n<g id=\"node4\" class=\"node\">\n<title>3</title>\n<path fill=\"#39e581\" stroke=\"black\" d=\"M204,-298.5C204,-298.5 85,-298.5 85,-298.5 79,-298.5 73,-292.5 73,-286.5 73,-286.5 73,-242.5 73,-242.5 73,-236.5 79,-230.5 85,-230.5 85,-230.5 204,-230.5 204,-230.5 210,-230.5 216,-236.5 216,-242.5 216,-242.5 216,-286.5 216,-286.5 216,-292.5 210,-298.5 204,-298.5\"/>\n<text text-anchor=\"start\" x=\"116.5\" y=\"-283.3\" font-family=\"Helvetica,sans-Serif\" font-size=\"14.00\">gini = 0.0</text>\n<text text-anchor=\"start\" x=\"103.5\" y=\"-268.3\" font-family=\"Helvetica,sans-Serif\" font-size=\"14.00\">samples = 29</text>\n<text text-anchor=\"start\" x=\"94\" y=\"-253.3\" font-family=\"Helvetica,sans-Serif\" font-size=\"14.00\">value = [0, 29, 0]</text>\n<text text-anchor=\"start\" x=\"81\" y=\"-238.3\" font-family=\"Helvetica,sans-Serif\" font-size=\"14.00\">class = Iris&#45;versicolor</text>\n</g>\n<!-- 2&#45;&gt;3 -->\n<g id=\"edge3\" class=\"edge\">\n<title>2&#45;&gt;3</title>\n<path fill=\"none\" stroke=\"black\" d=\"M195.44,-341.91C187.93,-330.65 179.78,-318.42 172.24,-307.11\"/>\n<polygon fill=\"black\" stroke=\"black\" points=\"175.07,-305.05 166.61,-298.67 169.25,-308.93 175.07,-305.05\"/>\n</g>\n<!-- 4 -->\n<g id=\"node5\" class=\"node\">\n<title>4</title>\n<path fill=\"#8a47e7\" stroke=\"black\" d=\"M357,-306C357,-306 246,-306 246,-306 240,-306 234,-300 234,-294 234,-294 234,-235 234,-235 234,-229 240,-223 246,-223 246,-223 357,-223 357,-223 363,-223 369,-229 369,-235 369,-235 369,-294 369,-294 369,-300 363,-306 357,-306\"/>\n<text text-anchor=\"start\" x=\"248.5\" y=\"-290.8\" font-family=\"Helvetica,sans-Serif\" font-size=\"14.00\">petal width ≤ 1.55</text>\n<text text-anchor=\"start\" x=\"266\" y=\"-275.8\" font-family=\"Helvetica,sans-Serif\" font-size=\"14.00\">gini = 0.124</text>\n<text text-anchor=\"start\" x=\"260.5\" y=\"-260.8\" font-family=\"Helvetica,sans-Serif\" font-size=\"14.00\">samples = 30</text>\n<text text-anchor=\"start\" x=\"251\" y=\"-245.8\" font-family=\"Helvetica,sans-Serif\" font-size=\"14.00\">value = [0, 2, 28]</text>\n<text text-anchor=\"start\" x=\"242\" y=\"-230.8\" font-family=\"Helvetica,sans-Serif\" font-size=\"14.00\">class = Iris&#45;virginica</text>\n</g>\n<!-- 2&#45;&gt;4 -->\n<g id=\"edge4\" class=\"edge\">\n<title>2&#45;&gt;4</title>\n<path fill=\"none\" stroke=\"black\" d=\"M249.91,-341.91C255.91,-333.01 262.33,-323.51 268.53,-314.33\"/>\n<polygon fill=\"black\" stroke=\"black\" points=\"271.44,-316.27 274.14,-306.02 265.64,-312.35 271.44,-316.27\"/>\n</g>\n<!-- 5 -->\n<g id=\"node6\" class=\"node\">\n<title>5</title>\n<path fill=\"#ffffff\" stroke=\"black\" d=\"M282,-187C282,-187 163,-187 163,-187 157,-187 151,-181 151,-175 151,-175 151,-116 151,-116 151,-110 157,-104 163,-104 163,-104 282,-104 282,-104 288,-104 294,-110 294,-116 294,-116 294,-175 294,-175 294,-181 288,-187 282,-187\"/>\n<text text-anchor=\"start\" x=\"170.5\" y=\"-171.8\" font-family=\"Helvetica,sans-Serif\" font-size=\"14.00\">petal length ≤ 5.0</text>\n<text text-anchor=\"start\" x=\"194.5\" y=\"-156.8\" font-family=\"Helvetica,sans-Serif\" font-size=\"14.00\">gini = 0.5</text>\n<text text-anchor=\"start\" x=\"185\" y=\"-141.8\" font-family=\"Helvetica,sans-Serif\" font-size=\"14.00\">samples = 4</text>\n<text text-anchor=\"start\" x=\"175.5\" y=\"-126.8\" font-family=\"Helvetica,sans-Serif\" font-size=\"14.00\">value = [0, 2, 2]</text>\n<text text-anchor=\"start\" x=\"159\" y=\"-111.8\" font-family=\"Helvetica,sans-Serif\" font-size=\"14.00\">class = Iris&#45;versicolor</text>\n</g>\n<!-- 4&#45;&gt;5 -->\n<g id=\"edge5\" class=\"edge\">\n<title>4&#45;&gt;5</title>\n<path fill=\"none\" stroke=\"black\" d=\"M274.09,-222.91C268.09,-214.01 261.67,-204.51 255.47,-195.33\"/>\n<polygon fill=\"black\" stroke=\"black\" points=\"258.36,-193.35 249.86,-187.02 252.56,-197.27 258.36,-193.35\"/>\n</g>\n<!-- 8 -->\n<g id=\"node9\" class=\"node\">\n<title>8</title>\n<path fill=\"#8139e5\" stroke=\"black\" d=\"M435,-179.5C435,-179.5 324,-179.5 324,-179.5 318,-179.5 312,-173.5 312,-167.5 312,-167.5 312,-123.5 312,-123.5 312,-117.5 318,-111.5 324,-111.5 324,-111.5 435,-111.5 435,-111.5 441,-111.5 447,-117.5 447,-123.5 447,-123.5 447,-167.5 447,-167.5 447,-173.5 441,-179.5 435,-179.5\"/>\n<text text-anchor=\"start\" x=\"351.5\" y=\"-164.3\" font-family=\"Helvetica,sans-Serif\" font-size=\"14.00\">gini = 0.0</text>\n<text text-anchor=\"start\" x=\"338.5\" y=\"-149.3\" font-family=\"Helvetica,sans-Serif\" font-size=\"14.00\">samples = 26</text>\n<text text-anchor=\"start\" x=\"329\" y=\"-134.3\" font-family=\"Helvetica,sans-Serif\" font-size=\"14.00\">value = [0, 0, 26]</text>\n<text text-anchor=\"start\" x=\"320\" y=\"-119.3\" font-family=\"Helvetica,sans-Serif\" font-size=\"14.00\">class = Iris&#45;virginica</text>\n</g>\n<!-- 4&#45;&gt;8 -->\n<g id=\"edge8\" class=\"edge\">\n<title>4&#45;&gt;8</title>\n<path fill=\"none\" stroke=\"black\" d=\"M328.56,-222.91C336.07,-211.65 344.22,-199.42 351.76,-188.11\"/>\n<polygon fill=\"black\" stroke=\"black\" points=\"354.75,-189.93 357.39,-179.67 348.93,-186.05 354.75,-189.93\"/>\n</g>\n<!-- 6 -->\n<g id=\"node7\" class=\"node\">\n<title>6</title>\n<path fill=\"#39e581\" stroke=\"black\" d=\"M204,-68C204,-68 85,-68 85,-68 79,-68 73,-62 73,-56 73,-56 73,-12 73,-12 73,-6 79,0 85,0 85,0 204,0 204,0 210,0 216,-6 216,-12 216,-12 216,-56 216,-56 216,-62 210,-68 204,-68\"/>\n<text text-anchor=\"start\" x=\"116.5\" y=\"-52.8\" font-family=\"Helvetica,sans-Serif\" font-size=\"14.00\">gini = 0.0</text>\n<text text-anchor=\"start\" x=\"107\" y=\"-37.8\" font-family=\"Helvetica,sans-Serif\" font-size=\"14.00\">samples = 2</text>\n<text text-anchor=\"start\" x=\"97.5\" y=\"-22.8\" font-family=\"Helvetica,sans-Serif\" font-size=\"14.00\">value = [0, 2, 0]</text>\n<text text-anchor=\"start\" x=\"81\" y=\"-7.8\" font-family=\"Helvetica,sans-Serif\" font-size=\"14.00\">class = Iris&#45;versicolor</text>\n</g>\n<!-- 5&#45;&gt;6 -->\n<g id=\"edge6\" class=\"edge\">\n<title>5&#45;&gt;6</title>\n<path fill=\"none\" stroke=\"black\" d=\"M193.46,-103.73C187.15,-94.88 180.48,-85.51 174.15,-76.63\"/>\n<polygon fill=\"black\" stroke=\"black\" points=\"176.87,-74.41 168.22,-68.3 171.17,-78.48 176.87,-74.41\"/>\n</g>\n<!-- 7 -->\n<g id=\"node8\" class=\"node\">\n<title>7</title>\n<path fill=\"#8139e5\" stroke=\"black\" d=\"M357,-68C357,-68 246,-68 246,-68 240,-68 234,-62 234,-56 234,-56 234,-12 234,-12 234,-6 240,0 246,0 246,0 357,0 357,0 363,0 369,-6 369,-12 369,-12 369,-56 369,-56 369,-62 363,-68 357,-68\"/>\n<text text-anchor=\"start\" x=\"273.5\" y=\"-52.8\" font-family=\"Helvetica,sans-Serif\" font-size=\"14.00\">gini = 0.0</text>\n<text text-anchor=\"start\" x=\"264\" y=\"-37.8\" font-family=\"Helvetica,sans-Serif\" font-size=\"14.00\">samples = 2</text>\n<text text-anchor=\"start\" x=\"254.5\" y=\"-22.8\" font-family=\"Helvetica,sans-Serif\" font-size=\"14.00\">value = [0, 0, 2]</text>\n<text text-anchor=\"start\" x=\"242\" y=\"-7.8\" font-family=\"Helvetica,sans-Serif\" font-size=\"14.00\">class = Iris&#45;virginica</text>\n</g>\n<!-- 5&#45;&gt;7 -->\n<g id=\"edge7\" class=\"edge\">\n<title>5&#45;&gt;7</title>\n<path fill=\"none\" stroke=\"black\" d=\"M251.92,-103.73C258.3,-94.88 265.06,-85.51 271.47,-76.63\"/>\n<polygon fill=\"black\" stroke=\"black\" points=\"274.46,-78.46 277.48,-68.3 268.79,-74.36 274.46,-78.46\"/>\n</g>\n</g>\n</svg>\n",
            "text/plain": [
              "<graphviz.sources.Source at 0x7fa8ed91e0d0>"
            ]
          },
          "metadata": {}
        }
      ]
    },
    {
      "cell_type": "markdown",
      "source": [
        "# **Breast Cancer Decesion Tree Classifier**"
      ],
      "metadata": {
        "id": "xjbZ0spqMrWd"
      }
    },
    {
      "cell_type": "code",
      "metadata": {
        "colab": {
          "base_uri": "https://localhost:8080/"
        },
        "id": "335c4d2f",
        "outputId": "43258131-677d-473a-a47d-1f636b38ab4a"
      },
      "source": [
        "# Decision Tree for Breast Cancer Dataset\n",
        "\n",
        "from sklearn.tree import DecisionTreeClassifier\n",
        "from sklearn.model_selection import train_test_split\n",
        "from sklearn.metrics import classification_report, confusion_matrix\n",
        "from ucimlrepo import fetch_ucirepo\n",
        "from sklearn.preprocessing import LabelEncoder\n",
        "\n",
        "# Load the Breast Cancer dataset\n",
        "breast_cancer_wisconsin_diagnostic = fetch_ucirepo(id=17)\n",
        "X_bc = breast_cancer_wisconsin_diagnostic.data.features\n",
        "y_bc = breast_cancer_wisconsin_diagnostic.data.targets\n",
        "\n",
        "# Encode the target variable for Breast Cancer\n",
        "le_bc = LabelEncoder()\n",
        "y_encoded_bc = le_bc.fit_transform(y_bc.values.ravel())\n",
        "\n",
        "# Split the dataset into training and testing sets\n",
        "X_train_bc, X_test_bc, y_train_bc, y_test_bc = train_test_split(X_bc, y_encoded_bc, test_size=0.25, random_state=42)\n",
        "\n",
        "# Create a Decision Tree Classifier instance\n",
        "# You can experiment with 'gini' or 'entropy' for the criterion\n",
        "classifier_bc = DecisionTreeClassifier(criterion='entropy', random_state=42)\n",
        "\n",
        "# Train the classifier\n",
        "classifier_bc.fit(X_train_bc, y_train_bc)\n",
        "\n",
        "# Make predictions on the test data\n",
        "y_pred_bc = classifier_bc.predict(X_test_bc)\n",
        "\n",
        "# Evaluate the classifier's performance\n",
        "print(\"Confusion Matrix for Breast Cancer Dataset:\")\n",
        "print(confusion_matrix(y_test_bc, y_pred_bc))\n",
        "\n",
        "print(\"\\n----------------------------------------------------\")\n",
        "print(\"----------------------------------------------------\\n\")\n",
        "\n",
        "print(\"Classification Report for Breast Cancer Dataset:\")\n",
        "print(classification_report(y_test_bc, y_pred_bc))"
      ],
      "execution_count": 159,
      "outputs": [
        {
          "output_type": "stream",
          "name": "stdout",
          "text": [
            "Confusion Matrix for Breast Cancer Dataset:\n",
            "[[87  2]\n",
            " [ 4 50]]\n",
            "\n",
            "----------------------------------------------------\n",
            "----------------------------------------------------\n",
            "\n",
            "Classification Report for Breast Cancer Dataset:\n",
            "              precision    recall  f1-score   support\n",
            "\n",
            "           0       0.96      0.98      0.97        89\n",
            "           1       0.96      0.93      0.94        54\n",
            "\n",
            "    accuracy                           0.96       143\n",
            "   macro avg       0.96      0.95      0.96       143\n",
            "weighted avg       0.96      0.96      0.96       143\n",
            "\n"
          ]
        }
      ]
    },
    {
      "cell_type": "code",
      "metadata": {
        "colab": {
          "base_uri": "https://localhost:8080/",
          "height": 1000
        },
        "id": "3b9ab4b9",
        "outputId": "ece3d9c1-3464-49e9-e6f7-88920bca7140"
      },
      "source": [
        "# Generate and display the decision tree image for Breast Cancer dataset\n",
        "\n",
        "from sklearn.tree import export_graphviz\n",
        "import graphviz\n",
        "\n",
        "# Export the decision tree to a DOT file\n",
        "dot_data_bc = export_graphviz(classifier_bc,\n",
        "                              feature_names=X_bc.columns,\n",
        "                              class_names=['Benign', 'Malignant'], # Assuming the classes are Benign and Malignant based on the dataset info\n",
        "                              filled=True, rounded=True,\n",
        "                              special_characters=True,\n",
        "                              impurity=True) # Set impurity=True to show Gini/Entropy\n",
        "\n",
        "# Visualize the graph\n",
        "graph_bc = graphviz.Source(dot_data_bc)\n",
        "graph_bc.render(\"breast_cancer_decision_tree\", view=True, format=\"png\") # Saves and opens the tree as a PNG\n",
        "\n",
        "# To display directly in the notebook\n",
        "display(graph_bc)"
      ],
      "execution_count": 160,
      "outputs": [
        {
          "output_type": "display_data",
          "data": {
            "image/svg+xml": "<?xml version=\"1.0\" encoding=\"UTF-8\" standalone=\"no\"?>\n<!DOCTYPE svg PUBLIC \"-//W3C//DTD SVG 1.1//EN\"\n \"http://www.w3.org/Graphics/SVG/1.1/DTD/svg11.dtd\">\n<!-- Generated by graphviz version 2.43.0 (0)\n -->\n<!-- Title: Tree Pages: 1 -->\n<svg width=\"1069pt\" height=\"909pt\"\n viewBox=\"0.00 0.00 1069.00 909.00\" xmlns=\"http://www.w3.org/2000/svg\" xmlns:xlink=\"http://www.w3.org/1999/xlink\">\n<g id=\"graph0\" class=\"graph\" transform=\"scale(1 1) rotate(0) translate(4 905)\">\n<title>Tree</title>\n<polygon fill=\"white\" stroke=\"transparent\" points=\"-4,4 -4,-905 1065,-905 1065,4 -4,4\"/>\n<!-- 0 -->\n<g id=\"node1\" class=\"node\">\n<title>0</title>\n<path fill=\"#f4cbae\" stroke=\"black\" d=\"M805.5,-901C805.5,-901 662.5,-901 662.5,-901 656.5,-901 650.5,-895 650.5,-889 650.5,-889 650.5,-830 650.5,-830 650.5,-824 656.5,-818 662.5,-818 662.5,-818 805.5,-818 805.5,-818 811.5,-818 817.5,-824 817.5,-830 817.5,-830 817.5,-889 817.5,-889 817.5,-895 811.5,-901 805.5,-901\"/>\n<text text-anchor=\"start\" x=\"658.5\" y=\"-885.8\" font-family=\"Helvetica,sans-Serif\" font-size=\"14.00\">concave_points1 ≤ 0.051</text>\n<text text-anchor=\"start\" x=\"686.5\" y=\"-870.8\" font-family=\"Helvetica,sans-Serif\" font-size=\"14.00\">entropy = 0.951</text>\n<text text-anchor=\"start\" x=\"689\" y=\"-855.8\" font-family=\"Helvetica,sans-Serif\" font-size=\"14.00\">samples = 426</text>\n<text text-anchor=\"start\" x=\"679.5\" y=\"-840.8\" font-family=\"Helvetica,sans-Serif\" font-size=\"14.00\">value = [268, 158]</text>\n<text text-anchor=\"start\" x=\"689.5\" y=\"-825.8\" font-family=\"Helvetica,sans-Serif\" font-size=\"14.00\">class = Benign</text>\n</g>\n<!-- 1 -->\n<g id=\"node2\" class=\"node\">\n<title>1</title>\n<path fill=\"#e78946\" stroke=\"black\" d=\"M615.5,-782C615.5,-782 522.5,-782 522.5,-782 516.5,-782 510.5,-776 510.5,-770 510.5,-770 510.5,-711 510.5,-711 510.5,-705 516.5,-699 522.5,-699 522.5,-699 615.5,-699 615.5,-699 621.5,-699 627.5,-705 627.5,-711 627.5,-711 627.5,-770 627.5,-770 627.5,-776 621.5,-782 615.5,-782\"/>\n<text text-anchor=\"start\" x=\"522\" y=\"-766.8\" font-family=\"Helvetica,sans-Serif\" font-size=\"14.00\">radius3 ≤ 16.83</text>\n<text text-anchor=\"start\" x=\"521.5\" y=\"-751.8\" font-family=\"Helvetica,sans-Serif\" font-size=\"14.00\">entropy = 0.327</text>\n<text text-anchor=\"start\" x=\"524\" y=\"-736.8\" font-family=\"Helvetica,sans-Serif\" font-size=\"14.00\">samples = 267</text>\n<text text-anchor=\"start\" x=\"518.5\" y=\"-721.8\" font-family=\"Helvetica,sans-Serif\" font-size=\"14.00\">value = [251, 16]</text>\n<text text-anchor=\"start\" x=\"524.5\" y=\"-706.8\" font-family=\"Helvetica,sans-Serif\" font-size=\"14.00\">class = Benign</text>\n</g>\n<!-- 0&#45;&gt;1 -->\n<g id=\"edge1\" class=\"edge\">\n<title>0&#45;&gt;1</title>\n<path fill=\"none\" stroke=\"black\" d=\"M676.75,-817.91C663.06,-808.2 648.34,-797.76 634.31,-787.81\"/>\n<polygon fill=\"black\" stroke=\"black\" points=\"636.33,-784.95 626.14,-782.02 632.28,-790.66 636.33,-784.95\"/>\n<text text-anchor=\"middle\" x=\"630.34\" y=\"-802.97\" font-family=\"Helvetica,sans-Serif\" font-size=\"14.00\">True</text>\n</g>\n<!-- 20 -->\n<g id=\"node21\" class=\"node\">\n<title>20</title>\n<path fill=\"#51a9e8\" stroke=\"black\" d=\"M894,-782C894,-782 780,-782 780,-782 774,-782 768,-776 768,-770 768,-770 768,-711 768,-711 768,-705 774,-699 780,-699 780,-699 894,-699 894,-699 900,-699 906,-705 906,-711 906,-711 906,-770 906,-770 906,-776 900,-782 894,-782\"/>\n<text text-anchor=\"start\" x=\"776\" y=\"-766.8\" font-family=\"Helvetica,sans-Serif\" font-size=\"14.00\">perimeter3 ≤ 114.45</text>\n<text text-anchor=\"start\" x=\"789.5\" y=\"-751.8\" font-family=\"Helvetica,sans-Serif\" font-size=\"14.00\">entropy = 0.491</text>\n<text text-anchor=\"start\" x=\"792\" y=\"-736.8\" font-family=\"Helvetica,sans-Serif\" font-size=\"14.00\">samples = 159</text>\n<text text-anchor=\"start\" x=\"786.5\" y=\"-721.8\" font-family=\"Helvetica,sans-Serif\" font-size=\"14.00\">value = [17, 142]</text>\n<text text-anchor=\"start\" x=\"784\" y=\"-706.8\" font-family=\"Helvetica,sans-Serif\" font-size=\"14.00\">class = Malignant</text>\n</g>\n<!-- 0&#45;&gt;20 -->\n<g id=\"edge20\" class=\"edge\">\n<title>0&#45;&gt;20</title>\n<path fill=\"none\" stroke=\"black\" d=\"M769.74,-817.91C777.72,-808.83 786.27,-799.12 794.51,-789.77\"/>\n<polygon fill=\"black\" stroke=\"black\" points=\"797.35,-791.84 801.33,-782.02 792.09,-787.21 797.35,-791.84\"/>\n<text text-anchor=\"middle\" x=\"802.92\" y=\"-803.27\" font-family=\"Helvetica,sans-Serif\" font-size=\"14.00\">False</text>\n</g>\n<!-- 2 -->\n<g id=\"node3\" class=\"node\">\n<title>2</title>\n<path fill=\"#e6843d\" stroke=\"black\" d=\"M390.5,-663C390.5,-663 303.5,-663 303.5,-663 297.5,-663 291.5,-657 291.5,-651 291.5,-651 291.5,-592 291.5,-592 291.5,-586 297.5,-580 303.5,-580 303.5,-580 390.5,-580 390.5,-580 396.5,-580 402.5,-586 402.5,-592 402.5,-592 402.5,-651 402.5,-651 402.5,-657 396.5,-663 390.5,-663\"/>\n<text text-anchor=\"start\" x=\"309\" y=\"-647.8\" font-family=\"Helvetica,sans-Serif\" font-size=\"14.00\">area2 ≤ 48.7</text>\n<text text-anchor=\"start\" x=\"299.5\" y=\"-632.8\" font-family=\"Helvetica,sans-Serif\" font-size=\"14.00\">entropy = 0.142</text>\n<text text-anchor=\"start\" x=\"302\" y=\"-617.8\" font-family=\"Helvetica,sans-Serif\" font-size=\"14.00\">samples = 249</text>\n<text text-anchor=\"start\" x=\"300\" y=\"-602.8\" font-family=\"Helvetica,sans-Serif\" font-size=\"14.00\">value = [244, 5]</text>\n<text text-anchor=\"start\" x=\"302.5\" y=\"-587.8\" font-family=\"Helvetica,sans-Serif\" font-size=\"14.00\">class = Benign</text>\n</g>\n<!-- 1&#45;&gt;2 -->\n<g id=\"edge2\" class=\"edge\">\n<title>1&#45;&gt;2</title>\n<path fill=\"none\" stroke=\"black\" d=\"M510.38,-708.61C479.98,-692.59 442.78,-672.98 411.56,-656.53\"/>\n<polygon fill=\"black\" stroke=\"black\" points=\"412.98,-653.32 402.5,-651.75 409.72,-659.51 412.98,-653.32\"/>\n</g>\n<!-- 15 -->\n<g id=\"node16\" class=\"node\">\n<title>15</title>\n<path fill=\"#b7dbf6\" stroke=\"black\" d=\"M618,-663C618,-663 520,-663 520,-663 514,-663 508,-657 508,-651 508,-651 508,-592 508,-592 508,-586 514,-580 520,-580 520,-580 618,-580 618,-580 624,-580 630,-586 630,-592 630,-592 630,-651 630,-651 630,-657 624,-663 618,-663\"/>\n<text text-anchor=\"start\" x=\"520\" y=\"-647.8\" font-family=\"Helvetica,sans-Serif\" font-size=\"14.00\">texture3 ≤ 19.91</text>\n<text text-anchor=\"start\" x=\"521.5\" y=\"-632.8\" font-family=\"Helvetica,sans-Serif\" font-size=\"14.00\">entropy = 0.964</text>\n<text text-anchor=\"start\" x=\"528\" y=\"-617.8\" font-family=\"Helvetica,sans-Serif\" font-size=\"14.00\">samples = 18</text>\n<text text-anchor=\"start\" x=\"526\" y=\"-602.8\" font-family=\"Helvetica,sans-Serif\" font-size=\"14.00\">value = [7, 11]</text>\n<text text-anchor=\"start\" x=\"516\" y=\"-587.8\" font-family=\"Helvetica,sans-Serif\" font-size=\"14.00\">class = Malignant</text>\n</g>\n<!-- 1&#45;&gt;15 -->\n<g id=\"edge15\" class=\"edge\">\n<title>1&#45;&gt;15</title>\n<path fill=\"none\" stroke=\"black\" d=\"M569,-698.91C569,-690.65 569,-681.86 569,-673.3\"/>\n<polygon fill=\"black\" stroke=\"black\" points=\"572.5,-673.02 569,-663.02 565.5,-673.02 572.5,-673.02\"/>\n</g>\n<!-- 3 -->\n<g id=\"node4\" class=\"node\">\n<title>3</title>\n<path fill=\"#e5833b\" stroke=\"black\" d=\"M233,-544C233,-544 135,-544 135,-544 129,-544 123,-538 123,-532 123,-532 123,-473 123,-473 123,-467 129,-461 135,-461 135,-461 233,-461 233,-461 239,-461 245,-467 245,-473 245,-473 245,-532 245,-532 245,-538 239,-544 233,-544\"/>\n<text text-anchor=\"start\" x=\"131\" y=\"-528.8\" font-family=\"Helvetica,sans-Serif\" font-size=\"14.00\">texture3 ≤ 30.145</text>\n<text text-anchor=\"start\" x=\"136.5\" y=\"-513.8\" font-family=\"Helvetica,sans-Serif\" font-size=\"14.00\">entropy = 0.095</text>\n<text text-anchor=\"start\" x=\"139\" y=\"-498.8\" font-family=\"Helvetica,sans-Serif\" font-size=\"14.00\">samples = 246</text>\n<text text-anchor=\"start\" x=\"137\" y=\"-483.8\" font-family=\"Helvetica,sans-Serif\" font-size=\"14.00\">value = [243, 3]</text>\n<text text-anchor=\"start\" x=\"139.5\" y=\"-468.8\" font-family=\"Helvetica,sans-Serif\" font-size=\"14.00\">class = Benign</text>\n</g>\n<!-- 2&#45;&gt;3 -->\n<g id=\"edge3\" class=\"edge\">\n<title>2&#45;&gt;3</title>\n<path fill=\"none\" stroke=\"black\" d=\"M291.36,-580.56C277.64,-570.71 262.82,-560.08 248.71,-549.95\"/>\n<polygon fill=\"black\" stroke=\"black\" points=\"250.66,-547.04 240.5,-544.05 246.58,-552.73 250.66,-547.04\"/>\n</g>\n<!-- 12 -->\n<g id=\"node13\" class=\"node\">\n<title>12</title>\n<path fill=\"#9ccef2\" stroke=\"black\" d=\"M396,-544C396,-544 298,-544 298,-544 292,-544 286,-538 286,-532 286,-532 286,-473 286,-473 286,-467 292,-461 298,-461 298,-461 396,-461 396,-461 402,-461 408,-467 408,-473 408,-473 408,-532 408,-532 408,-538 402,-544 396,-544\"/>\n<text text-anchor=\"start\" x=\"298\" y=\"-528.8\" font-family=\"Helvetica,sans-Serif\" font-size=\"14.00\">texture2 ≤ 1.927</text>\n<text text-anchor=\"start\" x=\"299.5\" y=\"-513.8\" font-family=\"Helvetica,sans-Serif\" font-size=\"14.00\">entropy = 0.918</text>\n<text text-anchor=\"start\" x=\"309.5\" y=\"-498.8\" font-family=\"Helvetica,sans-Serif\" font-size=\"14.00\">samples = 3</text>\n<text text-anchor=\"start\" x=\"307.5\" y=\"-483.8\" font-family=\"Helvetica,sans-Serif\" font-size=\"14.00\">value = [1, 2]</text>\n<text text-anchor=\"start\" x=\"294\" y=\"-468.8\" font-family=\"Helvetica,sans-Serif\" font-size=\"14.00\">class = Malignant</text>\n</g>\n<!-- 2&#45;&gt;12 -->\n<g id=\"edge12\" class=\"edge\">\n<title>2&#45;&gt;12</title>\n<path fill=\"none\" stroke=\"black\" d=\"M347,-579.91C347,-571.65 347,-562.86 347,-554.3\"/>\n<polygon fill=\"black\" stroke=\"black\" points=\"350.5,-554.02 347,-544.02 343.5,-554.02 350.5,-554.02\"/>\n</g>\n<!-- 4 -->\n<g id=\"node5\" class=\"node\">\n<title>4</title>\n<path fill=\"#e58139\" stroke=\"black\" d=\"M98,-417.5C98,-417.5 12,-417.5 12,-417.5 6,-417.5 0,-411.5 0,-405.5 0,-405.5 0,-361.5 0,-361.5 0,-355.5 6,-349.5 12,-349.5 12,-349.5 98,-349.5 98,-349.5 104,-349.5 110,-355.5 110,-361.5 110,-361.5 110,-405.5 110,-405.5 110,-411.5 104,-417.5 98,-417.5\"/>\n<text text-anchor=\"start\" x=\"15\" y=\"-402.3\" font-family=\"Helvetica,sans-Serif\" font-size=\"14.00\">entropy = 0.0</text>\n<text text-anchor=\"start\" x=\"10\" y=\"-387.3\" font-family=\"Helvetica,sans-Serif\" font-size=\"14.00\">samples = 213</text>\n<text text-anchor=\"start\" x=\"8\" y=\"-372.3\" font-family=\"Helvetica,sans-Serif\" font-size=\"14.00\">value = [213, 0]</text>\n<text text-anchor=\"start\" x=\"10.5\" y=\"-357.3\" font-family=\"Helvetica,sans-Serif\" font-size=\"14.00\">class = Benign</text>\n</g>\n<!-- 3&#45;&gt;4 -->\n<g id=\"edge4\" class=\"edge\">\n<title>3&#45;&gt;4</title>\n<path fill=\"none\" stroke=\"black\" d=\"M139.24,-460.91C126.23,-449.1 112.02,-436.22 99.05,-424.45\"/>\n<polygon fill=\"black\" stroke=\"black\" points=\"101.33,-421.79 91.57,-417.67 96.62,-426.98 101.33,-421.79\"/>\n</g>\n<!-- 5 -->\n<g id=\"node6\" class=\"node\">\n<title>5</title>\n<path fill=\"#e88e4d\" stroke=\"black\" d=\"M227.5,-425C227.5,-425 140.5,-425 140.5,-425 134.5,-425 128.5,-419 128.5,-413 128.5,-413 128.5,-354 128.5,-354 128.5,-348 134.5,-342 140.5,-342 140.5,-342 227.5,-342 227.5,-342 233.5,-342 239.5,-348 239.5,-354 239.5,-354 239.5,-413 239.5,-413 239.5,-419 233.5,-425 227.5,-425\"/>\n<text text-anchor=\"start\" x=\"137\" y=\"-409.8\" font-family=\"Helvetica,sans-Serif\" font-size=\"14.00\">radius3 ≤ 14.43</text>\n<text text-anchor=\"start\" x=\"136.5\" y=\"-394.8\" font-family=\"Helvetica,sans-Serif\" font-size=\"14.00\">entropy = 0.439</text>\n<text text-anchor=\"start\" x=\"143\" y=\"-379.8\" font-family=\"Helvetica,sans-Serif\" font-size=\"14.00\">samples = 33</text>\n<text text-anchor=\"start\" x=\"141\" y=\"-364.8\" font-family=\"Helvetica,sans-Serif\" font-size=\"14.00\">value = [30, 3]</text>\n<text text-anchor=\"start\" x=\"139.5\" y=\"-349.8\" font-family=\"Helvetica,sans-Serif\" font-size=\"14.00\">class = Benign</text>\n</g>\n<!-- 3&#45;&gt;5 -->\n<g id=\"edge5\" class=\"edge\">\n<title>3&#45;&gt;5</title>\n<path fill=\"none\" stroke=\"black\" d=\"M184,-460.91C184,-452.65 184,-443.86 184,-435.3\"/>\n<polygon fill=\"black\" stroke=\"black\" points=\"187.5,-435.02 184,-425.02 180.5,-435.02 187.5,-435.02\"/>\n</g>\n<!-- 6 -->\n<g id=\"node7\" class=\"node\">\n<title>6</title>\n<path fill=\"#e58139\" stroke=\"black\" d=\"M156.5,-298.5C156.5,-298.5 75.5,-298.5 75.5,-298.5 69.5,-298.5 63.5,-292.5 63.5,-286.5 63.5,-286.5 63.5,-242.5 63.5,-242.5 63.5,-236.5 69.5,-230.5 75.5,-230.5 75.5,-230.5 156.5,-230.5 156.5,-230.5 162.5,-230.5 168.5,-236.5 168.5,-242.5 168.5,-242.5 168.5,-286.5 168.5,-286.5 168.5,-292.5 162.5,-298.5 156.5,-298.5\"/>\n<text text-anchor=\"start\" x=\"76\" y=\"-283.3\" font-family=\"Helvetica,sans-Serif\" font-size=\"14.00\">entropy = 0.0</text>\n<text text-anchor=\"start\" x=\"75\" y=\"-268.3\" font-family=\"Helvetica,sans-Serif\" font-size=\"14.00\">samples = 23</text>\n<text text-anchor=\"start\" x=\"73\" y=\"-253.3\" font-family=\"Helvetica,sans-Serif\" font-size=\"14.00\">value = [23, 0]</text>\n<text text-anchor=\"start\" x=\"71.5\" y=\"-238.3\" font-family=\"Helvetica,sans-Serif\" font-size=\"14.00\">class = Benign</text>\n</g>\n<!-- 5&#45;&gt;6 -->\n<g id=\"edge6\" class=\"edge\">\n<title>5&#45;&gt;6</title>\n<path fill=\"none\" stroke=\"black\" d=\"M160.41,-341.91C153.93,-330.76 146.9,-318.66 140.37,-307.44\"/>\n<polygon fill=\"black\" stroke=\"black\" points=\"143.33,-305.55 135.28,-298.67 137.28,-309.07 143.33,-305.55\"/>\n</g>\n<!-- 7 -->\n<g id=\"node8\" class=\"node\">\n<title>7</title>\n<path fill=\"#f0b78e\" stroke=\"black\" d=\"M305.5,-306C305.5,-306 198.5,-306 198.5,-306 192.5,-306 186.5,-300 186.5,-294 186.5,-294 186.5,-235 186.5,-235 186.5,-229 192.5,-223 198.5,-223 198.5,-223 305.5,-223 305.5,-223 311.5,-223 317.5,-229 317.5,-235 317.5,-235 317.5,-294 317.5,-294 317.5,-300 311.5,-306 305.5,-306\"/>\n<text text-anchor=\"start\" x=\"194.5\" y=\"-290.8\" font-family=\"Helvetica,sans-Serif\" font-size=\"14.00\">perimeter1 ≤ 86.26</text>\n<text text-anchor=\"start\" x=\"204.5\" y=\"-275.8\" font-family=\"Helvetica,sans-Serif\" font-size=\"14.00\">entropy = 0.881</text>\n<text text-anchor=\"start\" x=\"211\" y=\"-260.8\" font-family=\"Helvetica,sans-Serif\" font-size=\"14.00\">samples = 10</text>\n<text text-anchor=\"start\" x=\"212.5\" y=\"-245.8\" font-family=\"Helvetica,sans-Serif\" font-size=\"14.00\">value = [7, 3]</text>\n<text text-anchor=\"start\" x=\"207.5\" y=\"-230.8\" font-family=\"Helvetica,sans-Serif\" font-size=\"14.00\">class = Benign</text>\n</g>\n<!-- 5&#45;&gt;7 -->\n<g id=\"edge7\" class=\"edge\">\n<title>5&#45;&gt;7</title>\n<path fill=\"none\" stroke=\"black\" d=\"M207.59,-341.91C212.66,-333.2 218.06,-323.9 223.29,-314.89\"/>\n<polygon fill=\"black\" stroke=\"black\" points=\"226.45,-316.43 228.45,-306.02 220.4,-312.91 226.45,-316.43\"/>\n</g>\n<!-- 8 -->\n<g id=\"node9\" class=\"node\">\n<title>8</title>\n<path fill=\"#7bbeee\" stroke=\"black\" d=\"M235,-187C235,-187 137,-187 137,-187 131,-187 125,-181 125,-175 125,-175 125,-116 125,-116 125,-110 131,-104 137,-104 137,-104 235,-104 235,-104 241,-104 247,-110 247,-116 247,-116 247,-175 247,-175 247,-181 241,-187 235,-187\"/>\n<text text-anchor=\"start\" x=\"133\" y=\"-171.8\" font-family=\"Helvetica,sans-Serif\" font-size=\"14.00\">texture1 ≤ 27.535</text>\n<text text-anchor=\"start\" x=\"138.5\" y=\"-156.8\" font-family=\"Helvetica,sans-Serif\" font-size=\"14.00\">entropy = 0.811</text>\n<text text-anchor=\"start\" x=\"148.5\" y=\"-141.8\" font-family=\"Helvetica,sans-Serif\" font-size=\"14.00\">samples = 4</text>\n<text text-anchor=\"start\" x=\"146.5\" y=\"-126.8\" font-family=\"Helvetica,sans-Serif\" font-size=\"14.00\">value = [1, 3]</text>\n<text text-anchor=\"start\" x=\"133\" y=\"-111.8\" font-family=\"Helvetica,sans-Serif\" font-size=\"14.00\">class = Malignant</text>\n</g>\n<!-- 7&#45;&gt;8 -->\n<g id=\"edge8\" class=\"edge\">\n<title>7&#45;&gt;8</title>\n<path fill=\"none\" stroke=\"black\" d=\"M229.1,-222.91C224.19,-214.2 218.94,-204.9 213.86,-195.89\"/>\n<polygon fill=\"black\" stroke=\"black\" points=\"216.82,-194.01 208.86,-187.02 210.72,-197.45 216.82,-194.01\"/>\n</g>\n<!-- 11 -->\n<g id=\"node12\" class=\"node\">\n<title>11</title>\n<path fill=\"#e58139\" stroke=\"black\" d=\"M358.5,-179.5C358.5,-179.5 277.5,-179.5 277.5,-179.5 271.5,-179.5 265.5,-173.5 265.5,-167.5 265.5,-167.5 265.5,-123.5 265.5,-123.5 265.5,-117.5 271.5,-111.5 277.5,-111.5 277.5,-111.5 358.5,-111.5 358.5,-111.5 364.5,-111.5 370.5,-117.5 370.5,-123.5 370.5,-123.5 370.5,-167.5 370.5,-167.5 370.5,-173.5 364.5,-179.5 358.5,-179.5\"/>\n<text text-anchor=\"start\" x=\"278\" y=\"-164.3\" font-family=\"Helvetica,sans-Serif\" font-size=\"14.00\">entropy = 0.0</text>\n<text text-anchor=\"start\" x=\"280.5\" y=\"-149.3\" font-family=\"Helvetica,sans-Serif\" font-size=\"14.00\">samples = 6</text>\n<text text-anchor=\"start\" x=\"278.5\" y=\"-134.3\" font-family=\"Helvetica,sans-Serif\" font-size=\"14.00\">value = [6, 0]</text>\n<text text-anchor=\"start\" x=\"273.5\" y=\"-119.3\" font-family=\"Helvetica,sans-Serif\" font-size=\"14.00\">class = Benign</text>\n</g>\n<!-- 7&#45;&gt;11 -->\n<g id=\"edge11\" class=\"edge\">\n<title>7&#45;&gt;11</title>\n<path fill=\"none\" stroke=\"black\" d=\"M274.9,-222.91C281.19,-211.76 288.01,-199.66 294.34,-188.44\"/>\n<polygon fill=\"black\" stroke=\"black\" points=\"297.43,-190.1 299.29,-179.67 291.33,-186.66 297.43,-190.1\"/>\n</g>\n<!-- 9 -->\n<g id=\"node10\" class=\"node\">\n<title>9</title>\n<path fill=\"#399de5\" stroke=\"black\" d=\"M169,-68C169,-68 71,-68 71,-68 65,-68 59,-62 59,-56 59,-56 59,-12 59,-12 59,-6 65,0 71,0 71,0 169,0 169,0 175,0 181,-6 181,-12 181,-12 181,-56 181,-56 181,-62 175,-68 169,-68\"/>\n<text text-anchor=\"start\" x=\"80\" y=\"-52.8\" font-family=\"Helvetica,sans-Serif\" font-size=\"14.00\">entropy = 0.0</text>\n<text text-anchor=\"start\" x=\"82.5\" y=\"-37.8\" font-family=\"Helvetica,sans-Serif\" font-size=\"14.00\">samples = 3</text>\n<text text-anchor=\"start\" x=\"80.5\" y=\"-22.8\" font-family=\"Helvetica,sans-Serif\" font-size=\"14.00\">value = [0, 3]</text>\n<text text-anchor=\"start\" x=\"67\" y=\"-7.8\" font-family=\"Helvetica,sans-Serif\" font-size=\"14.00\">class = Malignant</text>\n</g>\n<!-- 8&#45;&gt;9 -->\n<g id=\"edge9\" class=\"edge\">\n<title>8&#45;&gt;9</title>\n<path fill=\"none\" stroke=\"black\" d=\"M161.42,-103.73C156.15,-94.97 150.56,-85.7 145.26,-76.91\"/>\n<polygon fill=\"black\" stroke=\"black\" points=\"148.23,-75.06 140.07,-68.3 142.24,-78.67 148.23,-75.06\"/>\n</g>\n<!-- 10 -->\n<g id=\"node11\" class=\"node\">\n<title>10</title>\n<path fill=\"#e58139\" stroke=\"black\" d=\"M292.5,-68C292.5,-68 211.5,-68 211.5,-68 205.5,-68 199.5,-62 199.5,-56 199.5,-56 199.5,-12 199.5,-12 199.5,-6 205.5,0 211.5,0 211.5,0 292.5,0 292.5,0 298.5,0 304.5,-6 304.5,-12 304.5,-12 304.5,-56 304.5,-56 304.5,-62 298.5,-68 292.5,-68\"/>\n<text text-anchor=\"start\" x=\"212\" y=\"-52.8\" font-family=\"Helvetica,sans-Serif\" font-size=\"14.00\">entropy = 0.0</text>\n<text text-anchor=\"start\" x=\"214.5\" y=\"-37.8\" font-family=\"Helvetica,sans-Serif\" font-size=\"14.00\">samples = 1</text>\n<text text-anchor=\"start\" x=\"212.5\" y=\"-22.8\" font-family=\"Helvetica,sans-Serif\" font-size=\"14.00\">value = [1, 0]</text>\n<text text-anchor=\"start\" x=\"207.5\" y=\"-7.8\" font-family=\"Helvetica,sans-Serif\" font-size=\"14.00\">class = Benign</text>\n</g>\n<!-- 8&#45;&gt;10 -->\n<g id=\"edge10\" class=\"edge\">\n<title>8&#45;&gt;10</title>\n<path fill=\"none\" stroke=\"black\" d=\"M210.58,-103.73C215.85,-94.97 221.44,-85.7 226.74,-76.91\"/>\n<polygon fill=\"black\" stroke=\"black\" points=\"229.76,-78.67 231.93,-68.3 223.77,-75.06 229.76,-78.67\"/>\n</g>\n<!-- 13 -->\n<g id=\"node14\" class=\"node\">\n<title>13</title>\n<path fill=\"#e58139\" stroke=\"black\" d=\"M350.5,-417.5C350.5,-417.5 269.5,-417.5 269.5,-417.5 263.5,-417.5 257.5,-411.5 257.5,-405.5 257.5,-405.5 257.5,-361.5 257.5,-361.5 257.5,-355.5 263.5,-349.5 269.5,-349.5 269.5,-349.5 350.5,-349.5 350.5,-349.5 356.5,-349.5 362.5,-355.5 362.5,-361.5 362.5,-361.5 362.5,-405.5 362.5,-405.5 362.5,-411.5 356.5,-417.5 350.5,-417.5\"/>\n<text text-anchor=\"start\" x=\"270\" y=\"-402.3\" font-family=\"Helvetica,sans-Serif\" font-size=\"14.00\">entropy = 0.0</text>\n<text text-anchor=\"start\" x=\"272.5\" y=\"-387.3\" font-family=\"Helvetica,sans-Serif\" font-size=\"14.00\">samples = 1</text>\n<text text-anchor=\"start\" x=\"270.5\" y=\"-372.3\" font-family=\"Helvetica,sans-Serif\" font-size=\"14.00\">value = [1, 0]</text>\n<text text-anchor=\"start\" x=\"265.5\" y=\"-357.3\" font-family=\"Helvetica,sans-Serif\" font-size=\"14.00\">class = Benign</text>\n</g>\n<!-- 12&#45;&gt;13 -->\n<g id=\"edge13\" class=\"edge\">\n<title>12&#45;&gt;13</title>\n<path fill=\"none\" stroke=\"black\" d=\"M334.16,-460.91C330.74,-450.09 327.04,-438.38 323.58,-427.44\"/>\n<polygon fill=\"black\" stroke=\"black\" points=\"326.84,-426.15 320.49,-417.67 320.17,-428.26 326.84,-426.15\"/>\n</g>\n<!-- 14 -->\n<g id=\"node15\" class=\"node\">\n<title>14</title>\n<path fill=\"#399de5\" stroke=\"black\" d=\"M491,-417.5C491,-417.5 393,-417.5 393,-417.5 387,-417.5 381,-411.5 381,-405.5 381,-405.5 381,-361.5 381,-361.5 381,-355.5 387,-349.5 393,-349.5 393,-349.5 491,-349.5 491,-349.5 497,-349.5 503,-355.5 503,-361.5 503,-361.5 503,-405.5 503,-405.5 503,-411.5 497,-417.5 491,-417.5\"/>\n<text text-anchor=\"start\" x=\"402\" y=\"-402.3\" font-family=\"Helvetica,sans-Serif\" font-size=\"14.00\">entropy = 0.0</text>\n<text text-anchor=\"start\" x=\"404.5\" y=\"-387.3\" font-family=\"Helvetica,sans-Serif\" font-size=\"14.00\">samples = 2</text>\n<text text-anchor=\"start\" x=\"402.5\" y=\"-372.3\" font-family=\"Helvetica,sans-Serif\" font-size=\"14.00\">value = [0, 2]</text>\n<text text-anchor=\"start\" x=\"389\" y=\"-357.3\" font-family=\"Helvetica,sans-Serif\" font-size=\"14.00\">class = Malignant</text>\n</g>\n<!-- 12&#45;&gt;14 -->\n<g id=\"edge14\" class=\"edge\">\n<title>12&#45;&gt;14</title>\n<path fill=\"none\" stroke=\"black\" d=\"M379.96,-460.91C389.28,-449.43 399.42,-436.94 408.76,-425.44\"/>\n<polygon fill=\"black\" stroke=\"black\" points=\"411.48,-427.64 415.07,-417.67 406.05,-423.22 411.48,-427.64\"/>\n</g>\n<!-- 16 -->\n<g id=\"node17\" class=\"node\">\n<title>16</title>\n<path fill=\"#e58139\" stroke=\"black\" d=\"M534.5,-536.5C534.5,-536.5 453.5,-536.5 453.5,-536.5 447.5,-536.5 441.5,-530.5 441.5,-524.5 441.5,-524.5 441.5,-480.5 441.5,-480.5 441.5,-474.5 447.5,-468.5 453.5,-468.5 453.5,-468.5 534.5,-468.5 534.5,-468.5 540.5,-468.5 546.5,-474.5 546.5,-480.5 546.5,-480.5 546.5,-524.5 546.5,-524.5 546.5,-530.5 540.5,-536.5 534.5,-536.5\"/>\n<text text-anchor=\"start\" x=\"454\" y=\"-521.3\" font-family=\"Helvetica,sans-Serif\" font-size=\"14.00\">entropy = 0.0</text>\n<text text-anchor=\"start\" x=\"456.5\" y=\"-506.3\" font-family=\"Helvetica,sans-Serif\" font-size=\"14.00\">samples = 5</text>\n<text text-anchor=\"start\" x=\"454.5\" y=\"-491.3\" font-family=\"Helvetica,sans-Serif\" font-size=\"14.00\">value = [5, 0]</text>\n<text text-anchor=\"start\" x=\"449.5\" y=\"-476.3\" font-family=\"Helvetica,sans-Serif\" font-size=\"14.00\">class = Benign</text>\n</g>\n<!-- 15&#45;&gt;16 -->\n<g id=\"edge16\" class=\"edge\">\n<title>15&#45;&gt;16</title>\n<path fill=\"none\" stroke=\"black\" d=\"M542.98,-579.91C535.76,-568.65 527.92,-556.42 520.67,-545.11\"/>\n<polygon fill=\"black\" stroke=\"black\" points=\"523.6,-543.2 515.26,-536.67 517.71,-546.97 523.6,-543.2\"/>\n</g>\n<!-- 17 -->\n<g id=\"node18\" class=\"node\">\n<title>17</title>\n<path fill=\"#5dafea\" stroke=\"black\" d=\"M711.5,-544C711.5,-544 576.5,-544 576.5,-544 570.5,-544 564.5,-538 564.5,-532 564.5,-532 564.5,-473 564.5,-473 564.5,-467 570.5,-461 576.5,-461 576.5,-461 711.5,-461 711.5,-461 717.5,-461 723.5,-467 723.5,-473 723.5,-473 723.5,-532 723.5,-532 723.5,-538 717.5,-544 711.5,-544\"/>\n<text text-anchor=\"start\" x=\"572.5\" y=\"-528.8\" font-family=\"Helvetica,sans-Serif\" font-size=\"14.00\">concave_points2 ≤ 0.01</text>\n<text text-anchor=\"start\" x=\"596.5\" y=\"-513.8\" font-family=\"Helvetica,sans-Serif\" font-size=\"14.00\">entropy = 0.619</text>\n<text text-anchor=\"start\" x=\"603\" y=\"-498.8\" font-family=\"Helvetica,sans-Serif\" font-size=\"14.00\">samples = 13</text>\n<text text-anchor=\"start\" x=\"601\" y=\"-483.8\" font-family=\"Helvetica,sans-Serif\" font-size=\"14.00\">value = [2, 11]</text>\n<text text-anchor=\"start\" x=\"591\" y=\"-468.8\" font-family=\"Helvetica,sans-Serif\" font-size=\"14.00\">class = Malignant</text>\n</g>\n<!-- 15&#45;&gt;17 -->\n<g id=\"edge17\" class=\"edge\">\n<title>15&#45;&gt;17</title>\n<path fill=\"none\" stroke=\"black\" d=\"M595.02,-579.91C600.66,-571.1 606.69,-561.7 612.52,-552.61\"/>\n<polygon fill=\"black\" stroke=\"black\" points=\"615.57,-554.33 618.03,-544.02 609.68,-550.55 615.57,-554.33\"/>\n</g>\n<!-- 18 -->\n<g id=\"node19\" class=\"node\">\n<title>18</title>\n<path fill=\"#399de5\" stroke=\"black\" d=\"M631,-417.5C631,-417.5 533,-417.5 533,-417.5 527,-417.5 521,-411.5 521,-405.5 521,-405.5 521,-361.5 521,-361.5 521,-355.5 527,-349.5 533,-349.5 533,-349.5 631,-349.5 631,-349.5 637,-349.5 643,-355.5 643,-361.5 643,-361.5 643,-405.5 643,-405.5 643,-411.5 637,-417.5 631,-417.5\"/>\n<text text-anchor=\"start\" x=\"542\" y=\"-402.3\" font-family=\"Helvetica,sans-Serif\" font-size=\"14.00\">entropy = 0.0</text>\n<text text-anchor=\"start\" x=\"541\" y=\"-387.3\" font-family=\"Helvetica,sans-Serif\" font-size=\"14.00\">samples = 11</text>\n<text text-anchor=\"start\" x=\"539\" y=\"-372.3\" font-family=\"Helvetica,sans-Serif\" font-size=\"14.00\">value = [0, 11]</text>\n<text text-anchor=\"start\" x=\"529\" y=\"-357.3\" font-family=\"Helvetica,sans-Serif\" font-size=\"14.00\">class = Malignant</text>\n</g>\n<!-- 17&#45;&gt;18 -->\n<g id=\"edge18\" class=\"edge\">\n<title>17&#45;&gt;18</title>\n<path fill=\"none\" stroke=\"black\" d=\"M622.49,-460.91C616.64,-449.87 610.3,-437.9 604.4,-426.77\"/>\n<polygon fill=\"black\" stroke=\"black\" points=\"607.35,-424.86 599.58,-417.67 601.17,-428.14 607.35,-424.86\"/>\n</g>\n<!-- 19 -->\n<g id=\"node20\" class=\"node\">\n<title>19</title>\n<path fill=\"#e58139\" stroke=\"black\" d=\"M754.5,-417.5C754.5,-417.5 673.5,-417.5 673.5,-417.5 667.5,-417.5 661.5,-411.5 661.5,-405.5 661.5,-405.5 661.5,-361.5 661.5,-361.5 661.5,-355.5 667.5,-349.5 673.5,-349.5 673.5,-349.5 754.5,-349.5 754.5,-349.5 760.5,-349.5 766.5,-355.5 766.5,-361.5 766.5,-361.5 766.5,-405.5 766.5,-405.5 766.5,-411.5 760.5,-417.5 754.5,-417.5\"/>\n<text text-anchor=\"start\" x=\"674\" y=\"-402.3\" font-family=\"Helvetica,sans-Serif\" font-size=\"14.00\">entropy = 0.0</text>\n<text text-anchor=\"start\" x=\"676.5\" y=\"-387.3\" font-family=\"Helvetica,sans-Serif\" font-size=\"14.00\">samples = 2</text>\n<text text-anchor=\"start\" x=\"674.5\" y=\"-372.3\" font-family=\"Helvetica,sans-Serif\" font-size=\"14.00\">value = [2, 0]</text>\n<text text-anchor=\"start\" x=\"669.5\" y=\"-357.3\" font-family=\"Helvetica,sans-Serif\" font-size=\"14.00\">class = Benign</text>\n</g>\n<!-- 17&#45;&gt;19 -->\n<g id=\"edge19\" class=\"edge\">\n<title>17&#45;&gt;19</title>\n<path fill=\"none\" stroke=\"black\" d=\"M668.29,-460.91C674.95,-449.76 682.2,-437.66 688.91,-426.44\"/>\n<polygon fill=\"black\" stroke=\"black\" points=\"692.03,-428.05 694.16,-417.67 686.02,-424.45 692.03,-428.05\"/>\n</g>\n<!-- 21 -->\n<g id=\"node22\" class=\"node\">\n<title>21</title>\n<path fill=\"#c5e2f7\" stroke=\"black\" d=\"M886,-663C886,-663 788,-663 788,-663 782,-663 776,-657 776,-651 776,-651 776,-592 776,-592 776,-586 782,-580 788,-580 788,-580 886,-580 886,-580 892,-580 898,-586 898,-592 898,-592 898,-651 898,-651 898,-657 892,-663 886,-663\"/>\n<text text-anchor=\"start\" x=\"784\" y=\"-647.8\" font-family=\"Helvetica,sans-Serif\" font-size=\"14.00\">texture3 ≤ 25.655</text>\n<text text-anchor=\"start\" x=\"789.5\" y=\"-632.8\" font-family=\"Helvetica,sans-Serif\" font-size=\"14.00\">entropy = 0.979</text>\n<text text-anchor=\"start\" x=\"796\" y=\"-617.8\" font-family=\"Helvetica,sans-Serif\" font-size=\"14.00\">samples = 41</text>\n<text text-anchor=\"start\" x=\"790\" y=\"-602.8\" font-family=\"Helvetica,sans-Serif\" font-size=\"14.00\">value = [17, 24]</text>\n<text text-anchor=\"start\" x=\"784\" y=\"-587.8\" font-family=\"Helvetica,sans-Serif\" font-size=\"14.00\">class = Malignant</text>\n</g>\n<!-- 20&#45;&gt;21 -->\n<g id=\"edge21\" class=\"edge\">\n<title>20&#45;&gt;21</title>\n<path fill=\"none\" stroke=\"black\" d=\"M837,-698.91C837,-690.65 837,-681.86 837,-673.3\"/>\n<polygon fill=\"black\" stroke=\"black\" points=\"840.5,-673.02 837,-663.02 833.5,-673.02 840.5,-673.02\"/>\n</g>\n<!-- 26 -->\n<g id=\"node27\" class=\"node\">\n<title>26</title>\n<path fill=\"#399de5\" stroke=\"black\" d=\"M1026,-655.5C1026,-655.5 928,-655.5 928,-655.5 922,-655.5 916,-649.5 916,-643.5 916,-643.5 916,-599.5 916,-599.5 916,-593.5 922,-587.5 928,-587.5 928,-587.5 1026,-587.5 1026,-587.5 1032,-587.5 1038,-593.5 1038,-599.5 1038,-599.5 1038,-643.5 1038,-643.5 1038,-649.5 1032,-655.5 1026,-655.5\"/>\n<text text-anchor=\"start\" x=\"937\" y=\"-640.3\" font-family=\"Helvetica,sans-Serif\" font-size=\"14.00\">entropy = 0.0</text>\n<text text-anchor=\"start\" x=\"932\" y=\"-625.3\" font-family=\"Helvetica,sans-Serif\" font-size=\"14.00\">samples = 118</text>\n<text text-anchor=\"start\" x=\"930\" y=\"-610.3\" font-family=\"Helvetica,sans-Serif\" font-size=\"14.00\">value = [0, 118]</text>\n<text text-anchor=\"start\" x=\"924\" y=\"-595.3\" font-family=\"Helvetica,sans-Serif\" font-size=\"14.00\">class = Malignant</text>\n</g>\n<!-- 20&#45;&gt;26 -->\n<g id=\"edge26\" class=\"edge\">\n<title>20&#45;&gt;26</title>\n<path fill=\"none\" stroke=\"black\" d=\"M885.57,-698.91C899.83,-686.99 915.41,-673.98 929.59,-662.12\"/>\n<polygon fill=\"black\" stroke=\"black\" points=\"931.88,-664.77 937.31,-655.67 927.4,-659.39 931.88,-664.77\"/>\n</g>\n<!-- 22 -->\n<g id=\"node23\" class=\"node\">\n<title>22</title>\n<path fill=\"#e89050\" stroke=\"black\" d=\"M908.5,-544C908.5,-544 765.5,-544 765.5,-544 759.5,-544 753.5,-538 753.5,-532 753.5,-532 753.5,-473 753.5,-473 753.5,-467 759.5,-461 765.5,-461 765.5,-461 908.5,-461 908.5,-461 914.5,-461 920.5,-467 920.5,-473 920.5,-473 920.5,-532 920.5,-532 920.5,-538 914.5,-544 908.5,-544\"/>\n<text text-anchor=\"start\" x=\"761.5\" y=\"-528.8\" font-family=\"Helvetica,sans-Serif\" font-size=\"14.00\">concave_points3 ≤ 0.166</text>\n<text text-anchor=\"start\" x=\"789.5\" y=\"-513.8\" font-family=\"Helvetica,sans-Serif\" font-size=\"14.00\">entropy = 0.485</text>\n<text text-anchor=\"start\" x=\"796\" y=\"-498.8\" font-family=\"Helvetica,sans-Serif\" font-size=\"14.00\">samples = 19</text>\n<text text-anchor=\"start\" x=\"794\" y=\"-483.8\" font-family=\"Helvetica,sans-Serif\" font-size=\"14.00\">value = [17, 2]</text>\n<text text-anchor=\"start\" x=\"792.5\" y=\"-468.8\" font-family=\"Helvetica,sans-Serif\" font-size=\"14.00\">class = Benign</text>\n</g>\n<!-- 21&#45;&gt;22 -->\n<g id=\"edge22\" class=\"edge\">\n<title>21&#45;&gt;22</title>\n<path fill=\"none\" stroke=\"black\" d=\"M837,-579.91C837,-571.65 837,-562.86 837,-554.3\"/>\n<polygon fill=\"black\" stroke=\"black\" points=\"840.5,-554.02 837,-544.02 833.5,-554.02 840.5,-554.02\"/>\n</g>\n<!-- 25 -->\n<g id=\"node26\" class=\"node\">\n<title>25</title>\n<path fill=\"#399de5\" stroke=\"black\" d=\"M1049,-536.5C1049,-536.5 951,-536.5 951,-536.5 945,-536.5 939,-530.5 939,-524.5 939,-524.5 939,-480.5 939,-480.5 939,-474.5 945,-468.5 951,-468.5 951,-468.5 1049,-468.5 1049,-468.5 1055,-468.5 1061,-474.5 1061,-480.5 1061,-480.5 1061,-524.5 1061,-524.5 1061,-530.5 1055,-536.5 1049,-536.5\"/>\n<text text-anchor=\"start\" x=\"960\" y=\"-521.3\" font-family=\"Helvetica,sans-Serif\" font-size=\"14.00\">entropy = 0.0</text>\n<text text-anchor=\"start\" x=\"959\" y=\"-506.3\" font-family=\"Helvetica,sans-Serif\" font-size=\"14.00\">samples = 22</text>\n<text text-anchor=\"start\" x=\"957\" y=\"-491.3\" font-family=\"Helvetica,sans-Serif\" font-size=\"14.00\">value = [0, 22]</text>\n<text text-anchor=\"start\" x=\"947\" y=\"-476.3\" font-family=\"Helvetica,sans-Serif\" font-size=\"14.00\">class = Malignant</text>\n</g>\n<!-- 21&#45;&gt;25 -->\n<g id=\"edge25\" class=\"edge\">\n<title>21&#45;&gt;25</title>\n<path fill=\"none\" stroke=\"black\" d=\"M893.55,-579.91C910.31,-567.88 928.62,-554.73 945.26,-542.79\"/>\n<polygon fill=\"black\" stroke=\"black\" points=\"947.71,-545.34 953.79,-536.67 943.63,-539.65 947.71,-545.34\"/>\n</g>\n<!-- 23 -->\n<g id=\"node24\" class=\"node\">\n<title>23</title>\n<path fill=\"#e58139\" stroke=\"black\" d=\"M877.5,-417.5C877.5,-417.5 796.5,-417.5 796.5,-417.5 790.5,-417.5 784.5,-411.5 784.5,-405.5 784.5,-405.5 784.5,-361.5 784.5,-361.5 784.5,-355.5 790.5,-349.5 796.5,-349.5 796.5,-349.5 877.5,-349.5 877.5,-349.5 883.5,-349.5 889.5,-355.5 889.5,-361.5 889.5,-361.5 889.5,-405.5 889.5,-405.5 889.5,-411.5 883.5,-417.5 877.5,-417.5\"/>\n<text text-anchor=\"start\" x=\"797\" y=\"-402.3\" font-family=\"Helvetica,sans-Serif\" font-size=\"14.00\">entropy = 0.0</text>\n<text text-anchor=\"start\" x=\"796\" y=\"-387.3\" font-family=\"Helvetica,sans-Serif\" font-size=\"14.00\">samples = 17</text>\n<text text-anchor=\"start\" x=\"794\" y=\"-372.3\" font-family=\"Helvetica,sans-Serif\" font-size=\"14.00\">value = [17, 0]</text>\n<text text-anchor=\"start\" x=\"792.5\" y=\"-357.3\" font-family=\"Helvetica,sans-Serif\" font-size=\"14.00\">class = Benign</text>\n</g>\n<!-- 22&#45;&gt;23 -->\n<g id=\"edge23\" class=\"edge\">\n<title>22&#45;&gt;23</title>\n<path fill=\"none\" stroke=\"black\" d=\"M837,-460.91C837,-450.2 837,-438.62 837,-427.78\"/>\n<polygon fill=\"black\" stroke=\"black\" points=\"840.5,-427.67 837,-417.67 833.5,-427.67 840.5,-427.67\"/>\n</g>\n<!-- 24 -->\n<g id=\"node25\" class=\"node\">\n<title>24</title>\n<path fill=\"#399de5\" stroke=\"black\" d=\"M1018,-417.5C1018,-417.5 920,-417.5 920,-417.5 914,-417.5 908,-411.5 908,-405.5 908,-405.5 908,-361.5 908,-361.5 908,-355.5 914,-349.5 920,-349.5 920,-349.5 1018,-349.5 1018,-349.5 1024,-349.5 1030,-355.5 1030,-361.5 1030,-361.5 1030,-405.5 1030,-405.5 1030,-411.5 1024,-417.5 1018,-417.5\"/>\n<text text-anchor=\"start\" x=\"929\" y=\"-402.3\" font-family=\"Helvetica,sans-Serif\" font-size=\"14.00\">entropy = 0.0</text>\n<text text-anchor=\"start\" x=\"931.5\" y=\"-387.3\" font-family=\"Helvetica,sans-Serif\" font-size=\"14.00\">samples = 2</text>\n<text text-anchor=\"start\" x=\"929.5\" y=\"-372.3\" font-family=\"Helvetica,sans-Serif\" font-size=\"14.00\">value = [0, 2]</text>\n<text text-anchor=\"start\" x=\"916\" y=\"-357.3\" font-family=\"Helvetica,sans-Serif\" font-size=\"14.00\">class = Malignant</text>\n</g>\n<!-- 22&#45;&gt;24 -->\n<g id=\"edge24\" class=\"edge\">\n<title>22&#45;&gt;24</title>\n<path fill=\"none\" stroke=\"black\" d=\"M882.8,-460.91C896.12,-449.1 910.65,-436.22 923.93,-424.45\"/>\n<polygon fill=\"black\" stroke=\"black\" points=\"926.42,-426.92 931.58,-417.67 921.78,-421.68 926.42,-426.92\"/>\n</g>\n</g>\n</svg>\n",
            "text/plain": [
              "<graphviz.sources.Source at 0x7fa8eb33a590>"
            ]
          },
          "metadata": {}
        }
      ]
    },
    {
      "cell_type": "markdown",
      "source": [
        "# **Test Accuracy for Iris Dataset**\n"
      ],
      "metadata": {
        "id": "RgGLY_HiQ8Cl"
      }
    },
    {
      "cell_type": "code",
      "source": [
        "import pandas as pd\n",
        "import numpy as np\n",
        "import matplotlib.pyplot as plt\n",
        "from sklearn.naive_bayes import GaussianNB, MultinomialNB, BernoulliNB\n",
        "from sklearn.tree import DecisionTreeClassifier\n",
        "from sklearn.model_selection import train_test_split\n",
        "from sklearn.metrics import accuracy_score\n",
        "from ucimlrepo import fetch_ucirepo\n",
        "\n",
        "# Fetch Iris dataset\n",
        "iris = fetch_ucirepo(id=53)\n",
        "X = iris.data.features\n",
        "y = iris.data.targets\n",
        "\n",
        "# Convert categorical target to numeric\n",
        "y = pd.factorize(y.squeeze())[0]\n",
        "\n",
        "# Define test sizes\n",
        "test_sizes = np.arange(0.1, 1.0, 0.1)\n",
        "\n",
        "# Define classifiers\n",
        "classifiers = {\n",
        "    'GaussianNB': GaussianNB(),\n",
        "    'MultinomialNB': MultinomialNB(),\n",
        "    'BernoulliNB': BernoulliNB(),\n",
        "    'DecisionTree': DecisionTreeClassifier(random_state=42) # Added Decision Tree\n",
        "}\n",
        "\n",
        "# Dictionary to store accuracies for each classifier\n",
        "accuracies_data = {}\n",
        "\n",
        "# Loop over classifiers\n",
        "for clf_name, classifier in classifiers.items():\n",
        "    accuracies = []\n",
        "    # Loop over test sizes\n",
        "    for test_size in test_sizes:\n",
        "        X_train, X_test, y_train, y_test = train_test_split(X, y, test_size=test_size, random_state=42)\n",
        "\n",
        "        # Handle potential issues with MultinomialNB and negative/zero values\n",
        "        if clf_name == 'MultinomialNB':\n",
        "            # Add a small constant to avoid zero values\n",
        "            X_train_processed = X_train + 1e-9\n",
        "            X_test_processed = X_test + 1e-9\n",
        "            classifier.fit(X_train_processed, y_train)\n",
        "            y_pred = classifier.predict(X_test_processed)\n",
        "        else:\n",
        "            classifier.fit(X_train, y_train)\n",
        "            y_pred = classifier.predict(X_test)\n",
        "\n",
        "\n",
        "        acc = accuracy_score(y_test, y_pred)\n",
        "        accuracies.append(acc)\n",
        "    accuracies_data[clf_name] = accuracies\n",
        "\n",
        "# Create a DataFrame for tabular display\n",
        "accuracy_df = pd.DataFrame(accuracies_data, index=test_sizes)\n",
        "accuracy_df.index.name = 'Test Size'\n",
        "print(\"Accuracy for different classifiers and test sizes:\")\n",
        "display(accuracy_df)\n",
        "\n",
        "# Plot\n",
        "plt.figure(figsize=(12, 8))\n",
        "for clf_name, accuracies in accuracies_data.items():\n",
        "    plt.plot(test_sizes, accuracies, marker='o', linestyle='-', label=clf_name)\n",
        "\n",
        "plt.title('Accuracy vs Test Size for Different Classifiers (Iris Dataset)')\n",
        "plt.xlabel('Test Size')\n",
        "plt.ylabel('Accuracy')\n",
        "plt.xticks(test_sizes)\n",
        "plt.grid(True)\n",
        "plt.legend()\n",
        "plt.show()"
      ],
      "metadata": {
        "colab": {
          "base_uri": "https://localhost:8080/",
          "height": 1000
        },
        "id": "uxZdMl7OQ_Ad",
        "outputId": "dd2df7d0-75e1-4a6e-ed30-a5b38624b0c6"
      },
      "execution_count": 161,
      "outputs": [
        {
          "output_type": "stream",
          "name": "stdout",
          "text": [
            "Accuracy for different classifiers and test sizes:\n"
          ]
        },
        {
          "output_type": "display_data",
          "data": {
            "text/plain": [
              "           GaussianNB  MultinomialNB  BernoulliNB  DecisionTree\n",
              "Test Size                                                      \n",
              "0.1          1.000000       0.866667     0.200000      1.000000\n",
              "0.2          1.000000       0.900000     0.300000      1.000000\n",
              "0.3          0.978261       0.978261     0.282609      1.000000\n",
              "0.4          0.966667       0.966667     0.300000      0.966667\n",
              "0.5          0.986667       0.973333     0.306667      0.906667\n",
              "0.6          0.955556       0.733333     0.288889      0.977778\n",
              "0.7          0.943396       0.905660     0.301887      0.924528\n",
              "0.8          0.950000       0.841667     0.316667      0.933333\n",
              "0.9          0.800000       0.629630     0.318519      0.955556"
            ],
            "text/html": [
              "\n",
              "  <div id=\"df-89faf010-9f19-4595-9216-efb6037ae967\" class=\"colab-df-container\">\n",
              "    <div>\n",
              "<style scoped>\n",
              "    .dataframe tbody tr th:only-of-type {\n",
              "        vertical-align: middle;\n",
              "    }\n",
              "\n",
              "    .dataframe tbody tr th {\n",
              "        vertical-align: top;\n",
              "    }\n",
              "\n",
              "    .dataframe thead th {\n",
              "        text-align: right;\n",
              "    }\n",
              "</style>\n",
              "<table border=\"1\" class=\"dataframe\">\n",
              "  <thead>\n",
              "    <tr style=\"text-align: right;\">\n",
              "      <th></th>\n",
              "      <th>GaussianNB</th>\n",
              "      <th>MultinomialNB</th>\n",
              "      <th>BernoulliNB</th>\n",
              "      <th>DecisionTree</th>\n",
              "    </tr>\n",
              "    <tr>\n",
              "      <th>Test Size</th>\n",
              "      <th></th>\n",
              "      <th></th>\n",
              "      <th></th>\n",
              "      <th></th>\n",
              "    </tr>\n",
              "  </thead>\n",
              "  <tbody>\n",
              "    <tr>\n",
              "      <th>0.1</th>\n",
              "      <td>1.000000</td>\n",
              "      <td>0.866667</td>\n",
              "      <td>0.200000</td>\n",
              "      <td>1.000000</td>\n",
              "    </tr>\n",
              "    <tr>\n",
              "      <th>0.2</th>\n",
              "      <td>1.000000</td>\n",
              "      <td>0.900000</td>\n",
              "      <td>0.300000</td>\n",
              "      <td>1.000000</td>\n",
              "    </tr>\n",
              "    <tr>\n",
              "      <th>0.3</th>\n",
              "      <td>0.978261</td>\n",
              "      <td>0.978261</td>\n",
              "      <td>0.282609</td>\n",
              "      <td>1.000000</td>\n",
              "    </tr>\n",
              "    <tr>\n",
              "      <th>0.4</th>\n",
              "      <td>0.966667</td>\n",
              "      <td>0.966667</td>\n",
              "      <td>0.300000</td>\n",
              "      <td>0.966667</td>\n",
              "    </tr>\n",
              "    <tr>\n",
              "      <th>0.5</th>\n",
              "      <td>0.986667</td>\n",
              "      <td>0.973333</td>\n",
              "      <td>0.306667</td>\n",
              "      <td>0.906667</td>\n",
              "    </tr>\n",
              "    <tr>\n",
              "      <th>0.6</th>\n",
              "      <td>0.955556</td>\n",
              "      <td>0.733333</td>\n",
              "      <td>0.288889</td>\n",
              "      <td>0.977778</td>\n",
              "    </tr>\n",
              "    <tr>\n",
              "      <th>0.7</th>\n",
              "      <td>0.943396</td>\n",
              "      <td>0.905660</td>\n",
              "      <td>0.301887</td>\n",
              "      <td>0.924528</td>\n",
              "    </tr>\n",
              "    <tr>\n",
              "      <th>0.8</th>\n",
              "      <td>0.950000</td>\n",
              "      <td>0.841667</td>\n",
              "      <td>0.316667</td>\n",
              "      <td>0.933333</td>\n",
              "    </tr>\n",
              "    <tr>\n",
              "      <th>0.9</th>\n",
              "      <td>0.800000</td>\n",
              "      <td>0.629630</td>\n",
              "      <td>0.318519</td>\n",
              "      <td>0.955556</td>\n",
              "    </tr>\n",
              "  </tbody>\n",
              "</table>\n",
              "</div>\n",
              "    <div class=\"colab-df-buttons\">\n",
              "\n",
              "  <div class=\"colab-df-container\">\n",
              "    <button class=\"colab-df-convert\" onclick=\"convertToInteractive('df-89faf010-9f19-4595-9216-efb6037ae967')\"\n",
              "            title=\"Convert this dataframe to an interactive table.\"\n",
              "            style=\"display:none;\">\n",
              "\n",
              "  <svg xmlns=\"http://www.w3.org/2000/svg\" height=\"24px\" viewBox=\"0 -960 960 960\">\n",
              "    <path d=\"M120-120v-720h720v720H120Zm60-500h600v-160H180v160Zm220 220h160v-160H400v160Zm0 220h160v-160H400v160ZM180-400h160v-160H180v160Zm440 0h160v-160H620v160ZM180-180h160v-160H180v160Zm440 0h160v-160H620v160Z\"/>\n",
              "  </svg>\n",
              "    </button>\n",
              "\n",
              "  <style>\n",
              "    .colab-df-container {\n",
              "      display:flex;\n",
              "      gap: 12px;\n",
              "    }\n",
              "\n",
              "    .colab-df-convert {\n",
              "      background-color: #E8F0FE;\n",
              "      border: none;\n",
              "      border-radius: 50%;\n",
              "      cursor: pointer;\n",
              "      display: none;\n",
              "      fill: #1967D2;\n",
              "      height: 32px;\n",
              "      padding: 0 0 0 0;\n",
              "      width: 32px;\n",
              "    }\n",
              "\n",
              "    .colab-df-convert:hover {\n",
              "      background-color: #E2EBFA;\n",
              "      box-shadow: 0px 1px 2px rgba(60, 64, 67, 0.3), 0px 1px 3px 1px rgba(60, 64, 67, 0.15);\n",
              "      fill: #174EA6;\n",
              "    }\n",
              "\n",
              "    .colab-df-buttons div {\n",
              "      margin-bottom: 4px;\n",
              "    }\n",
              "\n",
              "    [theme=dark] .colab-df-convert {\n",
              "      background-color: #3B4455;\n",
              "      fill: #D2E3FC;\n",
              "    }\n",
              "\n",
              "    [theme=dark] .colab-df-convert:hover {\n",
              "      background-color: #434B5C;\n",
              "      box-shadow: 0px 1px 3px 1px rgba(0, 0, 0, 0.15);\n",
              "      filter: drop-shadow(0px 1px 2px rgba(0, 0, 0, 0.3));\n",
              "      fill: #FFFFFF;\n",
              "    }\n",
              "  </style>\n",
              "\n",
              "    <script>\n",
              "      const buttonEl =\n",
              "        document.querySelector('#df-89faf010-9f19-4595-9216-efb6037ae967 button.colab-df-convert');\n",
              "      buttonEl.style.display =\n",
              "        google.colab.kernel.accessAllowed ? 'block' : 'none';\n",
              "\n",
              "      async function convertToInteractive(key) {\n",
              "        const element = document.querySelector('#df-89faf010-9f19-4595-9216-efb6037ae967');\n",
              "        const dataTable =\n",
              "          await google.colab.kernel.invokeFunction('convertToInteractive',\n",
              "                                                    [key], {});\n",
              "        if (!dataTable) return;\n",
              "\n",
              "        const docLinkHtml = 'Like what you see? Visit the ' +\n",
              "          '<a target=\"_blank\" href=https://colab.research.google.com/notebooks/data_table.ipynb>data table notebook</a>'\n",
              "          + ' to learn more about interactive tables.';\n",
              "        element.innerHTML = '';\n",
              "        dataTable['output_type'] = 'display_data';\n",
              "        await google.colab.output.renderOutput(dataTable, element);\n",
              "        const docLink = document.createElement('div');\n",
              "        docLink.innerHTML = docLinkHtml;\n",
              "        element.appendChild(docLink);\n",
              "      }\n",
              "    </script>\n",
              "  </div>\n",
              "\n",
              "\n",
              "    <div id=\"df-efefaff0-5c0a-4c23-8df3-82e1fe8f33b3\">\n",
              "      <button class=\"colab-df-quickchart\" onclick=\"quickchart('df-efefaff0-5c0a-4c23-8df3-82e1fe8f33b3')\"\n",
              "                title=\"Suggest charts\"\n",
              "                style=\"display:none;\">\n",
              "\n",
              "<svg xmlns=\"http://www.w3.org/2000/svg\" height=\"24px\"viewBox=\"0 0 24 24\"\n",
              "     width=\"24px\">\n",
              "    <g>\n",
              "        <path d=\"M19 3H5c-1.1 0-2 .9-2 2v14c0 1.1.9 2 2 2h14c1.1 0 2-.9 2-2V5c0-1.1-.9-2-2-2zM9 17H7v-7h2v7zm4 0h-2V7h2v10zm4 0h-2v-4h2v4z\"/>\n",
              "    </g>\n",
              "</svg>\n",
              "      </button>\n",
              "\n",
              "<style>\n",
              "  .colab-df-quickchart {\n",
              "      --bg-color: #E8F0FE;\n",
              "      --fill-color: #1967D2;\n",
              "      --hover-bg-color: #E2EBFA;\n",
              "      --hover-fill-color: #174EA6;\n",
              "      --disabled-fill-color: #AAA;\n",
              "      --disabled-bg-color: #DDD;\n",
              "  }\n",
              "\n",
              "  [theme=dark] .colab-df-quickchart {\n",
              "      --bg-color: #3B4455;\n",
              "      --fill-color: #D2E3FC;\n",
              "      --hover-bg-color: #434B5C;\n",
              "      --hover-fill-color: #FFFFFF;\n",
              "      --disabled-bg-color: #3B4455;\n",
              "      --disabled-fill-color: #666;\n",
              "  }\n",
              "\n",
              "  .colab-df-quickchart {\n",
              "    background-color: var(--bg-color);\n",
              "    border: none;\n",
              "    border-radius: 50%;\n",
              "    cursor: pointer;\n",
              "    display: none;\n",
              "    fill: var(--fill-color);\n",
              "    height: 32px;\n",
              "    padding: 0;\n",
              "    width: 32px;\n",
              "  }\n",
              "\n",
              "  .colab-df-quickchart:hover {\n",
              "    background-color: var(--hover-bg-color);\n",
              "    box-shadow: 0 1px 2px rgba(60, 64, 67, 0.3), 0 1px 3px 1px rgba(60, 64, 67, 0.15);\n",
              "    fill: var(--button-hover-fill-color);\n",
              "  }\n",
              "\n",
              "  .colab-df-quickchart-complete:disabled,\n",
              "  .colab-df-quickchart-complete:disabled:hover {\n",
              "    background-color: var(--disabled-bg-color);\n",
              "    fill: var(--disabled-fill-color);\n",
              "    box-shadow: none;\n",
              "  }\n",
              "\n",
              "  .colab-df-spinner {\n",
              "    border: 2px solid var(--fill-color);\n",
              "    border-color: transparent;\n",
              "    border-bottom-color: var(--fill-color);\n",
              "    animation:\n",
              "      spin 1s steps(1) infinite;\n",
              "  }\n",
              "\n",
              "  @keyframes spin {\n",
              "    0% {\n",
              "      border-color: transparent;\n",
              "      border-bottom-color: var(--fill-color);\n",
              "      border-left-color: var(--fill-color);\n",
              "    }\n",
              "    20% {\n",
              "      border-color: transparent;\n",
              "      border-left-color: var(--fill-color);\n",
              "      border-top-color: var(--fill-color);\n",
              "    }\n",
              "    30% {\n",
              "      border-color: transparent;\n",
              "      border-left-color: var(--fill-color);\n",
              "      border-top-color: var(--fill-color);\n",
              "      border-right-color: var(--fill-color);\n",
              "    }\n",
              "    40% {\n",
              "      border-color: transparent;\n",
              "      border-right-color: var(--fill-color);\n",
              "      border-top-color: var(--fill-color);\n",
              "    }\n",
              "    60% {\n",
              "      border-color: transparent;\n",
              "      border-right-color: var(--fill-color);\n",
              "    }\n",
              "    80% {\n",
              "      border-color: transparent;\n",
              "      border-right-color: var(--fill-color);\n",
              "      border-bottom-color: var(--fill-color);\n",
              "    }\n",
              "    90% {\n",
              "      border-color: transparent;\n",
              "      border-bottom-color: var(--fill-color);\n",
              "    }\n",
              "  }\n",
              "</style>\n",
              "\n",
              "      <script>\n",
              "        async function quickchart(key) {\n",
              "          const quickchartButtonEl =\n",
              "            document.querySelector('#' + key + ' button');\n",
              "          quickchartButtonEl.disabled = true;  // To prevent multiple clicks.\n",
              "          quickchartButtonEl.classList.add('colab-df-spinner');\n",
              "          try {\n",
              "            const charts = await google.colab.kernel.invokeFunction(\n",
              "                'suggestCharts', [key], {});\n",
              "          } catch (error) {\n",
              "            console.error('Error during call to suggestCharts:', error);\n",
              "          }\n",
              "          quickchartButtonEl.classList.remove('colab-df-spinner');\n",
              "          quickchartButtonEl.classList.add('colab-df-quickchart-complete');\n",
              "        }\n",
              "        (() => {\n",
              "          let quickchartButtonEl =\n",
              "            document.querySelector('#df-efefaff0-5c0a-4c23-8df3-82e1fe8f33b3 button');\n",
              "          quickchartButtonEl.style.display =\n",
              "            google.colab.kernel.accessAllowed ? 'block' : 'none';\n",
              "        })();\n",
              "      </script>\n",
              "    </div>\n",
              "\n",
              "  <div id=\"id_34403298-7801-4502-aeb9-f1d1c3cc72da\">\n",
              "    <style>\n",
              "      .colab-df-generate {\n",
              "        background-color: #E8F0FE;\n",
              "        border: none;\n",
              "        border-radius: 50%;\n",
              "        cursor: pointer;\n",
              "        display: none;\n",
              "        fill: #1967D2;\n",
              "        height: 32px;\n",
              "        padding: 0 0 0 0;\n",
              "        width: 32px;\n",
              "      }\n",
              "\n",
              "      .colab-df-generate:hover {\n",
              "        background-color: #E2EBFA;\n",
              "        box-shadow: 0px 1px 2px rgba(60, 64, 67, 0.3), 0px 1px 3px 1px rgba(60, 64, 67, 0.15);\n",
              "        fill: #174EA6;\n",
              "      }\n",
              "\n",
              "      [theme=dark] .colab-df-generate {\n",
              "        background-color: #3B4455;\n",
              "        fill: #D2E3FC;\n",
              "      }\n",
              "\n",
              "      [theme=dark] .colab-df-generate:hover {\n",
              "        background-color: #434B5C;\n",
              "        box-shadow: 0px 1px 3px 1px rgba(0, 0, 0, 0.15);\n",
              "        filter: drop-shadow(0px 1px 2px rgba(0, 0, 0, 0.3));\n",
              "        fill: #FFFFFF;\n",
              "      }\n",
              "    </style>\n",
              "    <button class=\"colab-df-generate\" onclick=\"generateWithVariable('accuracy_df')\"\n",
              "            title=\"Generate code using this dataframe.\"\n",
              "            style=\"display:none;\">\n",
              "\n",
              "  <svg xmlns=\"http://www.w3.org/2000/svg\" height=\"24px\"viewBox=\"0 0 24 24\"\n",
              "       width=\"24px\">\n",
              "    <path d=\"M7,19H8.4L18.45,9,17,7.55,7,17.6ZM5,21V16.75L18.45,3.32a2,2,0,0,1,2.83,0l1.4,1.43a1.91,1.91,0,0,1,.58,1.4,1.91,1.91,0,0,1-.58,1.4L9.25,21ZM18.45,9,17,7.55Zm-12,3A5.31,5.31,0,0,0,4.9,8.1,5.31,5.31,0,0,0,1,6.5,5.31,5.31,0,0,0,4.9,4.9,5.31,5.31,0,0,0,6.5,1,5.31,5.31,0,0,0,8.1,4.9,5.31,5.31,0,0,0,12,6.5,5.46,5.46,0,0,0,6.5,12Z\"/>\n",
              "  </svg>\n",
              "    </button>\n",
              "    <script>\n",
              "      (() => {\n",
              "      const buttonEl =\n",
              "        document.querySelector('#id_34403298-7801-4502-aeb9-f1d1c3cc72da button.colab-df-generate');\n",
              "      buttonEl.style.display =\n",
              "        google.colab.kernel.accessAllowed ? 'block' : 'none';\n",
              "\n",
              "      buttonEl.onclick = () => {\n",
              "        google.colab.notebook.generateWithVariable('accuracy_df');\n",
              "      }\n",
              "      })();\n",
              "    </script>\n",
              "  </div>\n",
              "\n",
              "    </div>\n",
              "  </div>\n"
            ],
            "application/vnd.google.colaboratory.intrinsic+json": {
              "type": "dataframe",
              "variable_name": "accuracy_df",
              "summary": "{\n  \"name\": \"accuracy_df\",\n  \"rows\": 9,\n  \"fields\": [\n    {\n      \"column\": \"Test Size\",\n      \"properties\": {\n        \"dtype\": \"number\",\n        \"std\": 0.2738612787525831,\n        \"min\": 0.1,\n        \"max\": 0.9,\n        \"num_unique_values\": 9,\n        \"samples\": [\n          0.8,\n          0.2,\n          0.6\n        ],\n        \"semantic_type\": \"\",\n        \"description\": \"\"\n      }\n    },\n    {\n      \"column\": \"GaussianNB\",\n      \"properties\": {\n        \"dtype\": \"number\",\n        \"std\": 0.061126610380222136,\n        \"min\": 0.8,\n        \"max\": 1.0,\n        \"num_unique_values\": 8,\n        \"samples\": [\n          0.9782608695652174,\n          0.9433962264150944,\n          1.0\n        ],\n        \"semantic_type\": \"\",\n        \"description\": \"\"\n      }\n    },\n    {\n      \"column\": \"MultinomialNB\",\n      \"properties\": {\n        \"dtype\": \"number\",\n        \"std\": 0.11781842909038936,\n        \"min\": 0.6296296296296297,\n        \"max\": 0.9782608695652174,\n        \"num_unique_values\": 9,\n        \"samples\": [\n          0.8416666666666667,\n          0.9,\n          0.7333333333333333\n        ],\n        \"semantic_type\": \"\",\n        \"description\": \"\"\n      }\n    },\n    {\n      \"column\": \"BernoulliNB\",\n      \"properties\": {\n        \"dtype\": \"number\",\n        \"std\": 0.035875322499134166,\n        \"min\": 0.2,\n        \"max\": 0.31851851851851853,\n        \"num_unique_values\": 8,\n        \"samples\": [\n          0.3,\n          0.3018867924528302,\n          0.2\n        ],\n        \"semantic_type\": \"\",\n        \"description\": \"\"\n      }\n    },\n    {\n      \"column\": \"DecisionTree\",\n      \"properties\": {\n        \"dtype\": \"number\",\n        \"std\": 0.03522640205633399,\n        \"min\": 0.9066666666666666,\n        \"max\": 1.0,\n        \"num_unique_values\": 7,\n        \"samples\": [\n          1.0,\n          0.9666666666666667,\n          0.9333333333333333\n        ],\n        \"semantic_type\": \"\",\n        \"description\": \"\"\n      }\n    }\n  ]\n}"
            }
          },
          "metadata": {}
        },
        {
          "output_type": "display_data",
          "data": {
            "text/plain": [
              "<Figure size 1200x800 with 1 Axes>"
            ],
            "image/png": "[encoded data removed]"
          },
          "metadata": {}
        }
      ]
    },
    {
      "cell_type": "markdown",
      "source": [
        "# Test Accuracy for Breast Cancer Dataset"
      ],
      "metadata": {
        "id": "Yiwo9T0aI4vx"
      }
    },
    {
      "cell_type": "code",
      "source": [
        "import pandas as pd\n",
        "import numpy as np\n",
        "import matplotlib.pyplot as plt\n",
        "from sklearn.naive_bayes import GaussianNB, MultinomialNB, BernoulliNB\n",
        "from sklearn.tree import DecisionTreeClassifier\n",
        "from sklearn.model_selection import train_test_split\n",
        "from sklearn.metrics import accuracy_score\n",
        "from ucimlrepo import fetch_ucirepo\n",
        "\n",
        "# Fetch Iris dataset\n",
        "iris = fetch_ucirepo(id=17)\n",
        "X = iris.data.features\n",
        "y = iris.data.targets\n",
        "\n",
        "# Convert categorical target to numeric\n",
        "y = pd.factorize(y.squeeze())[0]\n",
        "\n",
        "# Define test sizes\n",
        "test_sizes = np.arange(0.1, 1.0, 0.1)\n",
        "\n",
        "# Define classifiers\n",
        "classifiers = {\n",
        "    'GaussianNB': GaussianNB(),\n",
        "    'MultinomialNB': MultinomialNB(),\n",
        "    'BernoulliNB': BernoulliNB(),\n",
        "    'DecisionTree': DecisionTreeClassifier(random_state=42) # Added Decision Tree\n",
        "}\n",
        "\n",
        "# Dictionary to store accuracies for each classifier\n",
        "accuracies_data = {}\n",
        "\n",
        "# Loop over classifiers\n",
        "for clf_name, classifier in classifiers.items():\n",
        "    accuracies = []\n",
        "    # Loop over test sizes\n",
        "    for test_size in test_sizes:\n",
        "        X_train, X_test, y_train, y_test = train_test_split(X, y, test_size=test_size, random_state=42)\n",
        "\n",
        "        # Handle potential issues with MultinomialNB and negative/zero values\n",
        "        if clf_name == 'MultinomialNB':\n",
        "            # Add a small constant to avoid zero values\n",
        "            X_train_processed = X_train + 1e-9\n",
        "            X_test_processed = X_test + 1e-9\n",
        "            classifier.fit(X_train_processed, y_train)\n",
        "            y_pred = classifier.predict(X_test_processed)\n",
        "        else:\n",
        "            classifier.fit(X_train, y_train)\n",
        "            y_pred = classifier.predict(X_test)\n",
        "\n",
        "\n",
        "        acc = accuracy_score(y_test, y_pred)\n",
        "        accuracies.append(acc)\n",
        "    accuracies_data[clf_name] = accuracies\n",
        "\n",
        "# Create a DataFrame for tabular display\n",
        "accuracy_df = pd.DataFrame(accuracies_data, index=test_sizes)\n",
        "accuracy_df.index.name = 'Test Size'\n",
        "print(\"Accuracy for different classifiers and test sizes:\")\n",
        "display(accuracy_df)\n",
        "\n",
        "# Plot\n",
        "plt.figure(figsize=(12, 8))\n",
        "for clf_name, accuracies in accuracies_data.items():\n",
        "    plt.plot(test_sizes, accuracies, marker='o', linestyle='-', label=clf_name)\n",
        "\n",
        "plt.title('Accuracy vs Test Size for Different Classifiers (Iris Dataset)')\n",
        "plt.xlabel('Test Size')\n",
        "plt.ylabel('Accuracy')\n",
        "plt.xticks(test_sizes)\n",
        "plt.grid(True)\n",
        "plt.legend()\n",
        "plt.show()"
      ],
      "metadata": {
        "colab": {
          "base_uri": "https://localhost:8080/",
          "height": 1000
        },
        "id": "I3sjkS4rI_rH",
        "outputId": "b4bf1486-b5e2-40ae-a795-f32d26eba168"
      },
      "execution_count": 162,
      "outputs": [
        {
          "output_type": "stream",
          "name": "stdout",
          "text": [
            "Accuracy for different classifiers and test sizes:\n"
          ]
        },
        {
          "output_type": "display_data",
          "data": {
            "text/plain": [
              "           GaussianNB  MultinomialNB  BernoulliNB  DecisionTree\n",
              "Test Size                                                      \n",
              "0.1          0.982456       0.982456     0.701754      0.929825\n",
              "0.2          0.973684       0.938596     0.622807      0.947368\n",
              "0.3          0.941520       0.912281     0.631579      0.941520\n",
              "0.4          0.951754       0.929825     0.649123      0.938596\n",
              "0.5          0.943860       0.898246     0.656140      0.943860\n",
              "0.6          0.947368       0.903509     0.640351      0.926901\n",
              "0.7          0.932331       0.912281     0.649123      0.892231\n",
              "0.8          0.932018       0.907895     0.635965      0.888158\n",
              "0.9          0.939571       0.896686     0.598441      0.906433"
            ],
            "text/html": [
              "\n",
              "  <div id=\"df-2f6c3dc3-5337-4276-892a-4bb86146e2b2\" class=\"colab-df-container\">\n",
              "    <div>\n",
              "<style scoped>\n",
              "    .dataframe tbody tr th:only-of-type {\n",
              "        vertical-align: middle;\n",
              "    }\n",
              "\n",
              "    .dataframe tbody tr th {\n",
              "        vertical-align: top;\n",
              "    }\n",
              "\n",
              "    .dataframe thead th {\n",
              "        text-align: right;\n",
              "    }\n",
              "</style>\n",
              "<table border=\"1\" class=\"dataframe\">\n",
              "  <thead>\n",
              "    <tr style=\"text-align: right;\">\n",
              "      <th></th>\n",
              "      <th>GaussianNB</th>\n",
              "      <th>MultinomialNB</th>\n",
              "      <th>BernoulliNB</th>\n",
              "      <th>DecisionTree</th>\n",
              "    </tr>\n",
              "    <tr>\n",
              "      <th>Test Size</th>\n",
              "      <th></th>\n",
              "      <th></th>\n",
              "      <th></th>\n",
              "      <th></th>\n",
              "    </tr>\n",
              "  </thead>\n",
              "  <tbody>\n",
              "    <tr>\n",
              "      <th>0.1</th>\n",
              "      <td>0.982456</td>\n",
              "      <td>0.982456</td>\n",
              "      <td>0.701754</td>\n",
              "      <td>0.929825</td>\n",
              "    </tr>\n",
              "    <tr>\n",
              "      <th>0.2</th>\n",
              "      <td>0.973684</td>\n",
              "      <td>0.938596</td>\n",
              "      <td>0.622807</td>\n",
              "      <td>0.947368</td>\n",
              "    </tr>\n",
              "    <tr>\n",
              "      <th>0.3</th>\n",
              "      <td>0.941520</td>\n",
              "      <td>0.912281</td>\n",
              "      <td>0.631579</td>\n",
              "      <td>0.941520</td>\n",
              "    </tr>\n",
              "    <tr>\n",
              "      <th>0.4</th>\n",
              "      <td>0.951754</td>\n",
              "      <td>0.929825</td>\n",
              "      <td>0.649123</td>\n",
              "      <td>0.938596</td>\n",
              "    </tr>\n",
              "    <tr>\n",
              "      <th>0.5</th>\n",
              "      <td>0.943860</td>\n",
              "      <td>0.898246</td>\n",
              "      <td>0.656140</td>\n",
              "      <td>0.943860</td>\n",
              "    </tr>\n",
              "    <tr>\n",
              "      <th>0.6</th>\n",
              "      <td>0.947368</td>\n",
              "      <td>0.903509</td>\n",
              "      <td>0.640351</td>\n",
              "      <td>0.926901</td>\n",
              "    </tr>\n",
              "    <tr>\n",
              "      <th>0.7</th>\n",
              "      <td>0.932331</td>\n",
              "      <td>0.912281</td>\n",
              "      <td>0.649123</td>\n",
              "      <td>0.892231</td>\n",
              "    </tr>\n",
              "    <tr>\n",
              "      <th>0.8</th>\n",
              "      <td>0.932018</td>\n",
              "      <td>0.907895</td>\n",
              "      <td>0.635965</td>\n",
              "      <td>0.888158</td>\n",
              "    </tr>\n",
              "    <tr>\n",
              "      <th>0.9</th>\n",
              "      <td>0.939571</td>\n",
              "      <td>0.896686</td>\n",
              "      <td>0.598441</td>\n",
              "      <td>0.906433</td>\n",
              "    </tr>\n",
              "  </tbody>\n",
              "</table>\n",
              "</div>\n",
              "    <div class=\"colab-df-buttons\">\n",
              "\n",
              "  <div class=\"colab-df-container\">\n",
              "    <button class=\"colab-df-convert\" onclick=\"convertToInteractive('df-2f6c3dc3-5337-4276-892a-4bb86146e2b2')\"\n",
              "            title=\"Convert this dataframe to an interactive table.\"\n",
              "            style=\"display:none;\">\n",
              "\n",
              "  <svg xmlns=\"http://www.w3.org/2000/svg\" height=\"24px\" viewBox=\"0 -960 960 960\">\n",
              "    <path d=\"M120-120v-720h720v720H120Zm60-500h600v-160H180v160Zm220 220h160v-160H400v160Zm0 220h160v-160H400v160ZM180-400h160v-160H180v160Zm440 0h160v-160H620v160ZM180-180h160v-160H180v160Zm440 0h160v-160H620v160Z\"/>\n",
              "  </svg>\n",
              "    </button>\n",
              "\n",
              "  <style>\n",
              "    .colab-df-container {\n",
              "      display:flex;\n",
              "      gap: 12px;\n",
              "    }\n",
              "\n",
              "    .colab-df-convert {\n",
              "      background-color: #E8F0FE;\n",
              "      border: none;\n",
              "      border-radius: 50%;\n",
              "      cursor: pointer;\n",
              "      display: none;\n",
              "      fill: #1967D2;\n",
              "      height: 32px;\n",
              "      padding: 0 0 0 0;\n",
              "      width: 32px;\n",
              "    }\n",
              "\n",
              "    .colab-df-convert:hover {\n",
              "      background-color: #E2EBFA;\n",
              "      box-shadow: 0px 1px 2px rgba(60, 64, 67, 0.3), 0px 1px 3px 1px rgba(60, 64, 67, 0.15);\n",
              "      fill: #174EA6;\n",
              "    }\n",
              "\n",
              "    .colab-df-buttons div {\n",
              "      margin-bottom: 4px;\n",
              "    }\n",
              "\n",
              "    [theme=dark] .colab-df-convert {\n",
              "      background-color: #3B4455;\n",
              "      fill: #D2E3FC;\n",
              "    }\n",
              "\n",
              "    [theme=dark] .colab-df-convert:hover {\n",
              "      background-color: #434B5C;\n",
              "      box-shadow: 0px 1px 3px 1px rgba(0, 0, 0, 0.15);\n",
              "      filter: drop-shadow(0px 1px 2px rgba(0, 0, 0, 0.3));\n",
              "      fill: #FFFFFF;\n",
              "    }\n",
              "  </style>\n",
              "\n",
              "    <script>\n",
              "      const buttonEl =\n",
              "        document.querySelector('#df-2f6c3dc3-5337-4276-892a-4bb86146e2b2 button.colab-df-convert');\n",
              "      buttonEl.style.display =\n",
              "        google.colab.kernel.accessAllowed ? 'block' : 'none';\n",
              "\n",
              "      async function convertToInteractive(key) {\n",
              "        const element = document.querySelector('#df-2f6c3dc3-5337-4276-892a-4bb86146e2b2');\n",
              "        const dataTable =\n",
              "          await google.colab.kernel.invokeFunction('convertToInteractive',\n",
              "                                                    [key], {});\n",
              "        if (!dataTable) return;\n",
              "\n",
              "        const docLinkHtml = 'Like what you see? Visit the ' +\n",
              "          '<a target=\"_blank\" href=https://colab.research.google.com/notebooks/data_table.ipynb>data table notebook</a>'\n",
              "          + ' to learn more about interactive tables.';\n",
              "        element.innerHTML = '';\n",
              "        dataTable['output_type'] = 'display_data';\n",
              "        await google.colab.output.renderOutput(dataTable, element);\n",
              "        const docLink = document.createElement('div');\n",
              "        docLink.innerHTML = docLinkHtml;\n",
              "        element.appendChild(docLink);\n",
              "      }\n",
              "    </script>\n",
              "  </div>\n",
              "\n",
              "\n",
              "    <div id=\"df-97559054-48b0-4f37-87c5-7461f3b3d05e\">\n",
              "      <button class=\"colab-df-quickchart\" onclick=\"quickchart('df-97559054-48b0-4f37-87c5-7461f3b3d05e')\"\n",
              "                title=\"Suggest charts\"\n",
              "                style=\"display:none;\">\n",
              "\n",
              "<svg xmlns=\"http://www.w3.org/2000/svg\" height=\"24px\"viewBox=\"0 0 24 24\"\n",
              "     width=\"24px\">\n",
              "    <g>\n",
              "        <path d=\"M19 3H5c-1.1 0-2 .9-2 2v14c0 1.1.9 2 2 2h14c1.1 0 2-.9 2-2V5c0-1.1-.9-2-2-2zM9 17H7v-7h2v7zm4 0h-2V7h2v10zm4 0h-2v-4h2v4z\"/>\n",
              "    </g>\n",
              "</svg>\n",
              "      </button>\n",
              "\n",
              "<style>\n",
              "  .colab-df-quickchart {\n",
              "      --bg-color: #E8F0FE;\n",
              "      --fill-color: #1967D2;\n",
              "      --hover-bg-color: #E2EBFA;\n",
              "      --hover-fill-color: #174EA6;\n",
              "      --disabled-fill-color: #AAA;\n",
              "      --disabled-bg-color: #DDD;\n",
              "  }\n",
              "\n",
              "  [theme=dark] .colab-df-quickchart {\n",
              "      --bg-color: #3B4455;\n",
              "      --fill-color: #D2E3FC;\n",
              "      --hover-bg-color: #434B5C;\n",
              "      --hover-fill-color: #FFFFFF;\n",
              "      --disabled-bg-color: #3B4455;\n",
              "      --disabled-fill-color: #666;\n",
              "  }\n",
              "\n",
              "  .colab-df-quickchart {\n",
              "    background-color: var(--bg-color);\n",
              "    border: none;\n",
              "    border-radius: 50%;\n",
              "    cursor: pointer;\n",
              "    display: none;\n",
              "    fill: var(--fill-color);\n",
              "    height: 32px;\n",
              "    padding: 0;\n",
              "    width: 32px;\n",
              "  }\n",
              "\n",
              "  .colab-df-quickchart:hover {\n",
              "    background-color: var(--hover-bg-color);\n",
              "    box-shadow: 0 1px 2px rgba(60, 64, 67, 0.3), 0 1px 3px 1px rgba(60, 64, 67, 0.15);\n",
              "    fill: var(--button-hover-fill-color);\n",
              "  }\n",
              "\n",
              "  .colab-df-quickchart-complete:disabled,\n",
              "  .colab-df-quickchart-complete:disabled:hover {\n",
              "    background-color: var(--disabled-bg-color);\n",
              "    fill: var(--disabled-fill-color);\n",
              "    box-shadow: none;\n",
              "  }\n",
              "\n",
              "  .colab-df-spinner {\n",
              "    border: 2px solid var(--fill-color);\n",
              "    border-color: transparent;\n",
              "    border-bottom-color: var(--fill-color);\n",
              "    animation:\n",
              "      spin 1s steps(1) infinite;\n",
              "  }\n",
              "\n",
              "  @keyframes spin {\n",
              "    0% {\n",
              "      border-color: transparent;\n",
              "      border-bottom-color: var(--fill-color);\n",
              "      border-left-color: var(--fill-color);\n",
              "    }\n",
              "    20% {\n",
              "      border-color: transparent;\n",
              "      border-left-color: var(--fill-color);\n",
              "      border-top-color: var(--fill-color);\n",
              "    }\n",
              "    30% {\n",
              "      border-color: transparent;\n",
              "      border-left-color: var(--fill-color);\n",
              "      border-top-color: var(--fill-color);\n",
              "      border-right-color: var(--fill-color);\n",
              "    }\n",
              "    40% {\n",
              "      border-color: transparent;\n",
              "      border-right-color: var(--fill-color);\n",
              "      border-top-color: var(--fill-color);\n",
              "    }\n",
              "    60% {\n",
              "      border-color: transparent;\n",
              "      border-right-color: var(--fill-color);\n",
              "    }\n",
              "    80% {\n",
              "      border-color: transparent;\n",
              "      border-right-color: var(--fill-color);\n",
              "      border-bottom-color: var(--fill-color);\n",
              "    }\n",
              "    90% {\n",
              "      border-color: transparent;\n",
              "      border-bottom-color: var(--fill-color);\n",
              "    }\n",
              "  }\n",
              "</style>\n",
              "\n",
              "      <script>\n",
              "        async function quickchart(key) {\n",
              "          const quickchartButtonEl =\n",
              "            document.querySelector('#' + key + ' button');\n",
              "          quickchartButtonEl.disabled = true;  // To prevent multiple clicks.\n",
              "          quickchartButtonEl.classList.add('colab-df-spinner');\n",
              "          try {\n",
              "            const charts = await google.colab.kernel.invokeFunction(\n",
              "                'suggestCharts', [key], {});\n",
              "          } catch (error) {\n",
              "            console.error('Error during call to suggestCharts:', error);\n",
              "          }\n",
              "          quickchartButtonEl.classList.remove('colab-df-spinner');\n",
              "          quickchartButtonEl.classList.add('colab-df-quickchart-complete');\n",
              "        }\n",
              "        (() => {\n",
              "          let quickchartButtonEl =\n",
              "            document.querySelector('#df-97559054-48b0-4f37-87c5-7461f3b3d05e button');\n",
              "          quickchartButtonEl.style.display =\n",
              "            google.colab.kernel.accessAllowed ? 'block' : 'none';\n",
              "        })();\n",
              "      </script>\n",
              "    </div>\n",
              "\n",
              "  <div id=\"id_730774bb-5db4-4436-8f80-8862ae93ad84\">\n",
              "    <style>\n",
              "      .colab-df-generate {\n",
              "        background-color: #E8F0FE;\n",
              "        border: none;\n",
              "        border-radius: 50%;\n",
              "        cursor: pointer;\n",
              "        display: none;\n",
              "        fill: #1967D2;\n",
              "        height: 32px;\n",
              "        padding: 0 0 0 0;\n",
              "        width: 32px;\n",
              "      }\n",
              "\n",
              "      .colab-df-generate:hover {\n",
              "        background-color: #E2EBFA;\n",
              "        box-shadow: 0px 1px 2px rgba(60, 64, 67, 0.3), 0px 1px 3px 1px rgba(60, 64, 67, 0.15);\n",
              "        fill: #174EA6;\n",
              "      }\n",
              "\n",
              "      [theme=dark] .colab-df-generate {\n",
              "        background-color: #3B4455;\n",
              "        fill: #D2E3FC;\n",
              "      }\n",
              "\n",
              "      [theme=dark] .colab-df-generate:hover {\n",
              "        background-color: #434B5C;\n",
              "        box-shadow: 0px 1px 3px 1px rgba(0, 0, 0, 0.15);\n",
              "        filter: drop-shadow(0px 1px 2px rgba(0, 0, 0, 0.3));\n",
              "        fill: #FFFFFF;\n",
              "      }\n",
              "    </style>\n",
              "    <button class=\"colab-df-generate\" onclick=\"generateWithVariable('accuracy_df')\"\n",
              "            title=\"Generate code using this dataframe.\"\n",
              "            style=\"display:none;\">\n",
              "\n",
              "  <svg xmlns=\"http://www.w3.org/2000/svg\" height=\"24px\"viewBox=\"0 0 24 24\"\n",
              "       width=\"24px\">\n",
              "    <path d=\"M7,19H8.4L18.45,9,17,7.55,7,17.6ZM5,21V16.75L18.45,3.32a2,2,0,0,1,2.83,0l1.4,1.43a1.91,1.91,0,0,1,.58,1.4,1.91,1.91,0,0,1-.58,1.4L9.25,21ZM18.45,9,17,7.55Zm-12,3A5.31,5.31,0,0,0,4.9,8.1,5.31,5.31,0,0,0,1,6.5,5.31,5.31,0,0,0,4.9,4.9,5.31,5.31,0,0,0,6.5,1,5.31,5.31,0,0,0,8.1,4.9,5.31,5.31,0,0,0,12,6.5,5.46,5.46,0,0,0,6.5,12Z\"/>\n",
              "  </svg>\n",
              "    </button>\n",
              "    <script>\n",
              "      (() => {\n",
              "      const buttonEl =\n",
              "        document.querySelector('#id_730774bb-5db4-4436-8f80-8862ae93ad84 button.colab-df-generate');\n",
              "      buttonEl.style.display =\n",
              "        google.colab.kernel.accessAllowed ? 'block' : 'none';\n",
              "\n",
              "      buttonEl.onclick = () => {\n",
              "        google.colab.notebook.generateWithVariable('accuracy_df');\n",
              "      }\n",
              "      })();\n",
              "    </script>\n",
              "  </div>\n",
              "\n",
              "    </div>\n",
              "  </div>\n"
            ],
            "application/vnd.google.colaboratory.intrinsic+json": {
              "type": "dataframe",
              "variable_name": "accuracy_df",
              "summary": "{\n  \"name\": \"accuracy_df\",\n  \"rows\": 9,\n  \"fields\": [\n    {\n      \"column\": \"Test Size\",\n      \"properties\": {\n        \"dtype\": \"number\",\n        \"std\": 0.2738612787525831,\n        \"min\": 0.1,\n        \"max\": 0.9,\n        \"num_unique_values\": 9,\n        \"samples\": [\n          0.8,\n          0.2,\n          0.6\n        ],\n        \"semantic_type\": \"\",\n        \"description\": \"\"\n      }\n    },\n    {\n      \"column\": \"GaussianNB\",\n      \"properties\": {\n        \"dtype\": \"number\",\n        \"std\": 0.017589047869746476,\n        \"min\": 0.9320175438596491,\n        \"max\": 0.9824561403508771,\n        \"num_unique_values\": 9,\n        \"samples\": [\n          0.9320175438596491,\n          0.9736842105263158,\n          0.9473684210526315\n        ],\n        \"semantic_type\": \"\",\n        \"description\": \"\"\n      }\n    },\n    {\n      \"column\": \"MultinomialNB\",\n      \"properties\": {\n        \"dtype\": \"number\",\n        \"std\": 0.027150582209569604,\n        \"min\": 0.8966861598440545,\n        \"max\": 0.9824561403508771,\n        \"num_unique_values\": 8,\n        \"samples\": [\n          0.9385964912280702,\n          0.9035087719298246,\n          0.9824561403508771\n        ],\n        \"semantic_type\": \"\",\n        \"description\": \"\"\n      }\n    },\n    {\n      \"column\": \"BernoulliNB\",\n      \"properties\": {\n        \"dtype\": \"number\",\n        \"std\": 0.028017067959994042,\n        \"min\": 0.5984405458089669,\n        \"max\": 0.7017543859649122,\n        \"num_unique_values\": 8,\n        \"samples\": [\n          0.6228070175438597,\n          0.6403508771929824,\n          0.7017543859649122\n        ],\n        \"semantic_type\": \"\",\n        \"description\": \"\"\n      }\n    },\n    {\n      \"column\": \"DecisionTree\",\n      \"properties\": {\n        \"dtype\": \"number\",\n        \"std\": 0.022653025663405105,\n        \"min\": 0.8881578947368421,\n        \"max\": 0.9473684210526315,\n        \"num_unique_values\": 9,\n        \"samples\": [\n          0.8881578947368421,\n          0.9473684210526315,\n          0.9269005847953217\n        ],\n        \"semantic_type\": \"\",\n        \"description\": \"\"\n      }\n    }\n  ]\n}"
            }
          },
          "metadata": {}
        },
        {
          "output_type": "display_data",
          "data": {
            "text/plain": [
              "<Figure size 1200x800 with 1 Axes>"
            ],
            "image/png": "[encoded data removed]"
          },
          "metadata": {}
        }
      ]
    },
    {
      "cell_type": "markdown",
      "metadata": {
        "id": "ef710e26"
      },
      "source": [
        "This notebook demonstrates the application of different classification algorithms on two popular datasets: the Iris dataset and the Breast Cancer Wisconsin (Diagnostic) dataset. We will explore Naive Bayes classifiers (Gaussian, Multinomial, and Bernoulli) and Decision Trees, evaluating their performance and visualizing results."
      ]
    },
    {
      "cell_type": "markdown",
      "metadata": {
        "id": "2db58625"
      },
      "source": [
        "## Dataset Loading and Preparation"
      ]
    },
    {
      "cell_type": "markdown",
      "metadata": {
        "id": "9f4cd777"
      },
      "source": [
        "This section focuses on loading the Iris dataset and preparing it for model training. We will fetch the dataset using the `ucimlrepo` library, separate features (X) and targets (y), and then encode the categorical target variable into a numerical format required by most machine learning algorithms."
      ]
    },
    {
      "cell_type": "markdown",
      "metadata": {
        "id": "7736d43c"
      },
      "source": [
        "This code block loads the Iris dataset using the `fetch_ucirepo` function with the dataset ID 53. It then assigns the features to the variable `X` and the target variable to `y`. Finally, it prints the metadata and variable information for the dataset."
      ]
    },
    {
      "cell_type": "markdown",
      "metadata": {
        "id": "bf796a24"
      },
      "source": [
        "This cell displays the first few rows of the features DataFrame (`X`) for the Iris dataset, allowing you to inspect the data structure and content."
      ]
    },
    {
      "cell_type": "markdown",
      "metadata": {
        "id": "3fc80ba9"
      },
      "source": [
        "Here, we use `LabelEncoder` to convert the categorical target variable (species names) into numerical labels. This is a necessary step for many classification algorithms."
      ]
    },
    {
      "cell_type": "markdown",
      "metadata": {
        "id": "495a99d8"
      },
      "source": [
        "This code splits the Iris dataset into training and testing sets using `train_test_split`. The `test_size` is set to 20%, meaning 20% of the data will be used for testing and 80% for training. The `random_state` ensures reproducibility of the split."
      ]
    },
    {
      "cell_type": "markdown",
      "metadata": {
        "id": "452d366f"
      },
      "source": [
        "## Iris Dataset Classification and Evaluation (Naive Bayes)"
      ]
    },
    {
      "cell_type": "markdown",
      "metadata": {
        "id": "8bed5061"
      },
      "source": [
        "This section applies and evaluates different Naive Bayes classifiers on the prepared Iris dataset. Naive Bayes algorithms are probabilistic classifiers based on Bayes' theorem with the \"naive\" assumption of independence between features."
      ]
    },
    {
      "cell_type": "markdown",
      "metadata": {
        "id": "59b7377b"
      },
      "source": [
        "### Gaussian Naive Bayes"
      ]
    },
    {
      "cell_type": "markdown",
      "metadata": {
        "id": "399feb0f"
      },
      "source": [
        "Gaussian Naive Bayes is a variant of Naive Bayes that assumes the features follow a Gaussian (normal) distribution. This code trains a Gaussian Naive Bayes classifier on the Iris training data and then evaluates its performance on the test data using a confusion matrix and a classification report."
      ]
    },
    {
      "cell_type": "markdown",
      "metadata": {
        "id": "aa3d59d4"
      },
      "source": [
        "### Multinomial Naive Bayes"
      ]
    },
    {
      "cell_type": "markdown",
      "metadata": {
        "id": "2478d527"
      },
      "source": [
        "Multinomial Naive Bayes is suitable for features that represent counts or frequencies. Although the Iris dataset has continuous features, it's sometimes used with discretized data. This code trains and evaluates a Multinomial Naive Bayes classifier."
      ]
    },
    {
      "cell_type": "markdown",
      "metadata": {
        "id": "21b3f3de"
      },
      "source": [
        "### Bernoulli Naive Bayes"
      ]
    },
    {
      "cell_type": "markdown",
      "metadata": {
        "id": "45a19897"
      },
      "source": [
        "Bernoulli Naive Bayes is designed for binary features (features that are either present or absent). Applying it to the continuous Iris dataset without discretization may lead to suboptimal results, as observed in the output. This code trains and evaluates a Bernoulli Naive Bayes classifier."
      ]
    },
    {
      "cell_type": "markdown",
      "metadata": {
        "id": "487aa3fa"
      },
      "source": [
        "## Breast Cancer Dataset Loading and Preparation"
      ]
    },
    {
      "cell_type": "markdown",
      "metadata": {
        "id": "d371b134"
      },
      "source": [
        "This section focuses on loading the Breast Cancer Wisconsin (Diagnostic) dataset and preparing it for model training, similar to the Iris dataset."
      ]
    },
    {
      "cell_type": "markdown",
      "metadata": {
        "id": "80966b9f"
      },
      "source": [
        "This code block loads the Breast Cancer dataset using the `fetch_ucirepo` function with the dataset ID 17. It then assigns the features to `X` and the target variable to `y`, and prints the metadata and variable information."
      ]
    },
    {
      "cell_type": "markdown",
      "metadata": {
        "id": "c9f6be56"
      },
      "source": [
        "This cell displays the first few rows of the features DataFrame (`X`) for the Breast Cancer dataset."
      ]
    },
    {
      "cell_type": "markdown",
      "metadata": {
        "id": "f35f7638"
      },
      "source": [
        "Here, we use `LabelEncoder` to convert the categorical target variable (diagnosis: Malignant or Benign) into numerical labels."
      ]
    },
    {
      "cell_type": "markdown",
      "metadata": {
        "id": "20a2b4e5"
      },
      "source": [
        "This code splits the Breast Cancer dataset into training and testing sets using `train_test_split`. The `test_size` is set to 20%, and `random_state` ensures reproducibility."
      ]
    },
    {
      "cell_type": "markdown",
      "metadata": {
        "id": "72d387aa"
      },
      "source": [
        "## Breast Cancer Dataset Classification and Evaluation (Naive Bayes)"
      ]
    },
    {
      "cell_type": "markdown",
      "metadata": {
        "id": "3f12b600"
      },
      "source": [
        "This section applies and evaluates different Naive Bayes classifiers on the prepared Breast Cancer dataset."
      ]
    },
    {
      "cell_type": "markdown",
      "metadata": {
        "id": "903cc662"
      },
      "source": [
        "### Gaussian Naive Bayes"
      ]
    },
    {
      "cell_type": "markdown",
      "metadata": {
        "id": "19e7dd17"
      },
      "source": [
        "This code trains and evaluates a Gaussian Naive Bayes classifier on the Breast Cancer dataset."
      ]
    },
    {
      "cell_type": "markdown",
      "metadata": {
        "id": "3920e25d"
      },
      "source": [
        "### Multinomial Naive Bayes"
      ]
    },
    {
      "cell_type": "markdown",
      "metadata": {
        "id": "51c57ad6"
      },
      "source": [
        "This code trains and evaluates a Multinomial Naive Bayes classifier on the Breast Cancer dataset."
      ]
    },
    {
      "cell_type": "markdown",
      "metadata": {
        "id": "39cdcb12"
      },
      "source": [
        "### Bernoulli Naive Bayes"
      ]
    },
    {
      "cell_type": "markdown",
      "metadata": {
        "id": "56d2546b"
      },
      "source": [
        "This code trains and evaluates a Bernoulli Naive Bayes classifier on the Breast Cancer dataset."
      ]
    },
    {
      "cell_type": "markdown",
      "metadata": {
        "id": "35227e92"
      },
      "source": [
        "## Decision Tree Classifier"
      ]
    },
    {
      "cell_type": "markdown",
      "metadata": {
        "id": "d6910696"
      },
      "source": [
        "Decision Trees are non-parametric supervised learning algorithms used for classification and regression. This section applies Decision Tree classifiers to both the Iris and Breast Cancer datasets."
      ]
    },
    {
      "cell_type": "markdown",
      "metadata": {
        "id": "77bc2979"
      },
      "source": [
        "### Iris Dataset Decision Tree Classifier"
      ]
    },
    {
      "cell_type": "markdown",
      "metadata": {
        "id": "644071c7"
      },
      "source": [
        "This code trains a Decision Tree classifier on the Iris dataset and evaluates its performance."
      ]
    },
    {
      "cell_type": "markdown",
      "metadata": {
        "id": "515ebf06"
      },
      "source": [
        "This code generates and displays a visualization of the trained Decision Tree for the Iris dataset."
      ]
    },
    {
      "cell_type": "markdown",
      "metadata": {
        "id": "0e6b598b"
      },
      "source": [
        "### Breast Cancer Dataset Decision Tree Classifier"
      ]
    },
    {
      "cell_type": "markdown",
      "metadata": {
        "id": "73a403b8"
      },
      "source": [
        "This code trains a Decision Tree classifier on the Breast Cancer dataset and evaluates its performance."
      ]
    },
    {
      "cell_type": "markdown",
      "metadata": {
        "id": "0e5c7130"
      },
      "source": [
        "This code generates and displays a visualization of the trained Decision Tree for the Breast Cancer dataset."
      ]
    },
    {
      "cell_type": "markdown",
      "metadata": {
        "id": "37077bed"
      },
      "source": [
        "## Accuracy Analysis Across Test Sizes"
      ]
    },
    {
      "cell_type": "markdown",
      "metadata": {
        "id": "20693714"
      },
      "source": [
        "This section analyzes how the accuracy of different classifiers varies with different test set sizes for both datasets."
      ]
    },
    {
      "cell_type": "markdown",
      "metadata": {
        "id": "2dd3b5e1"
      },
      "source": [
        "### Test Accuracy for Iris Dataset"
      ]
    },
    {
      "cell_type": "markdown",
      "metadata": {
        "id": "9e2bb66c"
      },
      "source": [
        "This code calculates and plots the accuracy of Gaussian Naive Bayes, Multinomial Naive Bayes, Bernoulli Naive Bayes, and Decision Tree classifiers on the Iris dataset for test sizes ranging from 10% to 90%. The results are presented in a table and a line plot."
      ]
    },
    {
      "cell_type": "markdown",
      "metadata": {
        "id": "93e8e2e2"
      },
      "source": [
        "### Test Accuracy for Breast Cancer Dataset"
      ]
    },
    {
      "cell_type": "markdown",
      "metadata": {
        "id": "24e0bb31"
      },
      "source": [
        "This code calculates and plots the accuracy of Gaussian Naive Bayes, Multinomial Naive Bayes, Bernoulli Naive Bayes, and Decision Tree classifiers on the Breast Cancer dataset for test sizes ranging from 10% to 90%. The results are presented in a table and a line plot."
      ]
    }
  ]
}